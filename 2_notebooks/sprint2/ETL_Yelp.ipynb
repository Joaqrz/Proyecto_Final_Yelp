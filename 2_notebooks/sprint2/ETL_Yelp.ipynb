{
 "cells": [
  {
   "cell_type": "markdown",
   "metadata": {},
   "source": [
    "**LIBRERIAS**"
   ]
  },
  {
   "cell_type": "code",
   "execution_count": 3,
   "metadata": {},
   "outputs": [],
   "source": [
    "import pickle\n",
    "import pandas as pd\n",
    "import numpy as np\n",
    "import json\n",
    "import matplotlib.pyplot as plt\n",
    "import seaborn as sns\n",
    "from vaderSentiment.vaderSentiment import SentimentIntensityAnalyzer"
   ]
  },
  {
   "cell_type": "markdown",
   "metadata": {},
   "source": [
    "**CARGA DE LOS ARCHIVOS PARQUET**"
   ]
  },
  {
   "cell_type": "code",
   "execution_count": 4,
   "metadata": {},
   "outputs": [],
   "source": [
    "\n",
    "# Ruta del archivo Parquet\n",
    "ruta_business_parquet = r'D:\\Yelp\\raw_data_parquet\\business.parquet'\n",
    "\n",
    "# Cargar el archivo Parquet en un DataFrame\n",
    "df_business = pd.read_parquet(ruta_business_parquet)\n",
    "\n",
    "#Ruta del archivo Parquet\n",
    "ruta_checkin_parquet = r'D:\\Yelp\\raw_data_parquet\\checkin.parquet'\n",
    "\n",
    "# Cargar el archivo Parquet en un DataFrame\n",
    "df_checkin = pd.read_parquet(ruta_checkin_parquet)\n",
    "\n",
    "#Ruta del archivo Parquet\n",
    "ruta_tip_parquet = r'D:\\Yelp\\raw_data_parquet\\tip.parquet'\n",
    "\n",
    "# Cargar el archivo Parquet en un DataFrame\n",
    "df_tip = pd.read_parquet(ruta_tip_parquet)\n",
    "\n"
   ]
  },
  {
   "cell_type": "markdown",
   "metadata": {},
   "source": [
    "Escogí el chunk 3 de Review, y el chunk 1 de Users para hacer el EDA"
   ]
  },
  {
   "cell_type": "code",
   "execution_count": 5,
   "metadata": {},
   "outputs": [],
   "source": [
    "#Ruta del archivo Parquet\n",
    "ruta_reviews_parquet = r'D:\\Yelp\\raw_data_parquet\\Reviews\\chunk_3.parquet'\n",
    "\n",
    "# Cargar el archivo Parquet en un DataFrame\n",
    "df_reviews = pd.read_parquet(ruta_reviews_parquet)\n"
   ]
  },
  {
   "cell_type": "code",
   "execution_count": 6,
   "metadata": {},
   "outputs": [],
   "source": [
    "\n",
    "#Ruta del archivo Parquet\n",
    "ruta_users_parquet = r'D:\\Yelp\\raw_data_parquet\\Users\\user-002_chunk_1.parquet'\n",
    "\n",
    "# Cargar el archivo Parquet en un DataFrame\n",
    "df_users = pd.read_parquet(ruta_users_parquet)"
   ]
  },
  {
   "cell_type": "markdown",
   "metadata": {},
   "source": [
    "## Limpieza dataset Bussiness YELP ##"
   ]
  },
  {
   "cell_type": "code",
   "execution_count": 7,
   "metadata": {},
   "outputs": [],
   "source": [
    "# En el EDA previo se ha decidido en conjunto dejar los estados  'FL', 'PA' y 'TN'\n",
    "estados_deseados = ['FL', 'PA' ,'TN']\n",
    "\n",
    "# Filtrar el DataFrame df_business para mantener solo las filas donde el estado está en la lista estados_deseados\n",
    "df_business_filtrado = df_business[df_business['state'].isin(estados_deseados)]"
   ]
  },
  {
   "cell_type": "code",
   "execution_count": 8,
   "metadata": {},
   "outputs": [
    {
     "data": {
      "text/plain": [
       "(72424, 14)"
      ]
     },
     "execution_count": 8,
     "metadata": {},
     "output_type": "execute_result"
    }
   ],
   "source": [
    "df_business_filtrado.shape"
   ]
  },
  {
   "cell_type": "code",
   "execution_count": 9,
   "metadata": {},
   "outputs": [
    {
     "data": {
      "text/plain": [
       "business_id         0\n",
       "name                0\n",
       "address             0\n",
       "city                0\n",
       "state               0\n",
       "postal_code         0\n",
       "latitude            0\n",
       "longitude           0\n",
       "stars               0\n",
       "review_count        0\n",
       "is_open             0\n",
       "attributes       6683\n",
       "categories         55\n",
       "hours           11241\n",
       "dtype: int64"
      ]
     },
     "execution_count": 9,
     "metadata": {},
     "output_type": "execute_result"
    }
   ],
   "source": [
    "df_business_filtrado.isnull().sum()"
   ]
  },
  {
   "cell_type": "code",
   "execution_count": 10,
   "metadata": {},
   "outputs": [
    {
     "data": {
      "text/html": [
       "<div>\n",
       "<style scoped>\n",
       "    .dataframe tbody tr th:only-of-type {\n",
       "        vertical-align: middle;\n",
       "    }\n",
       "\n",
       "    .dataframe tbody tr th {\n",
       "        vertical-align: top;\n",
       "    }\n",
       "\n",
       "    .dataframe thead th {\n",
       "        text-align: right;\n",
       "    }\n",
       "</style>\n",
       "<table border=\"1\" class=\"dataframe\">\n",
       "  <thead>\n",
       "    <tr style=\"text-align: right;\">\n",
       "      <th></th>\n",
       "      <th>attributes</th>\n",
       "      <th>categories</th>\n",
       "      <th>hours</th>\n",
       "    </tr>\n",
       "    <tr>\n",
       "      <th>index</th>\n",
       "      <th></th>\n",
       "      <th></th>\n",
       "      <th></th>\n",
       "    </tr>\n",
       "  </thead>\n",
       "  <tbody>\n",
       "    <tr>\n",
       "      <th>6</th>\n",
       "      <td>{'BusinessAcceptsCreditCards': 'True', 'Restau...</td>\n",
       "      <td>Sporting Goods, Fashion, Shoe Stores, Shopping...</td>\n",
       "      <td>{'Monday': '0:0-0:0', 'Tuesday': '10:0-18:0', ...</td>\n",
       "    </tr>\n",
       "    <tr>\n",
       "      <th>7</th>\n",
       "      <td>None</td>\n",
       "      <td>Synagogues, Religious Organizations</td>\n",
       "      <td>{'Monday': '9:0-17:0', 'Tuesday': '9:0-17:0', ...</td>\n",
       "    </tr>\n",
       "    <tr>\n",
       "      <th>8</th>\n",
       "      <td>{'Caters': 'True', 'Alcohol': 'u'full_bar'', '...</td>\n",
       "      <td>Pubs, Restaurants, Italian, Bars, American (Tr...</td>\n",
       "      <td>None</td>\n",
       "    </tr>\n",
       "    <tr>\n",
       "      <th>10</th>\n",
       "      <td>{'RestaurantsPriceRange2': '2', 'BikeParking':...</td>\n",
       "      <td>Department Stores, Shopping, Fashion</td>\n",
       "      <td>{'Monday': '9:30-21:30', 'Tuesday': '9:30-21:3...</td>\n",
       "    </tr>\n",
       "    <tr>\n",
       "      <th>12</th>\n",
       "      <td>{'RestaurantsReservations': 'False', 'Restaura...</td>\n",
       "      <td>American (Traditional), Restaurants, Diners, B...</td>\n",
       "      <td>{'Monday': '6:0-22:0', 'Tuesday': '6:0-22:0', ...</td>\n",
       "    </tr>\n",
       "  </tbody>\n",
       "</table>\n",
       "</div>"
      ],
      "text/plain": [
       "                                              attributes  \\\n",
       "index                                                      \n",
       "6      {'BusinessAcceptsCreditCards': 'True', 'Restau...   \n",
       "7                                                   None   \n",
       "8      {'Caters': 'True', 'Alcohol': 'u'full_bar'', '...   \n",
       "10     {'RestaurantsPriceRange2': '2', 'BikeParking':...   \n",
       "12     {'RestaurantsReservations': 'False', 'Restaura...   \n",
       "\n",
       "                                              categories  \\\n",
       "index                                                      \n",
       "6      Sporting Goods, Fashion, Shoe Stores, Shopping...   \n",
       "7                    Synagogues, Religious Organizations   \n",
       "8      Pubs, Restaurants, Italian, Bars, American (Tr...   \n",
       "10                  Department Stores, Shopping, Fashion   \n",
       "12     American (Traditional), Restaurants, Diners, B...   \n",
       "\n",
       "                                                   hours  \n",
       "index                                                     \n",
       "6      {'Monday': '0:0-0:0', 'Tuesday': '10:0-18:0', ...  \n",
       "7      {'Monday': '9:0-17:0', 'Tuesday': '9:0-17:0', ...  \n",
       "8                                                   None  \n",
       "10     {'Monday': '9:30-21:30', 'Tuesday': '9:30-21:3...  \n",
       "12     {'Monday': '6:0-22:0', 'Tuesday': '6:0-22:0', ...  "
      ]
     },
     "execution_count": 10,
     "metadata": {},
     "output_type": "execute_result"
    }
   ],
   "source": [
    "df_business_filtrado[[\"attributes\", \"categories\", \"hours\"]][:5]"
   ]
  },
  {
   "cell_type": "markdown",
   "metadata": {},
   "source": [
    "Tras examinar datos nulos, que representan el 5,1% del dataset; distribuidos en tres columnas **`Altura`**, **`Dirección Normalizada`**, **`Cruce`** y **`Calle`**. \n",
    "- Para el caso de **`attributes`** tiene 6683 datos nulos, un 9.27% .\n",
    "- Para el caso de  **`categories`** tiene 55 datos nulos, un 0.075% de los datos de la columna \n",
    "- Para el caso de **`hours`** tiene 11241 nulos, siendo el 15.52% del los datos de la columna.\n",
    "\n",
    "Analizando los datos de la `hours` se procede a eliminarla debido a la gran cantidad de faltantes y no existiendo manera de poder rellenar los datos; \n",
    "La columna `categories` no tiene posibilidad de completarse con las columnas del dataset; pero contiene solo 0.075% de nulos por lo se conserva de esta manera."
   ]
  },
  {
   "cell_type": "code",
   "execution_count": 11,
   "metadata": {},
   "outputs": [
    {
     "name": "stdout",
     "output_type": "stream",
     "text": [
      "<class 'pandas.core.frame.DataFrame'>\n",
      "Index: 72424 entries, 6 to 150345\n",
      "Data columns (total 13 columns):\n",
      " #   Column        Non-Null Count  Dtype  \n",
      "---  ------        --------------  -----  \n",
      " 0   business_id   72424 non-null  object \n",
      " 1   name          72424 non-null  object \n",
      " 2   address       72424 non-null  object \n",
      " 3   city          72424 non-null  object \n",
      " 4   state         72424 non-null  object \n",
      " 5   postal_code   72424 non-null  object \n",
      " 6   latitude      72424 non-null  float64\n",
      " 7   longitude     72424 non-null  float64\n",
      " 8   stars         72424 non-null  float64\n",
      " 9   review_count  72424 non-null  int64  \n",
      " 10  is_open       72424 non-null  int64  \n",
      " 11  attributes    65741 non-null  object \n",
      " 12  categories    72369 non-null  object \n",
      "dtypes: float64(3), int64(2), object(8)\n",
      "memory usage: 7.7+ MB\n"
     ]
    },
    {
     "name": "stderr",
     "output_type": "stream",
     "text": [
      "C:\\Users\\Administrador\\AppData\\Local\\Temp\\ipykernel_15140\\2741161340.py:1: SettingWithCopyWarning: \n",
      "A value is trying to be set on a copy of a slice from a DataFrame\n",
      "\n",
      "See the caveats in the documentation: https://pandas.pydata.org/pandas-docs/stable/user_guide/indexing.html#returning-a-view-versus-a-copy\n",
      "  df_business_filtrado.drop(columns=['hours'],inplace=True)\n"
     ]
    },
    {
     "data": {
      "text/plain": [
       "Index(['business_id', 'name', 'address', 'city', 'state', 'postal_code',\n",
       "       'latitude', 'longitude', 'stars', 'review_count', 'is_open',\n",
       "       'attributes', 'categories'],\n",
       "      dtype='object')"
      ]
     },
     "execution_count": 11,
     "metadata": {},
     "output_type": "execute_result"
    }
   ],
   "source": [
    "df_business_filtrado.drop(columns=['hours'],inplace=True)\n",
    "df_business_filtrado.info()\n",
    "df_business_filtrado.columns"
   ]
  },
  {
   "cell_type": "markdown",
   "metadata": {},
   "source": [
    "## Transformación dataset Bussiness YELP"
   ]
  },
  {
   "cell_type": "code",
   "execution_count": 12,
   "metadata": {},
   "outputs": [
    {
     "name": "stdout",
     "output_type": "stream",
     "text": [
      "business_id      object\n",
      "name             object\n",
      "address          object\n",
      "city             object\n",
      "state            object\n",
      "postal_code      object\n",
      "latitude        float64\n",
      "longitude       float64\n",
      "stars           float64\n",
      "review_count      int64\n",
      "is_open           int64\n",
      "attributes       object\n",
      "categories       object\n",
      "dtype: object\n"
     ]
    }
   ],
   "source": [
    "# Consultar el tipo de dato de cada columna\n",
    "tipos_de_dato = df_business_filtrado.dtypes\n",
    "\n",
    "# Imprimir los tipos de dato de cada columna\n",
    "print(tipos_de_dato)"
   ]
  },
  {
   "cell_type": "markdown",
   "metadata": {},
   "source": [
    "**EL DATASET DE BUSINESS**"
   ]
  },
  {
   "cell_type": "code",
   "execution_count": 13,
   "metadata": {},
   "outputs": [
    {
     "data": {
      "text/html": [
       "<div>\n",
       "<style scoped>\n",
       "    .dataframe tbody tr th:only-of-type {\n",
       "        vertical-align: middle;\n",
       "    }\n",
       "\n",
       "    .dataframe tbody tr th {\n",
       "        vertical-align: top;\n",
       "    }\n",
       "\n",
       "    .dataframe thead th {\n",
       "        text-align: right;\n",
       "    }\n",
       "</style>\n",
       "<table border=\"1\" class=\"dataframe\">\n",
       "  <thead>\n",
       "    <tr style=\"text-align: right;\">\n",
       "      <th></th>\n",
       "      <th>business_id</th>\n",
       "      <th>name</th>\n",
       "      <th>address</th>\n",
       "      <th>city</th>\n",
       "      <th>state</th>\n",
       "      <th>postal_code</th>\n",
       "      <th>latitude</th>\n",
       "      <th>longitude</th>\n",
       "      <th>stars</th>\n",
       "      <th>review_count</th>\n",
       "      <th>is_open</th>\n",
       "      <th>attributes</th>\n",
       "      <th>categories</th>\n",
       "    </tr>\n",
       "    <tr>\n",
       "      <th>index</th>\n",
       "      <th></th>\n",
       "      <th></th>\n",
       "      <th></th>\n",
       "      <th></th>\n",
       "      <th></th>\n",
       "      <th></th>\n",
       "      <th></th>\n",
       "      <th></th>\n",
       "      <th></th>\n",
       "      <th></th>\n",
       "      <th></th>\n",
       "      <th></th>\n",
       "      <th></th>\n",
       "    </tr>\n",
       "  </thead>\n",
       "  <tbody>\n",
       "    <tr>\n",
       "      <th>6</th>\n",
       "      <td>n_0UpQx1hsNbnPUSlodU8w</td>\n",
       "      <td>Famous Footwear</td>\n",
       "      <td>8522 Eager Road, Dierbergs Brentwood Point</td>\n",
       "      <td>Brentwood</td>\n",
       "      <td>PA</td>\n",
       "      <td>63144</td>\n",
       "      <td>38.627695</td>\n",
       "      <td>-90.340465</td>\n",
       "      <td>2.5</td>\n",
       "      <td>13</td>\n",
       "      <td>1</td>\n",
       "      <td>{'BusinessAcceptsCreditCards': 'True', 'Restau...</td>\n",
       "      <td>Sporting Goods, Fashion, Shoe Stores, Shopping...</td>\n",
       "    </tr>\n",
       "    <tr>\n",
       "      <th>7</th>\n",
       "      <td>qkRM_2X51Yqxk3btlwAQIg</td>\n",
       "      <td>Temple Beth-El</td>\n",
       "      <td>400 Pasadena Ave S</td>\n",
       "      <td>St. Petersburg</td>\n",
       "      <td>PA</td>\n",
       "      <td>33707</td>\n",
       "      <td>27.766590</td>\n",
       "      <td>-82.732983</td>\n",
       "      <td>3.5</td>\n",
       "      <td>5</td>\n",
       "      <td>1</td>\n",
       "      <td>None</td>\n",
       "      <td>Synagogues, Religious Organizations</td>\n",
       "    </tr>\n",
       "    <tr>\n",
       "      <th>8</th>\n",
       "      <td>k0hlBqXX-Bt0vf1op7Jr1w</td>\n",
       "      <td>Tsevi's Pub And Grill</td>\n",
       "      <td>8025 Mackenzie Rd</td>\n",
       "      <td>Affton</td>\n",
       "      <td>TN</td>\n",
       "      <td>63123</td>\n",
       "      <td>38.565165</td>\n",
       "      <td>-90.321087</td>\n",
       "      <td>3.0</td>\n",
       "      <td>19</td>\n",
       "      <td>0</td>\n",
       "      <td>{'Caters': 'True', 'Alcohol': 'u'full_bar'', '...</td>\n",
       "      <td>Pubs, Restaurants, Italian, Bars, American (Tr...</td>\n",
       "    </tr>\n",
       "    <tr>\n",
       "      <th>10</th>\n",
       "      <td>UJsufbvfyfONHeWdvAHKjA</td>\n",
       "      <td>Marshalls</td>\n",
       "      <td>21705 Village Lakes Sc Dr</td>\n",
       "      <td>Land O' Lakes</td>\n",
       "      <td>FL</td>\n",
       "      <td>34639</td>\n",
       "      <td>28.190459</td>\n",
       "      <td>-82.457380</td>\n",
       "      <td>3.5</td>\n",
       "      <td>6</td>\n",
       "      <td>1</td>\n",
       "      <td>{'RestaurantsPriceRange2': '2', 'BikeParking':...</td>\n",
       "      <td>Department Stores, Shopping, Fashion</td>\n",
       "    </tr>\n",
       "    <tr>\n",
       "      <th>12</th>\n",
       "      <td>il_Ro8jwPlHresjw9EGmBg</td>\n",
       "      <td>Denny's</td>\n",
       "      <td>8901 US 31 S</td>\n",
       "      <td>Indianapolis</td>\n",
       "      <td>TN</td>\n",
       "      <td>46227</td>\n",
       "      <td>39.637133</td>\n",
       "      <td>-86.127217</td>\n",
       "      <td>2.5</td>\n",
       "      <td>28</td>\n",
       "      <td>1</td>\n",
       "      <td>{'RestaurantsReservations': 'False', 'Restaura...</td>\n",
       "      <td>American (Traditional), Restaurants, Diners, B...</td>\n",
       "    </tr>\n",
       "  </tbody>\n",
       "</table>\n",
       "</div>"
      ],
      "text/plain": [
       "                  business_id                   name  \\\n",
       "index                                                  \n",
       "6      n_0UpQx1hsNbnPUSlodU8w        Famous Footwear   \n",
       "7      qkRM_2X51Yqxk3btlwAQIg         Temple Beth-El   \n",
       "8      k0hlBqXX-Bt0vf1op7Jr1w  Tsevi's Pub And Grill   \n",
       "10     UJsufbvfyfONHeWdvAHKjA              Marshalls   \n",
       "12     il_Ro8jwPlHresjw9EGmBg                Denny's   \n",
       "\n",
       "                                          address            city state  \\\n",
       "index                                                                     \n",
       "6      8522 Eager Road, Dierbergs Brentwood Point       Brentwood    PA   \n",
       "7                              400 Pasadena Ave S  St. Petersburg    PA   \n",
       "8                               8025 Mackenzie Rd          Affton    TN   \n",
       "10                      21705 Village Lakes Sc Dr   Land O' Lakes    FL   \n",
       "12                                   8901 US 31 S    Indianapolis    TN   \n",
       "\n",
       "      postal_code   latitude  longitude  stars  review_count  is_open  \\\n",
       "index                                                                   \n",
       "6           63144  38.627695 -90.340465    2.5            13        1   \n",
       "7           33707  27.766590 -82.732983    3.5             5        1   \n",
       "8           63123  38.565165 -90.321087    3.0            19        0   \n",
       "10          34639  28.190459 -82.457380    3.5             6        1   \n",
       "12          46227  39.637133 -86.127217    2.5            28        1   \n",
       "\n",
       "                                              attributes  \\\n",
       "index                                                      \n",
       "6      {'BusinessAcceptsCreditCards': 'True', 'Restau...   \n",
       "7                                                   None   \n",
       "8      {'Caters': 'True', 'Alcohol': 'u'full_bar'', '...   \n",
       "10     {'RestaurantsPriceRange2': '2', 'BikeParking':...   \n",
       "12     {'RestaurantsReservations': 'False', 'Restaura...   \n",
       "\n",
       "                                              categories  \n",
       "index                                                     \n",
       "6      Sporting Goods, Fashion, Shoe Stores, Shopping...  \n",
       "7                    Synagogues, Religious Organizations  \n",
       "8      Pubs, Restaurants, Italian, Bars, American (Tr...  \n",
       "10                  Department Stores, Shopping, Fashion  \n",
       "12     American (Traditional), Restaurants, Diners, B...  "
      ]
     },
     "execution_count": 13,
     "metadata": {},
     "output_type": "execute_result"
    }
   ],
   "source": [
    "df_business_filtrado.head()"
   ]
  },
  {
   "cell_type": "code",
   "execution_count": 14,
   "metadata": {},
   "outputs": [
    {
     "name": "stdout",
     "output_type": "stream",
     "text": [
      "<class 'pandas.core.frame.DataFrame'>\n",
      "Index: 72424 entries, 6 to 150345\n",
      "Data columns (total 13 columns):\n",
      " #   Column        Non-Null Count  Dtype  \n",
      "---  ------        --------------  -----  \n",
      " 0   business_id   72424 non-null  object \n",
      " 1   name          72424 non-null  object \n",
      " 2   address       72424 non-null  object \n",
      " 3   city          72424 non-null  object \n",
      " 4   state         72424 non-null  object \n",
      " 5   postal_code   72424 non-null  object \n",
      " 6   latitude      72424 non-null  float64\n",
      " 7   longitude     72424 non-null  float64\n",
      " 8   stars         72424 non-null  float64\n",
      " 9   review_count  72424 non-null  int64  \n",
      " 10  is_open       72424 non-null  int64  \n",
      " 11  attributes    65741 non-null  object \n",
      " 12  categories    72369 non-null  object \n",
      "dtypes: float64(3), int64(2), object(8)\n",
      "memory usage: 7.7+ MB\n"
     ]
    }
   ],
   "source": [
    "df_business_filtrado.info()"
   ]
  },
  {
   "cell_type": "code",
   "execution_count": 15,
   "metadata": {},
   "outputs": [
    {
     "name": "stdout",
     "output_type": "stream",
     "text": [
      "Coordenadas inválidas:\n",
      "Empty DataFrame\n",
      "Columns: [business_id, name, address, city, state, postal_code, latitude, longitude, stars, review_count, is_open, attributes, categories]\n",
      "Index: []\n"
     ]
    }
   ],
   "source": [
    "# Suponiendo que df_business_filtrado es tu DataFrame\n",
    "# Verificar el rango de valores\n",
    "valid_lat_range = (-90, 90)\n",
    "valid_long_range = (-180, 180)\n",
    "\n",
    "# Verificar si las coordenadas están dentro del rango válido\n",
    "valid_lat = df_business_filtrado['latitude'].between(*valid_lat_range)\n",
    "valid_long = df_business_filtrado['longitude'].between(*valid_long_range)\n",
    "\n",
    "# Filtrar las filas que no cumplen con los rangos válidos\n",
    "invalid_coords = df_business_filtrado[~(valid_lat & valid_long)]\n",
    "\n",
    "# Mostrar las filas con coordenadas inválidas\n",
    "print(\"Coordenadas inválidas:\")\n",
    "print(invalid_coords)"
   ]
  },
  {
   "cell_type": "markdown",
   "metadata": {},
   "source": [
    "## Limpieza dataset TIPS YELP ##"
   ]
  },
  {
   "cell_type": "code",
   "execution_count": 16,
   "metadata": {},
   "outputs": [
    {
     "data": {
      "text/plain": [
       "(908915, 5)"
      ]
     },
     "execution_count": 16,
     "metadata": {},
     "output_type": "execute_result"
    }
   ],
   "source": [
    "df_tip.shape"
   ]
  },
  {
   "cell_type": "code",
   "execution_count": 17,
   "metadata": {},
   "outputs": [
    {
     "data": {
      "text/plain": [
       "user_id             0\n",
       "business_id         0\n",
       "text                0\n",
       "date                0\n",
       "compliment_count    0\n",
       "dtype: int64"
      ]
     },
     "execution_count": 17,
     "metadata": {},
     "output_type": "execute_result"
    }
   ],
   "source": [
    "df_tip.isnull().sum()"
   ]
  },
  {
   "cell_type": "code",
   "execution_count": 18,
   "metadata": {},
   "outputs": [
    {
     "name": "stdout",
     "output_type": "stream",
     "text": [
      "<class 'pandas.core.frame.DataFrame'>\n",
      "RangeIndex: 908915 entries, 0 to 908914\n",
      "Data columns (total 5 columns):\n",
      " #   Column            Non-Null Count   Dtype \n",
      "---  ------            --------------   ----- \n",
      " 0   user_id           908915 non-null  object\n",
      " 1   business_id       908915 non-null  object\n",
      " 2   text              908915 non-null  object\n",
      " 3   date              908915 non-null  object\n",
      " 4   compliment_count  908915 non-null  int64 \n",
      "dtypes: int64(1), object(4)\n",
      "memory usage: 34.7+ MB\n"
     ]
    }
   ],
   "source": [
    "df_tip.info()"
   ]
  },
  {
   "cell_type": "code",
   "execution_count": 19,
   "metadata": {},
   "outputs": [
    {
     "data": {
      "text/html": [
       "<div>\n",
       "<style scoped>\n",
       "    .dataframe tbody tr th:only-of-type {\n",
       "        vertical-align: middle;\n",
       "    }\n",
       "\n",
       "    .dataframe tbody tr th {\n",
       "        vertical-align: top;\n",
       "    }\n",
       "\n",
       "    .dataframe thead th {\n",
       "        text-align: right;\n",
       "    }\n",
       "</style>\n",
       "<table border=\"1\" class=\"dataframe\">\n",
       "  <thead>\n",
       "    <tr style=\"text-align: right;\">\n",
       "      <th></th>\n",
       "      <th>user_id</th>\n",
       "      <th>business_id</th>\n",
       "      <th>text</th>\n",
       "      <th>date</th>\n",
       "      <th>compliment_count</th>\n",
       "    </tr>\n",
       "  </thead>\n",
       "  <tbody>\n",
       "    <tr>\n",
       "      <th>0</th>\n",
       "      <td>AGNUgVwnZUey3gcPCJ76iw</td>\n",
       "      <td>3uLgwr0qeCNMjKenHJwPGQ</td>\n",
       "      <td>Avengers time with the ladies.</td>\n",
       "      <td>2012-05-18 02:17:21</td>\n",
       "      <td>0</td>\n",
       "    </tr>\n",
       "    <tr>\n",
       "      <th>1</th>\n",
       "      <td>NBN4MgHP9D3cw--SnauTkA</td>\n",
       "      <td>QoezRbYQncpRqyrLH6Iqjg</td>\n",
       "      <td>They have lots of good deserts and tasty cuban...</td>\n",
       "      <td>2013-02-05 18:35:10</td>\n",
       "      <td>0</td>\n",
       "    </tr>\n",
       "    <tr>\n",
       "      <th>2</th>\n",
       "      <td>-copOvldyKh1qr-vzkDEvw</td>\n",
       "      <td>MYoRNLb5chwjQe3c_k37Gg</td>\n",
       "      <td>It's open even when you think it isn't</td>\n",
       "      <td>2013-08-18 00:56:08</td>\n",
       "      <td>0</td>\n",
       "    </tr>\n",
       "    <tr>\n",
       "      <th>3</th>\n",
       "      <td>FjMQVZjSqY8syIO-53KFKw</td>\n",
       "      <td>hV-bABTK-glh5wj31ps_Jw</td>\n",
       "      <td>Very decent fried chicken</td>\n",
       "      <td>2017-06-27 23:05:38</td>\n",
       "      <td>0</td>\n",
       "    </tr>\n",
       "    <tr>\n",
       "      <th>4</th>\n",
       "      <td>ld0AperBXk1h6UbqmM80zw</td>\n",
       "      <td>_uN0OudeJ3Zl_tf6nxg5ww</td>\n",
       "      <td>Appetizers.. platter special for lunch</td>\n",
       "      <td>2012-10-06 19:43:09</td>\n",
       "      <td>0</td>\n",
       "    </tr>\n",
       "  </tbody>\n",
       "</table>\n",
       "</div>"
      ],
      "text/plain": [
       "                  user_id             business_id  \\\n",
       "0  AGNUgVwnZUey3gcPCJ76iw  3uLgwr0qeCNMjKenHJwPGQ   \n",
       "1  NBN4MgHP9D3cw--SnauTkA  QoezRbYQncpRqyrLH6Iqjg   \n",
       "2  -copOvldyKh1qr-vzkDEvw  MYoRNLb5chwjQe3c_k37Gg   \n",
       "3  FjMQVZjSqY8syIO-53KFKw  hV-bABTK-glh5wj31ps_Jw   \n",
       "4  ld0AperBXk1h6UbqmM80zw  _uN0OudeJ3Zl_tf6nxg5ww   \n",
       "\n",
       "                                                text                 date  \\\n",
       "0                     Avengers time with the ladies.  2012-05-18 02:17:21   \n",
       "1  They have lots of good deserts and tasty cuban...  2013-02-05 18:35:10   \n",
       "2             It's open even when you think it isn't  2013-08-18 00:56:08   \n",
       "3                          Very decent fried chicken  2017-06-27 23:05:38   \n",
       "4             Appetizers.. platter special for lunch  2012-10-06 19:43:09   \n",
       "\n",
       "   compliment_count  \n",
       "0                 0  \n",
       "1                 0  \n",
       "2                 0  \n",
       "3                 0  \n",
       "4                 0  "
      ]
     },
     "execution_count": 19,
     "metadata": {},
     "output_type": "execute_result"
    }
   ],
   "source": [
    "df_tip.head() "
   ]
  },
  {
   "cell_type": "markdown",
   "metadata": {},
   "source": [
    "## Transformación dataset TIPS YELP"
   ]
  },
  {
   "cell_type": "code",
   "execution_count": 20,
   "metadata": {},
   "outputs": [
    {
     "data": {
      "text/plain": [
       "(907325, 5)"
      ]
     },
     "execution_count": 20,
     "metadata": {},
     "output_type": "execute_result"
    }
   ],
   "source": [
    "# Suponiendo que df_tip es tu DataFrame\n",
    "# Convierte la columna 'date' a tipo datetime si aún no lo has hecho\n",
    "df_tip['date'] = pd.to_datetime(df_tip['date'])\n",
    "\n",
    "# Filtrar los registros para los años 2010 a 2021\n",
    "df_tip_filtrado = df_tip[(df_tip['date'].dt.year >= 2010) & (df_tip['date'].dt.year <= 2021)]\n",
    "\n",
    "df_tip_filtrado.shape"
   ]
  },
  {
   "cell_type": "markdown",
   "metadata": {},
   "source": [
    "## Limpieza dataset REVIEWS YELP ##"
   ]
  },
  {
   "cell_type": "code",
   "execution_count": 21,
   "metadata": {},
   "outputs": [
    {
     "data": {
      "text/plain": [
       "(1000000, 9)"
      ]
     },
     "execution_count": 21,
     "metadata": {},
     "output_type": "execute_result"
    }
   ],
   "source": [
    "df_reviews.shape"
   ]
  },
  {
   "cell_type": "code",
   "execution_count": 22,
   "metadata": {},
   "outputs": [
    {
     "data": {
      "text/plain": [
       "review_id      0\n",
       "user_id        0\n",
       "business_id    0\n",
       "stars          0\n",
       "useful         0\n",
       "funny          0\n",
       "cool           0\n",
       "text           0\n",
       "date           0\n",
       "dtype: int64"
      ]
     },
     "execution_count": 22,
     "metadata": {},
     "output_type": "execute_result"
    }
   ],
   "source": [
    "df_reviews.isnull().sum()"
   ]
  },
  {
   "cell_type": "code",
   "execution_count": 23,
   "metadata": {},
   "outputs": [
    {
     "name": "stdout",
     "output_type": "stream",
     "text": [
      "<class 'pandas.core.frame.DataFrame'>\n",
      "RangeIndex: 1000000 entries, 0 to 999999\n",
      "Data columns (total 9 columns):\n",
      " #   Column       Non-Null Count    Dtype         \n",
      "---  ------       --------------    -----         \n",
      " 0   review_id    1000000 non-null  object        \n",
      " 1   user_id      1000000 non-null  object        \n",
      " 2   business_id  1000000 non-null  object        \n",
      " 3   stars        1000000 non-null  int64         \n",
      " 4   useful       1000000 non-null  int64         \n",
      " 5   funny        1000000 non-null  int64         \n",
      " 6   cool         1000000 non-null  int64         \n",
      " 7   text         1000000 non-null  object        \n",
      " 8   date         1000000 non-null  datetime64[ns]\n",
      "dtypes: datetime64[ns](1), int64(4), object(4)\n",
      "memory usage: 68.7+ MB\n"
     ]
    }
   ],
   "source": [
    "df_reviews.info()"
   ]
  },
  {
   "cell_type": "code",
   "execution_count": 24,
   "metadata": {},
   "outputs": [
    {
     "data": {
      "text/html": [
       "<div>\n",
       "<style scoped>\n",
       "    .dataframe tbody tr th:only-of-type {\n",
       "        vertical-align: middle;\n",
       "    }\n",
       "\n",
       "    .dataframe tbody tr th {\n",
       "        vertical-align: top;\n",
       "    }\n",
       "\n",
       "    .dataframe thead th {\n",
       "        text-align: right;\n",
       "    }\n",
       "</style>\n",
       "<table border=\"1\" class=\"dataframe\">\n",
       "  <thead>\n",
       "    <tr style=\"text-align: right;\">\n",
       "      <th></th>\n",
       "      <th>review_id</th>\n",
       "      <th>user_id</th>\n",
       "      <th>business_id</th>\n",
       "      <th>stars</th>\n",
       "      <th>useful</th>\n",
       "      <th>funny</th>\n",
       "      <th>cool</th>\n",
       "      <th>text</th>\n",
       "      <th>date</th>\n",
       "    </tr>\n",
       "  </thead>\n",
       "  <tbody>\n",
       "    <tr>\n",
       "      <th>0</th>\n",
       "      <td>HcA750mPTtKUYuWfHR7vAA</td>\n",
       "      <td>3vofzamIMkrS0PPf5aSmRQ</td>\n",
       "      <td>7_1GqlDlbkShY0az7J0XNg</td>\n",
       "      <td>4</td>\n",
       "      <td>0</td>\n",
       "      <td>0</td>\n",
       "      <td>0</td>\n",
       "      <td>So this place has the best OUTDOOR SEATING in ...</td>\n",
       "      <td>2011-08-15 08:16:03</td>\n",
       "    </tr>\n",
       "    <tr>\n",
       "      <th>1</th>\n",
       "      <td>4C_k3xCaSdFXcotVICxYLg</td>\n",
       "      <td>tCRK0DNqtudWuLEq3IInhA</td>\n",
       "      <td>Sd8NrlgB6SY6GEtIjPupfA</td>\n",
       "      <td>4</td>\n",
       "      <td>0</td>\n",
       "      <td>0</td>\n",
       "      <td>0</td>\n",
       "      <td>Great food and prices. I recommend the gyro. P...</td>\n",
       "      <td>2014-10-18 22:46:47</td>\n",
       "    </tr>\n",
       "    <tr>\n",
       "      <th>2</th>\n",
       "      <td>LInUEmtPAqlcqlk8DfrD9Q</td>\n",
       "      <td>60RKNAZwY5EUooJf624aKw</td>\n",
       "      <td>ikONTzFKwachQtFtoMGeIQ</td>\n",
       "      <td>4</td>\n",
       "      <td>3</td>\n",
       "      <td>0</td>\n",
       "      <td>5</td>\n",
       "      <td>Excellent pizza, salad and service! I came for...</td>\n",
       "      <td>2018-01-18 04:07:13</td>\n",
       "    </tr>\n",
       "    <tr>\n",
       "      <th>3</th>\n",
       "      <td>Dkl-JP_lPuDdE1ka8KMBFA</td>\n",
       "      <td>3jG-b8U7bnE1FPiCl_CE-Q</td>\n",
       "      <td>XXFW9msW3P-p6t6vV0cpeg</td>\n",
       "      <td>1</td>\n",
       "      <td>1</td>\n",
       "      <td>1</td>\n",
       "      <td>1</td>\n",
       "      <td>This place is just terrible!!!  We read the re...</td>\n",
       "      <td>2014-02-16 03:56:18</td>\n",
       "    </tr>\n",
       "    <tr>\n",
       "      <th>4</th>\n",
       "      <td>JgZFJVhMiOxcSWK2QAub6g</td>\n",
       "      <td>qwy5ZpzXgWCB2TMDmCpKLQ</td>\n",
       "      <td>B2Rk_FNhgFF-XOwesQw7FA</td>\n",
       "      <td>1</td>\n",
       "      <td>0</td>\n",
       "      <td>0</td>\n",
       "      <td>0</td>\n",
       "      <td>I took my family of four to dinner and the foo...</td>\n",
       "      <td>2014-08-31 15:52:03</td>\n",
       "    </tr>\n",
       "  </tbody>\n",
       "</table>\n",
       "</div>"
      ],
      "text/plain": [
       "                review_id                 user_id             business_id  \\\n",
       "0  HcA750mPTtKUYuWfHR7vAA  3vofzamIMkrS0PPf5aSmRQ  7_1GqlDlbkShY0az7J0XNg   \n",
       "1  4C_k3xCaSdFXcotVICxYLg  tCRK0DNqtudWuLEq3IInhA  Sd8NrlgB6SY6GEtIjPupfA   \n",
       "2  LInUEmtPAqlcqlk8DfrD9Q  60RKNAZwY5EUooJf624aKw  ikONTzFKwachQtFtoMGeIQ   \n",
       "3  Dkl-JP_lPuDdE1ka8KMBFA  3jG-b8U7bnE1FPiCl_CE-Q  XXFW9msW3P-p6t6vV0cpeg   \n",
       "4  JgZFJVhMiOxcSWK2QAub6g  qwy5ZpzXgWCB2TMDmCpKLQ  B2Rk_FNhgFF-XOwesQw7FA   \n",
       "\n",
       "   stars  useful  funny  cool  \\\n",
       "0      4       0      0     0   \n",
       "1      4       0      0     0   \n",
       "2      4       3      0     5   \n",
       "3      1       1      1     1   \n",
       "4      1       0      0     0   \n",
       "\n",
       "                                                text                date  \n",
       "0  So this place has the best OUTDOOR SEATING in ... 2011-08-15 08:16:03  \n",
       "1  Great food and prices. I recommend the gyro. P... 2014-10-18 22:46:47  \n",
       "2  Excellent pizza, salad and service! I came for... 2018-01-18 04:07:13  \n",
       "3  This place is just terrible!!!  We read the re... 2014-02-16 03:56:18  \n",
       "4  I took my family of four to dinner and the foo... 2014-08-31 15:52:03  "
      ]
     },
     "execution_count": 24,
     "metadata": {},
     "output_type": "execute_result"
    }
   ],
   "source": [
    "df_reviews.head()"
   ]
  },
  {
   "cell_type": "markdown",
   "metadata": {},
   "source": [
    "## Transformación dataset REVIEWS YELP"
   ]
  },
  {
   "cell_type": "code",
   "execution_count": 25,
   "metadata": {},
   "outputs": [
    {
     "data": {
      "text/plain": [
       "(977067, 9)"
      ]
     },
     "execution_count": 25,
     "metadata": {},
     "output_type": "execute_result"
    }
   ],
   "source": [
    "# Suponiendo que df_tip es tu DataFrame\n",
    "# Convierte la columna 'date' a tipo datetime si aún no lo has hecho\n",
    "df_reviews['date'] = pd.to_datetime(df_reviews['date'])\n",
    "\n",
    "# Filtrar los registros para los años 2010 a 2021\n",
    "df_reviews_filtrado = df_reviews[(df_reviews['date'].dt.year >= 2010) & (df_reviews['date'].dt.year <= 2021)]\n",
    "\n",
    "df_reviews_filtrado.shape"
   ]
  },
  {
   "cell_type": "code",
   "execution_count": 26,
   "metadata": {},
   "outputs": [],
   "source": [
    "df_reviews_filtrado = df_reviews_filtrado.drop(columns=['funny'])"
   ]
  },
  {
   "cell_type": "code",
   "execution_count": 27,
   "metadata": {},
   "outputs": [
    {
     "data": {
      "text/plain": [
       "(977067, 8)"
      ]
     },
     "execution_count": 27,
     "metadata": {},
     "output_type": "execute_result"
    }
   ],
   "source": [
    "df_reviews_filtrado.shape"
   ]
  },
  {
   "cell_type": "code",
   "execution_count": 28,
   "metadata": {},
   "outputs": [],
   "source": [
    "# Aplicamos el análisis de sentimiento usando VaderSentiment en el campo Text.\n",
    "analyzer = SentimentIntensityAnalyzer()\n",
    "df_reviews_filtrado['sentiment_score'] = df_reviews_filtrado['text'].apply(lambda x: analyzer.polarity_scores(x)['compound'])"
   ]
  },
  {
   "cell_type": "code",
   "execution_count": 29,
   "metadata": {},
   "outputs": [
    {
     "data": {
      "text/plain": [
       "(977067, 9)"
      ]
     },
     "execution_count": 29,
     "metadata": {},
     "output_type": "execute_result"
    }
   ],
   "source": [
    "df_reviews_filtrado.shape"
   ]
  },
  {
   "cell_type": "markdown",
   "metadata": {},
   "source": [
    "## Limpieza dataset USERS YELP ##"
   ]
  },
  {
   "cell_type": "code",
   "execution_count": 30,
   "metadata": {},
   "outputs": [
    {
     "data": {
      "text/plain": [
       "(1000000, 22)"
      ]
     },
     "execution_count": 30,
     "metadata": {},
     "output_type": "execute_result"
    }
   ],
   "source": [
    "df_users.shape"
   ]
  },
  {
   "cell_type": "code",
   "execution_count": 31,
   "metadata": {},
   "outputs": [
    {
     "data": {
      "text/plain": [
       "user_id               0\n",
       "name                  0\n",
       "review_count          0\n",
       "yelping_since         0\n",
       "useful                0\n",
       "funny                 0\n",
       "cool                  0\n",
       "elite                 0\n",
       "friends               0\n",
       "fans                  0\n",
       "average_stars         0\n",
       "compliment_hot        0\n",
       "compliment_more       0\n",
       "compliment_profile    0\n",
       "compliment_cute       0\n",
       "compliment_list       0\n",
       "compliment_note       0\n",
       "compliment_plain      0\n",
       "compliment_cool       0\n",
       "compliment_funny      0\n",
       "compliment_writer     0\n",
       "compliment_photos     0\n",
       "dtype: int64"
      ]
     },
     "execution_count": 31,
     "metadata": {},
     "output_type": "execute_result"
    }
   ],
   "source": [
    "df_users.isnull().sum()"
   ]
  },
  {
   "cell_type": "code",
   "execution_count": 32,
   "metadata": {},
   "outputs": [
    {
     "name": "stdout",
     "output_type": "stream",
     "text": [
      "<class 'pandas.core.frame.DataFrame'>\n",
      "RangeIndex: 1000000 entries, 0 to 999999\n",
      "Data columns (total 22 columns):\n",
      " #   Column              Non-Null Count    Dtype  \n",
      "---  ------              --------------    -----  \n",
      " 0   user_id             1000000 non-null  object \n",
      " 1   name                1000000 non-null  object \n",
      " 2   review_count        1000000 non-null  int64  \n",
      " 3   yelping_since       1000000 non-null  object \n",
      " 4   useful              1000000 non-null  int64  \n",
      " 5   funny               1000000 non-null  int64  \n",
      " 6   cool                1000000 non-null  int64  \n",
      " 7   elite               1000000 non-null  object \n",
      " 8   friends             1000000 non-null  object \n",
      " 9   fans                1000000 non-null  int64  \n",
      " 10  average_stars       1000000 non-null  float64\n",
      " 11  compliment_hot      1000000 non-null  int64  \n",
      " 12  compliment_more     1000000 non-null  int64  \n",
      " 13  compliment_profile  1000000 non-null  int64  \n",
      " 14  compliment_cute     1000000 non-null  int64  \n",
      " 15  compliment_list     1000000 non-null  int64  \n",
      " 16  compliment_note     1000000 non-null  int64  \n",
      " 17  compliment_plain    1000000 non-null  int64  \n",
      " 18  compliment_cool     1000000 non-null  int64  \n",
      " 19  compliment_funny    1000000 non-null  int64  \n",
      " 20  compliment_writer   1000000 non-null  int64  \n",
      " 21  compliment_photos   1000000 non-null  int64  \n",
      "dtypes: float64(1), int64(16), object(5)\n",
      "memory usage: 167.8+ MB\n"
     ]
    }
   ],
   "source": [
    "df_users.info()"
   ]
  },
  {
   "cell_type": "code",
   "execution_count": 33,
   "metadata": {},
   "outputs": [
    {
     "data": {
      "text/html": [
       "<div>\n",
       "<style scoped>\n",
       "    .dataframe tbody tr th:only-of-type {\n",
       "        vertical-align: middle;\n",
       "    }\n",
       "\n",
       "    .dataframe tbody tr th {\n",
       "        vertical-align: top;\n",
       "    }\n",
       "\n",
       "    .dataframe thead th {\n",
       "        text-align: right;\n",
       "    }\n",
       "</style>\n",
       "<table border=\"1\" class=\"dataframe\">\n",
       "  <thead>\n",
       "    <tr style=\"text-align: right;\">\n",
       "      <th></th>\n",
       "      <th>user_id</th>\n",
       "      <th>name</th>\n",
       "      <th>review_count</th>\n",
       "      <th>yelping_since</th>\n",
       "      <th>useful</th>\n",
       "      <th>funny</th>\n",
       "      <th>cool</th>\n",
       "      <th>elite</th>\n",
       "      <th>friends</th>\n",
       "      <th>fans</th>\n",
       "      <th>...</th>\n",
       "      <th>compliment_more</th>\n",
       "      <th>compliment_profile</th>\n",
       "      <th>compliment_cute</th>\n",
       "      <th>compliment_list</th>\n",
       "      <th>compliment_note</th>\n",
       "      <th>compliment_plain</th>\n",
       "      <th>compliment_cool</th>\n",
       "      <th>compliment_funny</th>\n",
       "      <th>compliment_writer</th>\n",
       "      <th>compliment_photos</th>\n",
       "    </tr>\n",
       "  </thead>\n",
       "  <tbody>\n",
       "    <tr>\n",
       "      <th>0</th>\n",
       "      <td>fbYIDgRxm5s6gqndZBd8VA</td>\n",
       "      <td>Allison</td>\n",
       "      <td>35</td>\n",
       "      <td>2009-10-07 23:02:25</td>\n",
       "      <td>29</td>\n",
       "      <td>3</td>\n",
       "      <td>10</td>\n",
       "      <td></td>\n",
       "      <td>hLSxHbq2uuSGC7pMaPVcXw, LMsLF2Y1-wcU6jKk6oOZ8Q...</td>\n",
       "      <td>3</td>\n",
       "      <td>...</td>\n",
       "      <td>0</td>\n",
       "      <td>0</td>\n",
       "      <td>0</td>\n",
       "      <td>0</td>\n",
       "      <td>0</td>\n",
       "      <td>1</td>\n",
       "      <td>1</td>\n",
       "      <td>1</td>\n",
       "      <td>1</td>\n",
       "      <td>0</td>\n",
       "    </tr>\n",
       "    <tr>\n",
       "      <th>1</th>\n",
       "      <td>vdBqmss5ugQwp6WMCiyU7A</td>\n",
       "      <td>Brad</td>\n",
       "      <td>5</td>\n",
       "      <td>2011-05-11 14:20:37</td>\n",
       "      <td>0</td>\n",
       "      <td>0</td>\n",
       "      <td>0</td>\n",
       "      <td></td>\n",
       "      <td>oAW8iOHb6iEdrjW5CcZD6Q, 8W6QgX67Zf-h_3en4UPNpQ...</td>\n",
       "      <td>0</td>\n",
       "      <td>...</td>\n",
       "      <td>0</td>\n",
       "      <td>0</td>\n",
       "      <td>0</td>\n",
       "      <td>0</td>\n",
       "      <td>0</td>\n",
       "      <td>0</td>\n",
       "      <td>0</td>\n",
       "      <td>0</td>\n",
       "      <td>0</td>\n",
       "      <td>0</td>\n",
       "    </tr>\n",
       "    <tr>\n",
       "      <th>2</th>\n",
       "      <td>QNB9I0Bo9K14237ao4yrpA</td>\n",
       "      <td>Tyler</td>\n",
       "      <td>2</td>\n",
       "      <td>2011-09-25 02:56:14</td>\n",
       "      <td>1</td>\n",
       "      <td>0</td>\n",
       "      <td>0</td>\n",
       "      <td></td>\n",
       "      <td>Sb139v26otiveywG0UtDMQ, a-cVe782K7GwYcMpDNat3g...</td>\n",
       "      <td>0</td>\n",
       "      <td>...</td>\n",
       "      <td>0</td>\n",
       "      <td>0</td>\n",
       "      <td>0</td>\n",
       "      <td>0</td>\n",
       "      <td>0</td>\n",
       "      <td>0</td>\n",
       "      <td>1</td>\n",
       "      <td>1</td>\n",
       "      <td>0</td>\n",
       "      <td>0</td>\n",
       "    </tr>\n",
       "    <tr>\n",
       "      <th>3</th>\n",
       "      <td>H6pf_6tRiJJfLDatPgtcKQ</td>\n",
       "      <td>Sue</td>\n",
       "      <td>2</td>\n",
       "      <td>2011-07-15 16:52:07</td>\n",
       "      <td>0</td>\n",
       "      <td>0</td>\n",
       "      <td>0</td>\n",
       "      <td></td>\n",
       "      <td>aYM9A01atbRFqJfcbcZncA, qNxzI0Qke5XCY4_Hd1o-sQ...</td>\n",
       "      <td>0</td>\n",
       "      <td>...</td>\n",
       "      <td>0</td>\n",
       "      <td>0</td>\n",
       "      <td>0</td>\n",
       "      <td>0</td>\n",
       "      <td>0</td>\n",
       "      <td>0</td>\n",
       "      <td>0</td>\n",
       "      <td>0</td>\n",
       "      <td>0</td>\n",
       "      <td>0</td>\n",
       "    </tr>\n",
       "    <tr>\n",
       "      <th>4</th>\n",
       "      <td>WEjzjAd1xRSdHpIS1aecPA</td>\n",
       "      <td>Danielle</td>\n",
       "      <td>43</td>\n",
       "      <td>2009-08-28 03:58:05</td>\n",
       "      <td>98</td>\n",
       "      <td>50</td>\n",
       "      <td>50</td>\n",
       "      <td></td>\n",
       "      <td>0nPh2NKEBngjZ57jACy-Aw, 5Ak87KzB409zNImUehS7EQ...</td>\n",
       "      <td>2</td>\n",
       "      <td>...</td>\n",
       "      <td>0</td>\n",
       "      <td>0</td>\n",
       "      <td>0</td>\n",
       "      <td>0</td>\n",
       "      <td>1</td>\n",
       "      <td>2</td>\n",
       "      <td>0</td>\n",
       "      <td>0</td>\n",
       "      <td>1</td>\n",
       "      <td>0</td>\n",
       "    </tr>\n",
       "  </tbody>\n",
       "</table>\n",
       "<p>5 rows × 22 columns</p>\n",
       "</div>"
      ],
      "text/plain": [
       "                  user_id      name  review_count        yelping_since  \\\n",
       "0  fbYIDgRxm5s6gqndZBd8VA   Allison            35  2009-10-07 23:02:25   \n",
       "1  vdBqmss5ugQwp6WMCiyU7A      Brad             5  2011-05-11 14:20:37   \n",
       "2  QNB9I0Bo9K14237ao4yrpA     Tyler             2  2011-09-25 02:56:14   \n",
       "3  H6pf_6tRiJJfLDatPgtcKQ       Sue             2  2011-07-15 16:52:07   \n",
       "4  WEjzjAd1xRSdHpIS1aecPA  Danielle            43  2009-08-28 03:58:05   \n",
       "\n",
       "   useful  funny  cool elite  \\\n",
       "0      29      3    10         \n",
       "1       0      0     0         \n",
       "2       1      0     0         \n",
       "3       0      0     0         \n",
       "4      98     50    50         \n",
       "\n",
       "                                             friends  fans  ...  \\\n",
       "0  hLSxHbq2uuSGC7pMaPVcXw, LMsLF2Y1-wcU6jKk6oOZ8Q...     3  ...   \n",
       "1  oAW8iOHb6iEdrjW5CcZD6Q, 8W6QgX67Zf-h_3en4UPNpQ...     0  ...   \n",
       "2  Sb139v26otiveywG0UtDMQ, a-cVe782K7GwYcMpDNat3g...     0  ...   \n",
       "3  aYM9A01atbRFqJfcbcZncA, qNxzI0Qke5XCY4_Hd1o-sQ...     0  ...   \n",
       "4  0nPh2NKEBngjZ57jACy-Aw, 5Ak87KzB409zNImUehS7EQ...     2  ...   \n",
       "\n",
       "   compliment_more  compliment_profile  compliment_cute  compliment_list  \\\n",
       "0                0                   0                0                0   \n",
       "1                0                   0                0                0   \n",
       "2                0                   0                0                0   \n",
       "3                0                   0                0                0   \n",
       "4                0                   0                0                0   \n",
       "\n",
       "   compliment_note  compliment_plain  compliment_cool  compliment_funny  \\\n",
       "0                0                 1                1                 1   \n",
       "1                0                 0                0                 0   \n",
       "2                0                 0                1                 1   \n",
       "3                0                 0                0                 0   \n",
       "4                1                 2                0                 0   \n",
       "\n",
       "   compliment_writer  compliment_photos  \n",
       "0                  1                  0  \n",
       "1                  0                  0  \n",
       "2                  0                  0  \n",
       "3                  0                  0  \n",
       "4                  1                  0  \n",
       "\n",
       "[5 rows x 22 columns]"
      ]
     },
     "execution_count": 33,
     "metadata": {},
     "output_type": "execute_result"
    }
   ],
   "source": [
    "df_users.head()"
   ]
  },
  {
   "cell_type": "markdown",
   "metadata": {},
   "source": [
    "## Transformación del dataset USER Yelp"
   ]
  },
  {
   "cell_type": "code",
   "execution_count": 34,
   "metadata": {},
   "outputs": [],
   "source": [
    "df_users['yelping_since']=pd.to_datetime(df_users['yelping_since'])"
   ]
  },
  {
   "cell_type": "code",
   "execution_count": 35,
   "metadata": {},
   "outputs": [
    {
     "data": {
      "text/plain": [
       "(977067, 9)"
      ]
     },
     "execution_count": 35,
     "metadata": {},
     "output_type": "execute_result"
    }
   ],
   "source": [
    "# Filtrar los registros para los años 2010 a 2021\n",
    "df_users_filtrado = df_users[(df_users['yelping_since'].dt.year >= 2010) & (df_users['yelping_since'].dt.year <= 2021)]\n",
    "\n",
    "df_reviews_filtrado.shape"
   ]
  },
  {
   "cell_type": "code",
   "execution_count": 38,
   "metadata": {},
   "outputs": [
    {
     "data": {
      "image/png": "[encoded data removed]",
      "text/plain": [
       "<Figure size 640x480 with 1 Axes>"
      ]
     },
     "metadata": {},
     "output_type": "display_data"
    },
    {
     "data": {
      "image/png": "[encoded data removed]",
      "text/plain": [
       "<Figure size 640x480 with 1 Axes>"
      ]
     },
     "metadata": {},
     "output_type": "display_data"
    },
    {
     "data": {
      "image/png": "[encoded data removed]",
      "text/plain": [
       "<Figure size 640x480 with 1 Axes>"
      ]
     },
     "metadata": {},
     "output_type": "display_data"
    }
   ],
   "source": [
    "# Configuración para mejorar la estética de los gráficos\n",
    "sns.set(style=\"whitegrid\")\n",
    "\n",
    "# Lista de columnas numéricas para histogramas\n",
    "numeric_columns = ['useful', 'funny', 'cool']\n",
    "\n",
    "# Crear scatter plots para cada combinación de variables numéricas\n",
    "for i in range(len(numeric_columns)):\n",
    "    for j in range(i + 1, len(numeric_columns)):\n",
    "        sns.scatterplot(data=df_users_filtrado, x=numeric_columns[i], y=numeric_columns[j])\n",
    "        plt.title(f'Relación entre {numeric_columns[i]} y {numeric_columns[j]}')\n",
    "        plt.xlabel(numeric_columns[i])\n",
    "        plt.ylabel(numeric_columns[j])\n",
    "        plt.show()"
   ]
  },
  {
   "cell_type": "code",
   "execution_count": null,
   "metadata": {},
   "outputs": [],
   "source": [
    "\n",
    "\n",
    "# Configuración para mejorar la estética de los gráficos\n",
    "sns.set(style=\"whitegrid\")\n",
    "\n",
    "# Lista de columnas numéricas para histogramas\n",
    "numeric_columns = ['useful', 'funny', 'cool']\n",
    "\n",
    "# Crear scatter plots para cada combinación de variables numéricas\n",
    "for i in range(len(numeric_columns)):\n",
    "    for j in range(i + 1, len(numeric_columns)):\n",
    "        sns.scatterplot(data=df_users_filtrado, x=numeric_columns[i], y=numeric_columns[j])\n",
    "        plt.title(f'Relación entre {numeric_columns[i]} y {numeric_columns[j]}')\n",
    "        plt.xlabel(numeric_columns[i])\n",
    "        plt.ylabel(numeric_columns[j])\n",
    "        plt.show()"
   ]
  },
  {
   "cell_type": "code",
   "execution_count": 39,
   "metadata": {},
   "outputs": [
    {
     "name": "stderr",
     "output_type": "stream",
     "text": [
      "C:\\Users\\Administrador\\AppData\\Local\\Temp\\ipykernel_15140\\3310502239.py:1: SettingWithCopyWarning: \n",
      "A value is trying to be set on a copy of a slice from a DataFrame\n",
      "\n",
      "See the caveats in the documentation: https://pandas.pydata.org/pandas-docs/stable/user_guide/indexing.html#returning-a-view-versus-a-copy\n",
      "  df_users_filtrado.drop(columns=['funny', 'cool', 'compliment_funny'],inplace=True)\n"
     ]
    }
   ],
   "source": [
    "df_users_filtrado.drop(columns=['funny', 'cool', 'compliment_funny'],inplace=True)"
   ]
  },
  {
   "cell_type": "code",
   "execution_count": 40,
   "metadata": {},
   "outputs": [
    {
     "data": {
      "text/html": [
       "<div>\n",
       "<style scoped>\n",
       "    .dataframe tbody tr th:only-of-type {\n",
       "        vertical-align: middle;\n",
       "    }\n",
       "\n",
       "    .dataframe tbody tr th {\n",
       "        vertical-align: top;\n",
       "    }\n",
       "\n",
       "    .dataframe thead th {\n",
       "        text-align: right;\n",
       "    }\n",
       "</style>\n",
       "<table border=\"1\" class=\"dataframe\">\n",
       "  <thead>\n",
       "    <tr style=\"text-align: right;\">\n",
       "      <th></th>\n",
       "      <th>user_id</th>\n",
       "      <th>name</th>\n",
       "      <th>review_count</th>\n",
       "      <th>yelping_since</th>\n",
       "      <th>useful</th>\n",
       "      <th>elite</th>\n",
       "      <th>friends</th>\n",
       "      <th>fans</th>\n",
       "      <th>average_stars</th>\n",
       "      <th>compliment_hot</th>\n",
       "      <th>compliment_more</th>\n",
       "      <th>compliment_profile</th>\n",
       "      <th>compliment_cute</th>\n",
       "      <th>compliment_list</th>\n",
       "      <th>compliment_note</th>\n",
       "      <th>compliment_plain</th>\n",
       "      <th>compliment_cool</th>\n",
       "      <th>compliment_writer</th>\n",
       "      <th>compliment_photos</th>\n",
       "    </tr>\n",
       "  </thead>\n",
       "  <tbody>\n",
       "    <tr>\n",
       "      <th>1</th>\n",
       "      <td>vdBqmss5ugQwp6WMCiyU7A</td>\n",
       "      <td>Brad</td>\n",
       "      <td>5</td>\n",
       "      <td>2011-05-11 14:20:37</td>\n",
       "      <td>0</td>\n",
       "      <td></td>\n",
       "      <td>oAW8iOHb6iEdrjW5CcZD6Q, 8W6QgX67Zf-h_3en4UPNpQ...</td>\n",
       "      <td>0</td>\n",
       "      <td>4.20</td>\n",
       "      <td>0</td>\n",
       "      <td>0</td>\n",
       "      <td>0</td>\n",
       "      <td>0</td>\n",
       "      <td>0</td>\n",
       "      <td>0</td>\n",
       "      <td>0</td>\n",
       "      <td>0</td>\n",
       "      <td>0</td>\n",
       "      <td>0</td>\n",
       "    </tr>\n",
       "    <tr>\n",
       "      <th>2</th>\n",
       "      <td>QNB9I0Bo9K14237ao4yrpA</td>\n",
       "      <td>Tyler</td>\n",
       "      <td>2</td>\n",
       "      <td>2011-09-25 02:56:14</td>\n",
       "      <td>1</td>\n",
       "      <td></td>\n",
       "      <td>Sb139v26otiveywG0UtDMQ, a-cVe782K7GwYcMpDNat3g...</td>\n",
       "      <td>0</td>\n",
       "      <td>5.00</td>\n",
       "      <td>0</td>\n",
       "      <td>0</td>\n",
       "      <td>0</td>\n",
       "      <td>0</td>\n",
       "      <td>0</td>\n",
       "      <td>0</td>\n",
       "      <td>0</td>\n",
       "      <td>1</td>\n",
       "      <td>0</td>\n",
       "      <td>0</td>\n",
       "    </tr>\n",
       "    <tr>\n",
       "      <th>3</th>\n",
       "      <td>H6pf_6tRiJJfLDatPgtcKQ</td>\n",
       "      <td>Sue</td>\n",
       "      <td>2</td>\n",
       "      <td>2011-07-15 16:52:07</td>\n",
       "      <td>0</td>\n",
       "      <td></td>\n",
       "      <td>aYM9A01atbRFqJfcbcZncA, qNxzI0Qke5XCY4_Hd1o-sQ...</td>\n",
       "      <td>0</td>\n",
       "      <td>4.50</td>\n",
       "      <td>0</td>\n",
       "      <td>0</td>\n",
       "      <td>0</td>\n",
       "      <td>0</td>\n",
       "      <td>0</td>\n",
       "      <td>0</td>\n",
       "      <td>0</td>\n",
       "      <td>0</td>\n",
       "      <td>0</td>\n",
       "      <td>0</td>\n",
       "    </tr>\n",
       "    <tr>\n",
       "      <th>7</th>\n",
       "      <td>szfKGmb7ToTiWJxrv4D8mQ</td>\n",
       "      <td>Dave</td>\n",
       "      <td>32</td>\n",
       "      <td>2010-06-10 15:33:48</td>\n",
       "      <td>20</td>\n",
       "      <td></td>\n",
       "      <td>4GPvnY5IG30mp0HhRt4L3A, A0szYrXWV_X09wSDs8p5jA...</td>\n",
       "      <td>0</td>\n",
       "      <td>3.88</td>\n",
       "      <td>0</td>\n",
       "      <td>0</td>\n",
       "      <td>0</td>\n",
       "      <td>0</td>\n",
       "      <td>0</td>\n",
       "      <td>0</td>\n",
       "      <td>0</td>\n",
       "      <td>1</td>\n",
       "      <td>0</td>\n",
       "      <td>0</td>\n",
       "    </tr>\n",
       "    <tr>\n",
       "      <th>11</th>\n",
       "      <td>FukndPpc6L9Ravpit6nzSA</td>\n",
       "      <td>Bruce</td>\n",
       "      <td>8</td>\n",
       "      <td>2010-04-25 21:16:52</td>\n",
       "      <td>13</td>\n",
       "      <td></td>\n",
       "      <td>QT7PYg4Y_Qd8KR5kSngqwg, aT5shoOPaUP6DUhghVbXiw...</td>\n",
       "      <td>0</td>\n",
       "      <td>1.60</td>\n",
       "      <td>0</td>\n",
       "      <td>0</td>\n",
       "      <td>0</td>\n",
       "      <td>0</td>\n",
       "      <td>0</td>\n",
       "      <td>1</td>\n",
       "      <td>2</td>\n",
       "      <td>0</td>\n",
       "      <td>0</td>\n",
       "      <td>0</td>\n",
       "    </tr>\n",
       "  </tbody>\n",
       "</table>\n",
       "</div>"
      ],
      "text/plain": [
       "                   user_id   name  review_count       yelping_since  useful  \\\n",
       "1   vdBqmss5ugQwp6WMCiyU7A   Brad             5 2011-05-11 14:20:37       0   \n",
       "2   QNB9I0Bo9K14237ao4yrpA  Tyler             2 2011-09-25 02:56:14       1   \n",
       "3   H6pf_6tRiJJfLDatPgtcKQ    Sue             2 2011-07-15 16:52:07       0   \n",
       "7   szfKGmb7ToTiWJxrv4D8mQ   Dave            32 2010-06-10 15:33:48      20   \n",
       "11  FukndPpc6L9Ravpit6nzSA  Bruce             8 2010-04-25 21:16:52      13   \n",
       "\n",
       "   elite                                            friends  fans  \\\n",
       "1         oAW8iOHb6iEdrjW5CcZD6Q, 8W6QgX67Zf-h_3en4UPNpQ...     0   \n",
       "2         Sb139v26otiveywG0UtDMQ, a-cVe782K7GwYcMpDNat3g...     0   \n",
       "3         aYM9A01atbRFqJfcbcZncA, qNxzI0Qke5XCY4_Hd1o-sQ...     0   \n",
       "7         4GPvnY5IG30mp0HhRt4L3A, A0szYrXWV_X09wSDs8p5jA...     0   \n",
       "11        QT7PYg4Y_Qd8KR5kSngqwg, aT5shoOPaUP6DUhghVbXiw...     0   \n",
       "\n",
       "    average_stars  compliment_hot  compliment_more  compliment_profile  \\\n",
       "1            4.20               0                0                   0   \n",
       "2            5.00               0                0                   0   \n",
       "3            4.50               0                0                   0   \n",
       "7            3.88               0                0                   0   \n",
       "11           1.60               0                0                   0   \n",
       "\n",
       "    compliment_cute  compliment_list  compliment_note  compliment_plain  \\\n",
       "1                 0                0                0                 0   \n",
       "2                 0                0                0                 0   \n",
       "3                 0                0                0                 0   \n",
       "7                 0                0                0                 0   \n",
       "11                0                0                1                 2   \n",
       "\n",
       "    compliment_cool  compliment_writer  compliment_photos  \n",
       "1                 0                  0                  0  \n",
       "2                 1                  0                  0  \n",
       "3                 0                  0                  0  \n",
       "7                 1                  0                  0  \n",
       "11                0                  0                  0  "
      ]
     },
     "execution_count": 40,
     "metadata": {},
     "output_type": "execute_result"
    }
   ],
   "source": [
    "df_users_filtrado.head()"
   ]
  }
 ],
 "metadata": {
  "kernelspec": {
   "display_name": "Python 3",
   "language": "python",
   "name": "python3"
  },
  "language_info": {
   "codemirror_mode": {
    "name": "ipython",
    "version": 3
   },
   "file_extension": ".py",
   "mimetype": "text/x-python",
   "name": "python",
   "nbconvert_exporter": "python",
   "pygments_lexer": "ipython3",
   "version": "3.11.4"
  }
 },
 "nbformat": 4,
 "nbformat_minor": 2
}
