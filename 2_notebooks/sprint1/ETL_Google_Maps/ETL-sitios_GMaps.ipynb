{
 "cells": [
  {
   "cell_type": "code",
   "execution_count": 139,
   "metadata": {},
   "outputs": [],
   "source": [
    "import pandas as pd\n",
    "import os "
   ]
  },
  {
   "cell_type": "markdown",
   "metadata": {},
   "source": [
    "### **1. Carga de Datos**"
   ]
  },
  {
   "cell_type": "code",
   "execution_count": 162,
   "metadata": {},
   "outputs": [],
   "source": [
    "df_estados_USA= pd.read_csv(\"D:/PROYECTO FINAL/Google Maps/estados_usa.csv\",delimiter = ';', encoding = \"utf-8\")"
   ]
  },
  {
   "cell_type": "code",
   "execution_count": 2,
   "metadata": {},
   "outputs": [
    {
     "data": {
      "text/plain": [
       "['D:/PROYECTO FINAL/Google Maps/metadata-sitios/1.json',\n",
       " 'D:/PROYECTO FINAL/Google Maps/metadata-sitios/10.json',\n",
       " 'D:/PROYECTO FINAL/Google Maps/metadata-sitios/11.json',\n",
       " 'D:/PROYECTO FINAL/Google Maps/metadata-sitios/2.json',\n",
       " 'D:/PROYECTO FINAL/Google Maps/metadata-sitios/3.json',\n",
       " 'D:/PROYECTO FINAL/Google Maps/metadata-sitios/4.json',\n",
       " 'D:/PROYECTO FINAL/Google Maps/metadata-sitios/5.json',\n",
       " 'D:/PROYECTO FINAL/Google Maps/metadata-sitios/6.json',\n",
       " 'D:/PROYECTO FINAL/Google Maps/metadata-sitios/7.json',\n",
       " 'D:/PROYECTO FINAL/Google Maps/metadata-sitios/8.json',\n",
       " 'D:/PROYECTO FINAL/Google Maps/metadata-sitios/9.json']"
      ]
     },
     "execution_count": 2,
     "metadata": {},
     "output_type": "execute_result"
    }
   ],
   "source": [
    "rutaJson = \"D:/PROYECTO FINAL/Google Maps/metadata-sitios/\"     # Ruta de los json de Sitios\n",
    "archivos_json = [os.path.join(rutaJson, archivo) for archivo in os.listdir(rutaJson) if archivo.endswith('.json')]\n",
    "archivos_json"
   ]
  },
  {
   "cell_type": "code",
   "execution_count": 3,
   "metadata": {},
   "outputs": [],
   "source": [
    "# Cargar todas los archivos Json y los coloca en una lista\n",
    "lista_df_sitios = []\n",
    "for archivo in archivos_json:       \n",
    "    df = pd.read_json(archivo, lines=True)\n",
    "    lista_df_sitios.append(df)"
   ]
  },
  {
   "cell_type": "code",
   "execution_count": 311,
   "metadata": {},
   "outputs": [],
   "source": [
    "df_sitios = pd.concat(lista_df_sitios, ignore_index=True)     # Concatenar los Dataframes cargados en la lista"
   ]
  },
  {
   "cell_type": "code",
   "execution_count": 286,
   "metadata": {},
   "outputs": [
    {
     "data": {
      "text/html": [
       "<div>\n",
       "<style scoped>\n",
       "    .dataframe tbody tr th:only-of-type {\n",
       "        vertical-align: middle;\n",
       "    }\n",
       "\n",
       "    .dataframe tbody tr th {\n",
       "        vertical-align: top;\n",
       "    }\n",
       "\n",
       "    .dataframe thead th {\n",
       "        text-align: right;\n",
       "    }\n",
       "</style>\n",
       "<table border=\"1\" class=\"dataframe\">\n",
       "  <thead>\n",
       "    <tr style=\"text-align: right;\">\n",
       "      <th></th>\n",
       "      <th>name</th>\n",
       "      <th>address</th>\n",
       "      <th>gmap_id</th>\n",
       "      <th>description</th>\n",
       "      <th>latitude</th>\n",
       "      <th>longitude</th>\n",
       "      <th>category</th>\n",
       "      <th>avg_rating</th>\n",
       "      <th>num_of_reviews</th>\n",
       "      <th>price</th>\n",
       "      <th>hours</th>\n",
       "      <th>MISC</th>\n",
       "      <th>state</th>\n",
       "      <th>relative_results</th>\n",
       "      <th>url</th>\n",
       "    </tr>\n",
       "  </thead>\n",
       "  <tbody>\n",
       "    <tr>\n",
       "      <th>0</th>\n",
       "      <td>Porter Pharmacy</td>\n",
       "      <td>Porter Pharmacy, 129 N Second St, Cochran, GA ...</td>\n",
       "      <td>0x88f16e41928ff687:0x883dad4fd048e8f8</td>\n",
       "      <td>None</td>\n",
       "      <td>32.388300</td>\n",
       "      <td>-83.35710</td>\n",
       "      <td>[Pharmacy]</td>\n",
       "      <td>4.9</td>\n",
       "      <td>16</td>\n",
       "      <td>None</td>\n",
       "      <td>[[Friday, 8AM–6PM], [Saturday, 8AM–12PM], [Sun...</td>\n",
       "      <td>{'Service options': ['In-store shopping', 'Sam...</td>\n",
       "      <td>Open ⋅ Closes 6PM</td>\n",
       "      <td>[0x88f16e41929435cf:0x5b2532a2885e9ef6, 0x88f1...</td>\n",
       "      <td>https://www.google.com/maps/place//data=!4m2!3...</td>\n",
       "    </tr>\n",
       "    <tr>\n",
       "      <th>1</th>\n",
       "      <td>City Textile</td>\n",
       "      <td>City Textile, 3001 E Pico Blvd, Los Angeles, C...</td>\n",
       "      <td>0x80c2c98c0e3c16fd:0x29ec8a728764fdf9</td>\n",
       "      <td>None</td>\n",
       "      <td>34.018891</td>\n",
       "      <td>-118.21529</td>\n",
       "      <td>[Textile exporter]</td>\n",
       "      <td>4.5</td>\n",
       "      <td>6</td>\n",
       "      <td>None</td>\n",
       "      <td>None</td>\n",
       "      <td>None</td>\n",
       "      <td>Open now</td>\n",
       "      <td>[0x80c2c624136ea88b:0xb0315367ed448771, 0x80c2...</td>\n",
       "      <td>https://www.google.com/maps/place//data=!4m2!3...</td>\n",
       "    </tr>\n",
       "    <tr>\n",
       "      <th>2</th>\n",
       "      <td>San Soo Dang</td>\n",
       "      <td>San Soo Dang, 761 S Vermont Ave, Los Angeles, ...</td>\n",
       "      <td>0x80c2c778e3b73d33:0xbdc58662a4a97d49</td>\n",
       "      <td>None</td>\n",
       "      <td>34.058092</td>\n",
       "      <td>-118.29213</td>\n",
       "      <td>[Korean restaurant]</td>\n",
       "      <td>4.4</td>\n",
       "      <td>18</td>\n",
       "      <td>None</td>\n",
       "      <td>[[Thursday, 6:30AM–6PM], [Friday, 6:30AM–6PM],...</td>\n",
       "      <td>{'Service options': ['Takeout', 'Dine-in', 'De...</td>\n",
       "      <td>Open ⋅ Closes 6PM</td>\n",
       "      <td>[0x80c2c78249aba68f:0x35bf16ce61be751d, 0x80c2...</td>\n",
       "      <td>https://www.google.com/maps/place//data=!4m2!3...</td>\n",
       "    </tr>\n",
       "  </tbody>\n",
       "</table>\n",
       "</div>"
      ],
      "text/plain": [
       "              name                                            address  \\\n",
       "0  Porter Pharmacy  Porter Pharmacy, 129 N Second St, Cochran, GA ...   \n",
       "1     City Textile  City Textile, 3001 E Pico Blvd, Los Angeles, C...   \n",
       "2     San Soo Dang  San Soo Dang, 761 S Vermont Ave, Los Angeles, ...   \n",
       "\n",
       "                                 gmap_id description   latitude  longitude  \\\n",
       "0  0x88f16e41928ff687:0x883dad4fd048e8f8        None  32.388300  -83.35710   \n",
       "1  0x80c2c98c0e3c16fd:0x29ec8a728764fdf9        None  34.018891 -118.21529   \n",
       "2  0x80c2c778e3b73d33:0xbdc58662a4a97d49        None  34.058092 -118.29213   \n",
       "\n",
       "              category  avg_rating  num_of_reviews price  \\\n",
       "0           [Pharmacy]         4.9              16  None   \n",
       "1   [Textile exporter]         4.5               6  None   \n",
       "2  [Korean restaurant]         4.4              18  None   \n",
       "\n",
       "                                               hours  \\\n",
       "0  [[Friday, 8AM–6PM], [Saturday, 8AM–12PM], [Sun...   \n",
       "1                                               None   \n",
       "2  [[Thursday, 6:30AM–6PM], [Friday, 6:30AM–6PM],...   \n",
       "\n",
       "                                                MISC              state  \\\n",
       "0  {'Service options': ['In-store shopping', 'Sam...  Open ⋅ Closes 6PM   \n",
       "1                                               None           Open now   \n",
       "2  {'Service options': ['Takeout', 'Dine-in', 'De...  Open ⋅ Closes 6PM   \n",
       "\n",
       "                                    relative_results  \\\n",
       "0  [0x88f16e41929435cf:0x5b2532a2885e9ef6, 0x88f1...   \n",
       "1  [0x80c2c624136ea88b:0xb0315367ed448771, 0x80c2...   \n",
       "2  [0x80c2c78249aba68f:0x35bf16ce61be751d, 0x80c2...   \n",
       "\n",
       "                                                 url  \n",
       "0  https://www.google.com/maps/place//data=!4m2!3...  \n",
       "1  https://www.google.com/maps/place//data=!4m2!3...  \n",
       "2  https://www.google.com/maps/place//data=!4m2!3...  "
      ]
     },
     "execution_count": 286,
     "metadata": {},
     "output_type": "execute_result"
    }
   ],
   "source": [
    "df_sitios.head(3)"
   ]
  },
  {
   "cell_type": "code",
   "execution_count": 312,
   "metadata": {},
   "outputs": [
    {
     "data": {
      "text/plain": [
       "name                     37\n",
       "address               80511\n",
       "gmap_id                   0\n",
       "description         2770722\n",
       "latitude                  0\n",
       "longitude                 0\n",
       "category              17419\n",
       "avg_rating                0\n",
       "num_of_reviews            0\n",
       "price               2749808\n",
       "hours                787405\n",
       "MISC                 690834\n",
       "state                746455\n",
       "relative_results     295058\n",
       "url                       0\n",
       "dtype: int64"
      ]
     },
     "execution_count": 312,
     "metadata": {},
     "output_type": "execute_result"
    }
   ],
   "source": [
    "df_sitios.isnull().sum()"
   ]
  },
  {
   "cell_type": "code",
   "execution_count": 313,
   "metadata": {},
   "outputs": [],
   "source": [
    "df_sitios= df_sitios.dropna(subset=['address']) # Elimina filas con address nulas\n",
    "df_sitios= df_sitios.dropna(subset=['category']) # Elimina filas con category nulas"
   ]
  },
  {
   "cell_type": "markdown",
   "metadata": {},
   "source": [
    "### **2. Normalizacion de datos**"
   ]
  },
  {
   "cell_type": "markdown",
   "metadata": {},
   "source": [
    "#### 2.1. Se crea una tabla de \"categorias\" realacionada por 'gmap_id' "
   ]
  },
  {
   "cell_type": "code",
   "execution_count": 7,
   "metadata": {},
   "outputs": [],
   "source": [
    "df_category= df_sitios[['gmap_id','category']]\n",
    "df_category= df_category.explode('category')"
   ]
  },
  {
   "cell_type": "code",
   "execution_count": 8,
   "metadata": {},
   "outputs": [
    {
     "data": {
      "text/html": [
       "<div>\n",
       "<style scoped>\n",
       "    .dataframe tbody tr th:only-of-type {\n",
       "        vertical-align: middle;\n",
       "    }\n",
       "\n",
       "    .dataframe tbody tr th {\n",
       "        vertical-align: top;\n",
       "    }\n",
       "\n",
       "    .dataframe thead th {\n",
       "        text-align: right;\n",
       "    }\n",
       "</style>\n",
       "<table border=\"1\" class=\"dataframe\">\n",
       "  <thead>\n",
       "    <tr style=\"text-align: right;\">\n",
       "      <th></th>\n",
       "      <th>gmap_id</th>\n",
       "      <th>category</th>\n",
       "    </tr>\n",
       "  </thead>\n",
       "  <tbody>\n",
       "    <tr>\n",
       "      <th>0</th>\n",
       "      <td>0x88f16e41928ff687:0x883dad4fd048e8f8</td>\n",
       "      <td>Pharmacy</td>\n",
       "    </tr>\n",
       "    <tr>\n",
       "      <th>1</th>\n",
       "      <td>0x80c2c98c0e3c16fd:0x29ec8a728764fdf9</td>\n",
       "      <td>Textile exporter</td>\n",
       "    </tr>\n",
       "    <tr>\n",
       "      <th>2</th>\n",
       "      <td>0x80c2c778e3b73d33:0xbdc58662a4a97d49</td>\n",
       "      <td>Korean restaurant</td>\n",
       "    </tr>\n",
       "  </tbody>\n",
       "</table>\n",
       "</div>"
      ],
      "text/plain": [
       "                                 gmap_id           category\n",
       "0  0x88f16e41928ff687:0x883dad4fd048e8f8           Pharmacy\n",
       "1  0x80c2c98c0e3c16fd:0x29ec8a728764fdf9   Textile exporter\n",
       "2  0x80c2c778e3b73d33:0xbdc58662a4a97d49  Korean restaurant"
      ]
     },
     "execution_count": 8,
     "metadata": {},
     "output_type": "execute_result"
    }
   ],
   "source": [
    "df_category.head(3)"
   ]
  },
  {
   "cell_type": "markdown",
   "metadata": {},
   "source": [
    "#### 2.2. Se crea una tabla de \"miscelaneos\" relacionada por 'gmap_id' "
   ]
  },
  {
   "cell_type": "code",
   "execution_count": 9,
   "metadata": {},
   "outputs": [],
   "source": [
    "# Se guardan las columnas MISC y el gmap_id en un df\n",
    "df_misc= df_sitios[['gmap_id','MISC']]\n",
    "df_misc= df_misc.dropna(subset=['MISC']) # Elimina filas con MISC nulo"
   ]
  },
  {
   "cell_type": "code",
   "execution_count": 10,
   "metadata": {},
   "outputs": [],
   "source": [
    "# Funcion para cargar los json a una serie de pandas\n",
    "def expandir_diccionario(diccionario):\n",
    "    return pd.Series(diccionario)\n",
    "\n",
    "# Se concatenas las series al df original\n",
    "df_expandido = pd.concat([df_misc, df_misc['MISC'].apply(expandir_diccionario)], axis=1)\n",
    "df_expandido.drop('MISC', axis=1, inplace=True)     # Se elimina la columna de MISC"
   ]
  },
  {
   "cell_type": "code",
   "execution_count": 11,
   "metadata": {},
   "outputs": [
    {
     "data": {
      "text/html": [
       "<div>\n",
       "<style scoped>\n",
       "    .dataframe tbody tr th:only-of-type {\n",
       "        vertical-align: middle;\n",
       "    }\n",
       "\n",
       "    .dataframe tbody tr th {\n",
       "        vertical-align: top;\n",
       "    }\n",
       "\n",
       "    .dataframe thead th {\n",
       "        text-align: right;\n",
       "    }\n",
       "</style>\n",
       "<table border=\"1\" class=\"dataframe\">\n",
       "  <thead>\n",
       "    <tr style=\"text-align: right;\">\n",
       "      <th></th>\n",
       "      <th>gmap_id</th>\n",
       "      <th>Service options</th>\n",
       "      <th>Health &amp; safety</th>\n",
       "      <th>Accessibility</th>\n",
       "      <th>Planning</th>\n",
       "      <th>Offerings</th>\n",
       "      <th>Amenities</th>\n",
       "      <th>Atmosphere</th>\n",
       "      <th>Payments</th>\n",
       "      <th>Popular for</th>\n",
       "      <th>Dining options</th>\n",
       "      <th>Crowd</th>\n",
       "      <th>From the business</th>\n",
       "      <th>Highlights</th>\n",
       "      <th>Recycling</th>\n",
       "      <th>Getting here</th>\n",
       "      <th>Activities</th>\n",
       "      <th>Lodging options</th>\n",
       "      <th>Health and safety</th>\n",
       "    </tr>\n",
       "  </thead>\n",
       "  <tbody>\n",
       "    <tr>\n",
       "      <th>0</th>\n",
       "      <td>0x88f16e41928ff687:0x883dad4fd048e8f8</td>\n",
       "      <td>[In-store shopping, Same-day delivery]</td>\n",
       "      <td>[Mask required, Staff required to disinfect su...</td>\n",
       "      <td>[Wheelchair accessible entrance]</td>\n",
       "      <td>[Quick visit]</td>\n",
       "      <td>NaN</td>\n",
       "      <td>NaN</td>\n",
       "      <td>NaN</td>\n",
       "      <td>NaN</td>\n",
       "      <td>NaN</td>\n",
       "      <td>NaN</td>\n",
       "      <td>NaN</td>\n",
       "      <td>NaN</td>\n",
       "      <td>NaN</td>\n",
       "      <td>NaN</td>\n",
       "      <td>NaN</td>\n",
       "      <td>NaN</td>\n",
       "      <td>NaN</td>\n",
       "      <td>NaN</td>\n",
       "    </tr>\n",
       "    <tr>\n",
       "      <th>2</th>\n",
       "      <td>0x80c2c778e3b73d33:0xbdc58662a4a97d49</td>\n",
       "      <td>[Takeout, Dine-in, Delivery]</td>\n",
       "      <td>NaN</td>\n",
       "      <td>[Wheelchair accessible entrance]</td>\n",
       "      <td>NaN</td>\n",
       "      <td>[Comfort food]</td>\n",
       "      <td>[Good for kids]</td>\n",
       "      <td>[Casual]</td>\n",
       "      <td>NaN</td>\n",
       "      <td>NaN</td>\n",
       "      <td>NaN</td>\n",
       "      <td>NaN</td>\n",
       "      <td>NaN</td>\n",
       "      <td>NaN</td>\n",
       "      <td>NaN</td>\n",
       "      <td>NaN</td>\n",
       "      <td>NaN</td>\n",
       "      <td>NaN</td>\n",
       "      <td>NaN</td>\n",
       "    </tr>\n",
       "    <tr>\n",
       "      <th>3</th>\n",
       "      <td>0x80c2c89923b27a41:0x32041559418d447</td>\n",
       "      <td>[In-store shopping]</td>\n",
       "      <td>NaN</td>\n",
       "      <td>NaN</td>\n",
       "      <td>NaN</td>\n",
       "      <td>NaN</td>\n",
       "      <td>NaN</td>\n",
       "      <td>NaN</td>\n",
       "      <td>[Checks, Debit cards, Credit cards]</td>\n",
       "      <td>NaN</td>\n",
       "      <td>NaN</td>\n",
       "      <td>NaN</td>\n",
       "      <td>NaN</td>\n",
       "      <td>NaN</td>\n",
       "      <td>NaN</td>\n",
       "      <td>NaN</td>\n",
       "      <td>NaN</td>\n",
       "      <td>NaN</td>\n",
       "      <td>NaN</td>\n",
       "    </tr>\n",
       "  </tbody>\n",
       "</table>\n",
       "</div>"
      ],
      "text/plain": [
       "                                 gmap_id  \\\n",
       "0  0x88f16e41928ff687:0x883dad4fd048e8f8   \n",
       "2  0x80c2c778e3b73d33:0xbdc58662a4a97d49   \n",
       "3   0x80c2c89923b27a41:0x32041559418d447   \n",
       "\n",
       "                          Service options  \\\n",
       "0  [In-store shopping, Same-day delivery]   \n",
       "2            [Takeout, Dine-in, Delivery]   \n",
       "3                     [In-store shopping]   \n",
       "\n",
       "                                     Health & safety  \\\n",
       "0  [Mask required, Staff required to disinfect su...   \n",
       "2                                                NaN   \n",
       "3                                                NaN   \n",
       "\n",
       "                      Accessibility       Planning       Offerings  \\\n",
       "0  [Wheelchair accessible entrance]  [Quick visit]             NaN   \n",
       "2  [Wheelchair accessible entrance]            NaN  [Comfort food]   \n",
       "3                               NaN            NaN             NaN   \n",
       "\n",
       "         Amenities Atmosphere                             Payments  \\\n",
       "0              NaN        NaN                                  NaN   \n",
       "2  [Good for kids]   [Casual]                                  NaN   \n",
       "3              NaN        NaN  [Checks, Debit cards, Credit cards]   \n",
       "\n",
       "  Popular for Dining options Crowd From the business Highlights Recycling  \\\n",
       "0         NaN            NaN   NaN               NaN        NaN       NaN   \n",
       "2         NaN            NaN   NaN               NaN        NaN       NaN   \n",
       "3         NaN            NaN   NaN               NaN        NaN       NaN   \n",
       "\n",
       "  Getting here Activities Lodging options Health and safety  \n",
       "0          NaN        NaN             NaN               NaN  \n",
       "2          NaN        NaN             NaN               NaN  \n",
       "3          NaN        NaN             NaN               NaN  "
      ]
     },
     "execution_count": 11,
     "metadata": {},
     "output_type": "execute_result"
    }
   ],
   "source": [
    "df_misc= df_expandido\n",
    "df_misc.head(3)"
   ]
  },
  {
   "cell_type": "markdown",
   "metadata": {},
   "source": [
    "Se revisan el contenido de las columnas para ver cuales nos sirven para el analisis"
   ]
  },
  {
   "cell_type": "code",
   "execution_count": 12,
   "metadata": {},
   "outputs": [
    {
     "data": {
      "text/plain": [
       "Service options\n",
       "nan                                                            1428216\n",
       "['In-store shopping', 'Delivery']                               133839\n",
       "['In-store shopping']                                            94979\n",
       "['Delivery']                                                     84921\n",
       "['Takeout', 'Delivery']                                          35087\n",
       "['Online care']                                                  34323\n",
       "['In-store pickup', 'In-store shopping', 'Delivery']             32680\n",
       "['Takeout', 'Dine-in', 'Delivery']                               25223\n",
       "['In-store pickup', 'In-store shopping']                         24731\n",
       "['Curbside pickup', 'In-store pickup', 'In-store shopping']      24078\n",
       "Name: count, dtype: int64"
      ]
     },
     "execution_count": 12,
     "metadata": {},
     "output_type": "execute_result"
    }
   ],
   "source": [
    "df_misc['Service options'].astype(str).value_counts()[:10]"
   ]
  },
  {
   "cell_type": "code",
   "execution_count": 13,
   "metadata": {},
   "outputs": [
    {
     "data": {
      "text/plain": [
       "Planning\n",
       "nan                                                                              1546466\n",
       "['Appointments recommended']                                                      379364\n",
       "['Quick visit']                                                                   369230\n",
       "['Accepts reservations']                                                           27448\n",
       "['Membership required']                                                             5572\n",
       "['Dinner reservations recommended', 'Accepts reservations']                         2773\n",
       "['Usually a wait']                                                                  1688\n",
       "['Appointments recommended', 'Quick visit']                                          576\n",
       "['Accepts reservations', 'Usually a wait']                                           261\n",
       "['Dinner reservations recommended', 'Accepts reservations', 'Usually a wait']        258\n",
       "Name: count, dtype: int64"
      ]
     },
     "execution_count": 13,
     "metadata": {},
     "output_type": "execute_result"
    }
   ],
   "source": [
    "df_misc['Planning'].astype(str).value_counts()[:10]"
   ]
  },
  {
   "cell_type": "markdown",
   "metadata": {},
   "source": [
    "Observaciones:\n",
    "\n",
    "*Al revisar todas las columnas podemos ver que solo las columnas 'Service options' y 'Planning' nos podrian servir para el analisis. Ser crearan tablas con estas columnas*"
   ]
  },
  {
   "cell_type": "markdown",
   "metadata": {},
   "source": [
    "##### 2.2.1. Se crea 2 tablas 'Service options' y 'Planning' relacionada por 'gmap_id' "
   ]
  },
  {
   "cell_type": "code",
   "execution_count": 24,
   "metadata": {},
   "outputs": [],
   "source": [
    "df_Service_options= df_misc[['gmap_id','Service options']]      # Se crea un df solo las columnas gmap_id y Service Options\n",
    "df_Service_options= df_Service_options.rename(columns={'Service options': 'service_option'}) # cambiar nombre de la columna\n",
    "df_Service_options= df_Service_options.dropna(subset=['service_option']) # Elimina filas con columna 'Service Opciones nulas'\n",
    "df_Service_options= df_Service_options.explode('service_option')"
   ]
  },
  {
   "cell_type": "code",
   "execution_count": 25,
   "metadata": {},
   "outputs": [
    {
     "data": {
      "text/html": [
       "<div>\n",
       "<style scoped>\n",
       "    .dataframe tbody tr th:only-of-type {\n",
       "        vertical-align: middle;\n",
       "    }\n",
       "\n",
       "    .dataframe tbody tr th {\n",
       "        vertical-align: top;\n",
       "    }\n",
       "\n",
       "    .dataframe thead th {\n",
       "        text-align: right;\n",
       "    }\n",
       "</style>\n",
       "<table border=\"1\" class=\"dataframe\">\n",
       "  <thead>\n",
       "    <tr style=\"text-align: right;\">\n",
       "      <th></th>\n",
       "      <th>gmap_id</th>\n",
       "      <th>service_option</th>\n",
       "    </tr>\n",
       "  </thead>\n",
       "  <tbody>\n",
       "    <tr>\n",
       "      <th>0</th>\n",
       "      <td>0x88f16e41928ff687:0x883dad4fd048e8f8</td>\n",
       "      <td>In-store shopping</td>\n",
       "    </tr>\n",
       "    <tr>\n",
       "      <th>0</th>\n",
       "      <td>0x88f16e41928ff687:0x883dad4fd048e8f8</td>\n",
       "      <td>Same-day delivery</td>\n",
       "    </tr>\n",
       "    <tr>\n",
       "      <th>2</th>\n",
       "      <td>0x80c2c778e3b73d33:0xbdc58662a4a97d49</td>\n",
       "      <td>Takeout</td>\n",
       "    </tr>\n",
       "  </tbody>\n",
       "</table>\n",
       "</div>"
      ],
      "text/plain": [
       "                                 gmap_id     service_option\n",
       "0  0x88f16e41928ff687:0x883dad4fd048e8f8  In-store shopping\n",
       "0  0x88f16e41928ff687:0x883dad4fd048e8f8  Same-day delivery\n",
       "2  0x80c2c778e3b73d33:0xbdc58662a4a97d49            Takeout"
      ]
     },
     "execution_count": 25,
     "metadata": {},
     "output_type": "execute_result"
    }
   ],
   "source": [
    "df_Service_options.head(3)"
   ]
  },
  {
   "cell_type": "code",
   "execution_count": 28,
   "metadata": {},
   "outputs": [],
   "source": [
    "df_Planning= df_misc[['gmap_id','Planning']]      # Se crea un df solo las columnas gmap_id y Planning\n",
    "df_Planning= df_Planning.rename(columns={'Planning': 'planning_option'}) # cambiar nombre de la columna\n",
    "df_Planning= df_Planning.dropna(subset=['planning_option']) # Elimina filas con columna 'Service Opciones nulas'\n",
    "df_Planning= df_Planning.explode('planning_option')"
   ]
  },
  {
   "cell_type": "code",
   "execution_count": 29,
   "metadata": {},
   "outputs": [
    {
     "data": {
      "text/html": [
       "<div>\n",
       "<style scoped>\n",
       "    .dataframe tbody tr th:only-of-type {\n",
       "        vertical-align: middle;\n",
       "    }\n",
       "\n",
       "    .dataframe tbody tr th {\n",
       "        vertical-align: top;\n",
       "    }\n",
       "\n",
       "    .dataframe thead th {\n",
       "        text-align: right;\n",
       "    }\n",
       "</style>\n",
       "<table border=\"1\" class=\"dataframe\">\n",
       "  <thead>\n",
       "    <tr style=\"text-align: right;\">\n",
       "      <th></th>\n",
       "      <th>gmap_id</th>\n",
       "      <th>planning_option</th>\n",
       "    </tr>\n",
       "  </thead>\n",
       "  <tbody>\n",
       "    <tr>\n",
       "      <th>0</th>\n",
       "      <td>0x88f16e41928ff687:0x883dad4fd048e8f8</td>\n",
       "      <td>Quick visit</td>\n",
       "    </tr>\n",
       "    <tr>\n",
       "      <th>10</th>\n",
       "      <td>0x87ec2394c2cd9d2d:0xd1119cfbee0da6f3</td>\n",
       "      <td>Appointments recommended</td>\n",
       "    </tr>\n",
       "    <tr>\n",
       "      <th>11</th>\n",
       "      <td>0x87ee95d1e474531b:0xb432dd96285cdc6b</td>\n",
       "      <td>Appointments recommended</td>\n",
       "    </tr>\n",
       "  </tbody>\n",
       "</table>\n",
       "</div>"
      ],
      "text/plain": [
       "                                  gmap_id           planning_option\n",
       "0   0x88f16e41928ff687:0x883dad4fd048e8f8               Quick visit\n",
       "10  0x87ec2394c2cd9d2d:0xd1119cfbee0da6f3  Appointments recommended\n",
       "11  0x87ee95d1e474531b:0xb432dd96285cdc6b  Appointments recommended"
      ]
     },
     "execution_count": 29,
     "metadata": {},
     "output_type": "execute_result"
    }
   ],
   "source": [
    "df_Planning.head(3)"
   ]
  },
  {
   "cell_type": "markdown",
   "metadata": {},
   "source": [
    "#### 2.3. Se extrae la Ciudad y Estado de la columna 'address'"
   ]
  },
  {
   "cell_type": "code",
   "execution_count": 314,
   "metadata": {},
   "outputs": [],
   "source": [
    "# En pruebas se detecto que esta fila estaba dando problemas con la funcion para extraer, asi que se procede a eliminarla\n",
    "df_sitios= df_sitios[df_sitios['address'] != \"〒10028 New York, Lexington Ave, (New) Ichie Japanese Restaurant\"]"
   ]
  },
  {
   "cell_type": "code",
   "execution_count": 315,
   "metadata": {},
   "outputs": [],
   "source": [
    "# Funcion para extraer la La ciudad y el estrado de la direccion\n",
    "def Ext_Ciudad_Estado(dir):\n",
    "    ciudad= \"SIN DATO\"\n",
    "    estado= \"SIN DATO\"     \n",
    "    if len(str(dir)) > 10:  \n",
    "        lista= str(dir).split(',')\n",
    "        if len(lista) > 2:\n",
    "            codigo= lista[-1][1:3]\n",
    "            df_filtro= df_estados_USA[df_estados_USA['nombre_corto'].str.contains(codigo)]        \n",
    "            if not df_filtro.empty:            \n",
    "                ciudad = lista[-2].strip()\n",
    "                estado= df_filtro.nombre_largo.values[0].strip()\n",
    "    return ciudad, estado"
   ]
  },
  {
   "cell_type": "code",
   "execution_count": 316,
   "metadata": {},
   "outputs": [],
   "source": [
    "df_sitios[['ciudad','estado']] = df_sitios.apply(lambda x: Ext_Ciudad_Estado(x['address']), axis=1, result_type='expand')"
   ]
  },
  {
   "cell_type": "markdown",
   "metadata": {},
   "source": [
    "#### 2.4. Se borran las columnas innecesarias"
   ]
  },
  {
   "cell_type": "code",
   "execution_count": 318,
   "metadata": {},
   "outputs": [],
   "source": [
    "#Borrar Columnas\n",
    "df_sitios= df_sitios.drop(['relative_results','address', 'num_of_reviews', 'description', 'url','category', 'MISC', 'hours'], axis=1) \n",
    "# Ordena el orden de las columnas\n",
    "df_sitios= df_sitios[['gmap_id','name', 'ciudad', 'estado', 'latitude', 'longitude', 'avg_rating', 'price', 'state']]    "
   ]
  },
  {
   "cell_type": "code",
   "execution_count": 322,
   "metadata": {},
   "outputs": [
    {
     "data": {
      "text/html": [
       "<div>\n",
       "<style scoped>\n",
       "    .dataframe tbody tr th:only-of-type {\n",
       "        vertical-align: middle;\n",
       "    }\n",
       "\n",
       "    .dataframe tbody tr th {\n",
       "        vertical-align: top;\n",
       "    }\n",
       "\n",
       "    .dataframe thead th {\n",
       "        text-align: right;\n",
       "    }\n",
       "</style>\n",
       "<table border=\"1\" class=\"dataframe\">\n",
       "  <thead>\n",
       "    <tr style=\"text-align: right;\">\n",
       "      <th></th>\n",
       "      <th>gmap_id</th>\n",
       "      <th>name</th>\n",
       "      <th>ciudad</th>\n",
       "      <th>estado</th>\n",
       "      <th>latitude</th>\n",
       "      <th>longitude</th>\n",
       "      <th>avg_rating</th>\n",
       "      <th>price</th>\n",
       "      <th>state</th>\n",
       "    </tr>\n",
       "  </thead>\n",
       "  <tbody>\n",
       "    <tr>\n",
       "      <th>0</th>\n",
       "      <td>0x88f16e41928ff687:0x883dad4fd048e8f8</td>\n",
       "      <td>Porter Pharmacy</td>\n",
       "      <td>Cochran</td>\n",
       "      <td>Georgia</td>\n",
       "      <td>32.388300</td>\n",
       "      <td>-83.35710</td>\n",
       "      <td>4.9</td>\n",
       "      <td>None</td>\n",
       "      <td>Open ⋅ Closes 6PM</td>\n",
       "    </tr>\n",
       "    <tr>\n",
       "      <th>1</th>\n",
       "      <td>0x80c2c98c0e3c16fd:0x29ec8a728764fdf9</td>\n",
       "      <td>City Textile</td>\n",
       "      <td>Los Angeles</td>\n",
       "      <td>California</td>\n",
       "      <td>34.018891</td>\n",
       "      <td>-118.21529</td>\n",
       "      <td>4.5</td>\n",
       "      <td>None</td>\n",
       "      <td>Open now</td>\n",
       "    </tr>\n",
       "    <tr>\n",
       "      <th>2</th>\n",
       "      <td>0x80c2c778e3b73d33:0xbdc58662a4a97d49</td>\n",
       "      <td>San Soo Dang</td>\n",
       "      <td>Los Angeles</td>\n",
       "      <td>California</td>\n",
       "      <td>34.058092</td>\n",
       "      <td>-118.29213</td>\n",
       "      <td>4.4</td>\n",
       "      <td>None</td>\n",
       "      <td>Open ⋅ Closes 6PM</td>\n",
       "    </tr>\n",
       "  </tbody>\n",
       "</table>\n",
       "</div>"
      ],
      "text/plain": [
       "                                 gmap_id             name       ciudad  \\\n",
       "0  0x88f16e41928ff687:0x883dad4fd048e8f8  Porter Pharmacy      Cochran   \n",
       "1  0x80c2c98c0e3c16fd:0x29ec8a728764fdf9     City Textile  Los Angeles   \n",
       "2  0x80c2c778e3b73d33:0xbdc58662a4a97d49     San Soo Dang  Los Angeles   \n",
       "\n",
       "       estado   latitude  longitude  avg_rating price              state  \n",
       "0     Georgia  32.388300  -83.35710         4.9  None  Open ⋅ Closes 6PM  \n",
       "1  California  34.018891 -118.21529         4.5  None           Open now  \n",
       "2  California  34.058092 -118.29213         4.4  None  Open ⋅ Closes 6PM  "
      ]
     },
     "execution_count": 322,
     "metadata": {},
     "output_type": "execute_result"
    }
   ],
   "source": [
    "df_sitios.head(3)"
   ]
  },
  {
   "cell_type": "code",
   "execution_count": 323,
   "metadata": {},
   "outputs": [
    {
     "name": "stdout",
     "output_type": "stream",
     "text": [
      "<class 'pandas.core.frame.DataFrame'>\n",
      "Index: 2927085 entries, 0 to 3025010\n",
      "Data columns (total 9 columns):\n",
      " #   Column      Dtype  \n",
      "---  ------      -----  \n",
      " 0   gmap_id     object \n",
      " 1   name        object \n",
      " 2   ciudad      object \n",
      " 3   estado      object \n",
      " 4   latitude    float64\n",
      " 5   longitude   float64\n",
      " 6   avg_rating  float64\n",
      " 7   price       object \n",
      " 8   state       object \n",
      "dtypes: float64(3), object(6)\n",
      "memory usage: 223.3+ MB\n"
     ]
    }
   ],
   "source": [
    "df_sitios.info()"
   ]
  },
  {
   "cell_type": "markdown",
   "metadata": {},
   "source": [
    "### **3. Exportacion de DataFrames a archivos .parquet**"
   ]
  },
  {
   "cell_type": "code",
   "execution_count": 324,
   "metadata": {},
   "outputs": [],
   "source": [
    "df_sitios.to_parquet('D:/PROYECTO FINAL/Google Maps/Sitios_GMaps.parquet', index=False)"
   ]
  },
  {
   "cell_type": "code",
   "execution_count": null,
   "metadata": {},
   "outputs": [],
   "source": [
    "df_category.to_parquet('D:/PROYECTO FINAL/Google Maps/Category_Sitios.parquet', index=False)"
   ]
  },
  {
   "cell_type": "code",
   "execution_count": 32,
   "metadata": {},
   "outputs": [],
   "source": [
    "df_Service_options.to_parquet('D:/PROYECTO FINAL/Google Maps/Service-options_Sitios.parquet', index=False)"
   ]
  },
  {
   "cell_type": "code",
   "execution_count": 33,
   "metadata": {},
   "outputs": [],
   "source": [
    "df_Planning.to_parquet('D:/PROYECTO FINAL/Google Maps/Planning-options_Sitios.parquet', index=False)"
   ]
  },
  {
   "cell_type": "markdown",
   "metadata": {},
   "source": [
    "#########################################################################################################################"
   ]
  },
  {
   "cell_type": "markdown",
   "metadata": {},
   "source": [
    "### Reviews Estados"
   ]
  },
  {
   "cell_type": "code",
   "execution_count": 2,
   "metadata": {},
   "outputs": [],
   "source": [
    "rutaJson = \"D:/PROYECTO FINAL/Google Maps/reviews-estados/review-Arizona/\"     # Ruta de los json de Sitios"
   ]
  },
  {
   "cell_type": "code",
   "execution_count": 3,
   "metadata": {},
   "outputs": [
    {
     "data": {
      "text/plain": [
       "['D:/PROYECTO FINAL/Google Maps/reviews-estados/review-Arizona/1.json',\n",
       " 'D:/PROYECTO FINAL/Google Maps/reviews-estados/review-Arizona/10.json',\n",
       " 'D:/PROYECTO FINAL/Google Maps/reviews-estados/review-Arizona/11.json',\n",
       " 'D:/PROYECTO FINAL/Google Maps/reviews-estados/review-Arizona/12.json',\n",
       " 'D:/PROYECTO FINAL/Google Maps/reviews-estados/review-Arizona/13.json',\n",
       " 'D:/PROYECTO FINAL/Google Maps/reviews-estados/review-Arizona/14.json',\n",
       " 'D:/PROYECTO FINAL/Google Maps/reviews-estados/review-Arizona/2.json',\n",
       " 'D:/PROYECTO FINAL/Google Maps/reviews-estados/review-Arizona/3.json',\n",
       " 'D:/PROYECTO FINAL/Google Maps/reviews-estados/review-Arizona/4.json',\n",
       " 'D:/PROYECTO FINAL/Google Maps/reviews-estados/review-Arizona/5.json',\n",
       " 'D:/PROYECTO FINAL/Google Maps/reviews-estados/review-Arizona/6.json',\n",
       " 'D:/PROYECTO FINAL/Google Maps/reviews-estados/review-Arizona/7.json',\n",
       " 'D:/PROYECTO FINAL/Google Maps/reviews-estados/review-Arizona/8.json',\n",
       " 'D:/PROYECTO FINAL/Google Maps/reviews-estados/review-Arizona/9.json']"
      ]
     },
     "execution_count": 3,
     "metadata": {},
     "output_type": "execute_result"
    }
   ],
   "source": [
    "archivos_json = [os.path.join(rutaJson, archivo) for archivo in os.listdir(rutaJson) if archivo.endswith('.json')]\n",
    "archivos_json"
   ]
  },
  {
   "cell_type": "code",
   "execution_count": 4,
   "metadata": {},
   "outputs": [],
   "source": [
    "# Cargar todas los archivos Json y colocarlos en una lista\n",
    "lista_df_review = []\n",
    "for archivo in archivos_json:       \n",
    "    df = pd.read_json(archivo, lines=True)\n",
    "    lista_df_review.append(df)"
   ]
  },
  {
   "cell_type": "code",
   "execution_count": 5,
   "metadata": {},
   "outputs": [],
   "source": [
    "df_review_Arizona = pd.concat(lista_df_review, ignore_index=True)     # Concatenar los Dataframes cargados en la lista"
   ]
  },
  {
   "cell_type": "code",
   "execution_count": 6,
   "metadata": {},
   "outputs": [
    {
     "name": "stdout",
     "output_type": "stream",
     "text": [
      "<class 'pandas.core.frame.DataFrame'>\n",
      "RangeIndex: 2100000 entries, 0 to 2099999\n",
      "Data columns (total 8 columns):\n",
      " #   Column   Dtype  \n",
      "---  ------   -----  \n",
      " 0   user_id  float64\n",
      " 1   name     object \n",
      " 2   time     int64  \n",
      " 3   rating   int64  \n",
      " 4   text     object \n",
      " 5   pics     object \n",
      " 6   resp     object \n",
      " 7   gmap_id  object \n",
      "dtypes: float64(1), int64(2), object(5)\n",
      "memory usage: 128.2+ MB\n"
     ]
    }
   ],
   "source": [
    "df_review_Arizona.info()"
   ]
  },
  {
   "cell_type": "code",
   "execution_count": 7,
   "metadata": {},
   "outputs": [
    {
     "data": {
      "text/html": [
       "<div>\n",
       "<style scoped>\n",
       "    .dataframe tbody tr th:only-of-type {\n",
       "        vertical-align: middle;\n",
       "    }\n",
       "\n",
       "    .dataframe tbody tr th {\n",
       "        vertical-align: top;\n",
       "    }\n",
       "\n",
       "    .dataframe thead th {\n",
       "        text-align: right;\n",
       "    }\n",
       "</style>\n",
       "<table border=\"1\" class=\"dataframe\">\n",
       "  <thead>\n",
       "    <tr style=\"text-align: right;\">\n",
       "      <th></th>\n",
       "      <th>user_id</th>\n",
       "      <th>name</th>\n",
       "      <th>time</th>\n",
       "      <th>rating</th>\n",
       "      <th>text</th>\n",
       "      <th>pics</th>\n",
       "      <th>resp</th>\n",
       "      <th>gmap_id</th>\n",
       "    </tr>\n",
       "  </thead>\n",
       "  <tbody>\n",
       "    <tr>\n",
       "      <th>0</th>\n",
       "      <td>1.183560e+20</td>\n",
       "      <td>Vicki Ullery</td>\n",
       "      <td>1628718071358</td>\n",
       "      <td>5</td>\n",
       "      <td>Gwen was so informative and made me feel comfo...</td>\n",
       "      <td>None</td>\n",
       "      <td>None</td>\n",
       "      <td>0x872b5dae3c5fcfa7:0xf0f8b286a2537821</td>\n",
       "    </tr>\n",
       "    <tr>\n",
       "      <th>1</th>\n",
       "      <td>1.126523e+20</td>\n",
       "      <td>Doc Kovacs</td>\n",
       "      <td>1609796129431</td>\n",
       "      <td>5</td>\n",
       "      <td>Dr. Huyhn is an ethical skilled dentist. Her s...</td>\n",
       "      <td>None</td>\n",
       "      <td>None</td>\n",
       "      <td>0x872b5dae3c5fcfa7:0xf0f8b286a2537821</td>\n",
       "    </tr>\n",
       "    <tr>\n",
       "      <th>2</th>\n",
       "      <td>1.089879e+20</td>\n",
       "      <td>Pedro Diaz</td>\n",
       "      <td>1594225668169</td>\n",
       "      <td>1</td>\n",
       "      <td>Not sure if one star is fair but my situation ...</td>\n",
       "      <td>None</td>\n",
       "      <td>None</td>\n",
       "      <td>0x872b5dae3c5fcfa7:0xf0f8b286a2537821</td>\n",
       "    </tr>\n",
       "    <tr>\n",
       "      <th>3</th>\n",
       "      <td>1.069277e+20</td>\n",
       "      <td>Brandon Ray</td>\n",
       "      <td>1622676189509</td>\n",
       "      <td>5</td>\n",
       "      <td>Best dentist office I've ever had. Love everyt...</td>\n",
       "      <td>None</td>\n",
       "      <td>None</td>\n",
       "      <td>0x872b5dae3c5fcfa7:0xf0f8b286a2537821</td>\n",
       "    </tr>\n",
       "    <tr>\n",
       "      <th>4</th>\n",
       "      <td>1.090535e+20</td>\n",
       "      <td>T. Bennett</td>\n",
       "      <td>1434829263041</td>\n",
       "      <td>5</td>\n",
       "      <td>I've been coming to Oasis dentistry for a whil...</td>\n",
       "      <td>None</td>\n",
       "      <td>None</td>\n",
       "      <td>0x872b5dae3c5fcfa7:0xf0f8b286a2537821</td>\n",
       "    </tr>\n",
       "  </tbody>\n",
       "</table>\n",
       "</div>"
      ],
      "text/plain": [
       "        user_id          name           time  rating  \\\n",
       "0  1.183560e+20  Vicki Ullery  1628718071358       5   \n",
       "1  1.126523e+20    Doc Kovacs  1609796129431       5   \n",
       "2  1.089879e+20    Pedro Diaz  1594225668169       1   \n",
       "3  1.069277e+20   Brandon Ray  1622676189509       5   \n",
       "4  1.090535e+20    T. Bennett  1434829263041       5   \n",
       "\n",
       "                                                text  pics  resp  \\\n",
       "0  Gwen was so informative and made me feel comfo...  None  None   \n",
       "1  Dr. Huyhn is an ethical skilled dentist. Her s...  None  None   \n",
       "2  Not sure if one star is fair but my situation ...  None  None   \n",
       "3  Best dentist office I've ever had. Love everyt...  None  None   \n",
       "4  I've been coming to Oasis dentistry for a whil...  None  None   \n",
       "\n",
       "                                 gmap_id  \n",
       "0  0x872b5dae3c5fcfa7:0xf0f8b286a2537821  \n",
       "1  0x872b5dae3c5fcfa7:0xf0f8b286a2537821  \n",
       "2  0x872b5dae3c5fcfa7:0xf0f8b286a2537821  \n",
       "3  0x872b5dae3c5fcfa7:0xf0f8b286a2537821  \n",
       "4  0x872b5dae3c5fcfa7:0xf0f8b286a2537821  "
      ]
     },
     "execution_count": 7,
     "metadata": {},
     "output_type": "execute_result"
    }
   ],
   "source": [
    "df_review_Arizona.head(5)"
   ]
  },
  {
   "cell_type": "code",
   "execution_count": 8,
   "metadata": {},
   "outputs": [
    {
     "data": {
      "text/plain": [
       "user_id          0\n",
       "name             0\n",
       "time             0\n",
       "rating           0\n",
       "text        832184\n",
       "pics       2036129\n",
       "resp       1760851\n",
       "gmap_id          0\n",
       "dtype: int64"
      ]
     },
     "execution_count": 8,
     "metadata": {},
     "output_type": "execute_result"
    }
   ],
   "source": [
    "df_review_Arizona.isnull().sum()"
   ]
  },
  {
   "cell_type": "code",
   "execution_count": 9,
   "metadata": {},
   "outputs": [],
   "source": [
    "df_review_Arizona= df_review_Arizona.drop('pics', axis=1)       #Elimina la columna pics"
   ]
  },
  {
   "cell_type": "code",
   "execution_count": 19,
   "metadata": {},
   "outputs": [],
   "source": [
    "df_review_Arizona['time'] = pd.to_datetime(df_review_Arizona['time'],unit='ms')     #Transforma la columna de tipo timestamp a formato datetime"
   ]
  },
  {
   "cell_type": "code",
   "execution_count": 20,
   "metadata": {},
   "outputs": [
    {
     "data": {
      "text/html": [
       "<div>\n",
       "<style scoped>\n",
       "    .dataframe tbody tr th:only-of-type {\n",
       "        vertical-align: middle;\n",
       "    }\n",
       "\n",
       "    .dataframe tbody tr th {\n",
       "        vertical-align: top;\n",
       "    }\n",
       "\n",
       "    .dataframe thead th {\n",
       "        text-align: right;\n",
       "    }\n",
       "</style>\n",
       "<table border=\"1\" class=\"dataframe\">\n",
       "  <thead>\n",
       "    <tr style=\"text-align: right;\">\n",
       "      <th></th>\n",
       "      <th>user_id</th>\n",
       "      <th>name</th>\n",
       "      <th>time</th>\n",
       "      <th>rating</th>\n",
       "      <th>text</th>\n",
       "      <th>resp</th>\n",
       "      <th>gmap_id</th>\n",
       "    </tr>\n",
       "  </thead>\n",
       "  <tbody>\n",
       "    <tr>\n",
       "      <th>0</th>\n",
       "      <td>1.183560e+20</td>\n",
       "      <td>Vicki Ullery</td>\n",
       "      <td>2021-08-11 21:41:11.358</td>\n",
       "      <td>5</td>\n",
       "      <td>Gwen was so informative and made me feel comfo...</td>\n",
       "      <td>None</td>\n",
       "      <td>0x872b5dae3c5fcfa7:0xf0f8b286a2537821</td>\n",
       "    </tr>\n",
       "    <tr>\n",
       "      <th>1</th>\n",
       "      <td>1.126523e+20</td>\n",
       "      <td>Doc Kovacs</td>\n",
       "      <td>2021-01-04 21:35:29.431</td>\n",
       "      <td>5</td>\n",
       "      <td>Dr. Huyhn is an ethical skilled dentist. Her s...</td>\n",
       "      <td>None</td>\n",
       "      <td>0x872b5dae3c5fcfa7:0xf0f8b286a2537821</td>\n",
       "    </tr>\n",
       "    <tr>\n",
       "      <th>2</th>\n",
       "      <td>1.089879e+20</td>\n",
       "      <td>Pedro Diaz</td>\n",
       "      <td>2020-07-08 16:27:48.169</td>\n",
       "      <td>1</td>\n",
       "      <td>Not sure if one star is fair but my situation ...</td>\n",
       "      <td>None</td>\n",
       "      <td>0x872b5dae3c5fcfa7:0xf0f8b286a2537821</td>\n",
       "    </tr>\n",
       "    <tr>\n",
       "      <th>3</th>\n",
       "      <td>1.069277e+20</td>\n",
       "      <td>Brandon Ray</td>\n",
       "      <td>2021-06-02 23:23:09.509</td>\n",
       "      <td>5</td>\n",
       "      <td>Best dentist office I've ever had. Love everyt...</td>\n",
       "      <td>None</td>\n",
       "      <td>0x872b5dae3c5fcfa7:0xf0f8b286a2537821</td>\n",
       "    </tr>\n",
       "    <tr>\n",
       "      <th>4</th>\n",
       "      <td>1.090535e+20</td>\n",
       "      <td>T. Bennett</td>\n",
       "      <td>2015-06-20 19:41:03.041</td>\n",
       "      <td>5</td>\n",
       "      <td>I've been coming to Oasis dentistry for a whil...</td>\n",
       "      <td>None</td>\n",
       "      <td>0x872b5dae3c5fcfa7:0xf0f8b286a2537821</td>\n",
       "    </tr>\n",
       "    <tr>\n",
       "      <th>...</th>\n",
       "      <td>...</td>\n",
       "      <td>...</td>\n",
       "      <td>...</td>\n",
       "      <td>...</td>\n",
       "      <td>...</td>\n",
       "      <td>...</td>\n",
       "      <td>...</td>\n",
       "    </tr>\n",
       "    <tr>\n",
       "      <th>2099995</th>\n",
       "      <td>1.107824e+20</td>\n",
       "      <td>Nina Kitsmiller</td>\n",
       "      <td>2018-01-19 09:52:37.532</td>\n",
       "      <td>4</td>\n",
       "      <td>Cindy is great.... staff is ok.</td>\n",
       "      <td>None</td>\n",
       "      <td>0x872a3e98eb27210f:0xa7a246259f678edf</td>\n",
       "    </tr>\n",
       "    <tr>\n",
       "      <th>2099996</th>\n",
       "      <td>1.053941e+20</td>\n",
       "      <td>Green Leaf</td>\n",
       "      <td>2019-04-21 01:49:56.904</td>\n",
       "      <td>3</td>\n",
       "      <td>None</td>\n",
       "      <td>None</td>\n",
       "      <td>0x872a3e98eb27210f:0xa7a246259f678edf</td>\n",
       "    </tr>\n",
       "    <tr>\n",
       "      <th>2099997</th>\n",
       "      <td>1.006415e+20</td>\n",
       "      <td>Krystal Scoggins</td>\n",
       "      <td>2019-10-09 11:49:21.138</td>\n",
       "      <td>5</td>\n",
       "      <td>None</td>\n",
       "      <td>None</td>\n",
       "      <td>0x872a3e98eb27210f:0xa7a246259f678edf</td>\n",
       "    </tr>\n",
       "    <tr>\n",
       "      <th>2099998</th>\n",
       "      <td>1.172314e+20</td>\n",
       "      <td>John DiMarco</td>\n",
       "      <td>2019-01-11 21:54:37.304</td>\n",
       "      <td>5</td>\n",
       "      <td>None</td>\n",
       "      <td>None</td>\n",
       "      <td>0x872a3e98eb27210f:0xa7a246259f678edf</td>\n",
       "    </tr>\n",
       "    <tr>\n",
       "      <th>2099999</th>\n",
       "      <td>1.042303e+20</td>\n",
       "      <td>Jody burgess</td>\n",
       "      <td>2019-12-05 03:58:25.688</td>\n",
       "      <td>1</td>\n",
       "      <td>None</td>\n",
       "      <td>{'time': 1575564140346, 'text': 'Good Morning....</td>\n",
       "      <td>0x872a3e98eb27210f:0xa7a246259f678edf</td>\n",
       "    </tr>\n",
       "  </tbody>\n",
       "</table>\n",
       "<p>2100000 rows × 7 columns</p>\n",
       "</div>"
      ],
      "text/plain": [
       "              user_id              name                    time  rating  \\\n",
       "0        1.183560e+20      Vicki Ullery 2021-08-11 21:41:11.358       5   \n",
       "1        1.126523e+20        Doc Kovacs 2021-01-04 21:35:29.431       5   \n",
       "2        1.089879e+20        Pedro Diaz 2020-07-08 16:27:48.169       1   \n",
       "3        1.069277e+20       Brandon Ray 2021-06-02 23:23:09.509       5   \n",
       "4        1.090535e+20        T. Bennett 2015-06-20 19:41:03.041       5   \n",
       "...               ...               ...                     ...     ...   \n",
       "2099995  1.107824e+20   Nina Kitsmiller 2018-01-19 09:52:37.532       4   \n",
       "2099996  1.053941e+20        Green Leaf 2019-04-21 01:49:56.904       3   \n",
       "2099997  1.006415e+20  Krystal Scoggins 2019-10-09 11:49:21.138       5   \n",
       "2099998  1.172314e+20      John DiMarco 2019-01-11 21:54:37.304       5   \n",
       "2099999  1.042303e+20      Jody burgess 2019-12-05 03:58:25.688       1   \n",
       "\n",
       "                                                      text  \\\n",
       "0        Gwen was so informative and made me feel comfo...   \n",
       "1        Dr. Huyhn is an ethical skilled dentist. Her s...   \n",
       "2        Not sure if one star is fair but my situation ...   \n",
       "3        Best dentist office I've ever had. Love everyt...   \n",
       "4        I've been coming to Oasis dentistry for a whil...   \n",
       "...                                                    ...   \n",
       "2099995                    Cindy is great.... staff is ok.   \n",
       "2099996                                               None   \n",
       "2099997                                               None   \n",
       "2099998                                               None   \n",
       "2099999                                               None   \n",
       "\n",
       "                                                      resp  \\\n",
       "0                                                     None   \n",
       "1                                                     None   \n",
       "2                                                     None   \n",
       "3                                                     None   \n",
       "4                                                     None   \n",
       "...                                                    ...   \n",
       "2099995                                               None   \n",
       "2099996                                               None   \n",
       "2099997                                               None   \n",
       "2099998                                               None   \n",
       "2099999  {'time': 1575564140346, 'text': 'Good Morning....   \n",
       "\n",
       "                                       gmap_id  \n",
       "0        0x872b5dae3c5fcfa7:0xf0f8b286a2537821  \n",
       "1        0x872b5dae3c5fcfa7:0xf0f8b286a2537821  \n",
       "2        0x872b5dae3c5fcfa7:0xf0f8b286a2537821  \n",
       "3        0x872b5dae3c5fcfa7:0xf0f8b286a2537821  \n",
       "4        0x872b5dae3c5fcfa7:0xf0f8b286a2537821  \n",
       "...                                        ...  \n",
       "2099995  0x872a3e98eb27210f:0xa7a246259f678edf  \n",
       "2099996  0x872a3e98eb27210f:0xa7a246259f678edf  \n",
       "2099997  0x872a3e98eb27210f:0xa7a246259f678edf  \n",
       "2099998  0x872a3e98eb27210f:0xa7a246259f678edf  \n",
       "2099999  0x872a3e98eb27210f:0xa7a246259f678edf  \n",
       "\n",
       "[2100000 rows x 7 columns]"
      ]
     },
     "execution_count": 20,
     "metadata": {},
     "output_type": "execute_result"
    }
   ],
   "source": [
    "df_review_Arizona"
   ]
  },
  {
   "cell_type": "code",
   "execution_count": 36,
   "metadata": {},
   "outputs": [],
   "source": [
    "df_review_Arizona.to_parquet('D:/PROYECTO FINAL/Google Maps/Review_Arizona.parquet', index=False)"
   ]
  }
 ],
 "metadata": {
  "kernelspec": {
   "display_name": "Python 3",
   "language": "python",
   "name": "python3"
  },
  "language_info": {
   "codemirror_mode": {
    "name": "ipython",
    "version": 3
   },
   "file_extension": ".py",
   "mimetype": "text/x-python",
   "name": "python",
   "nbconvert_exporter": "python",
   "pygments_lexer": "ipython3",
   "version": "3.11.1"
  }
 },
 "nbformat": 4,
 "nbformat_minor": 2
}
