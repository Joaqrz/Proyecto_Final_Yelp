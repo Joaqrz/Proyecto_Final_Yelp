{
 "cells": [
  {
   "cell_type": "code",
   "execution_count": 1,
   "metadata": {},
   "outputs": [],
   "source": [
    "import requests\n",
    "import numpy as np"
   ]
  },
  {
   "cell_type": "code",
   "execution_count": 3,
   "metadata": {},
   "outputs": [
    {
     "name": "stdout",
     "output_type": "stream",
     "text": [
      "<class 'numpy.ndarray'>\n"
     ]
    },
    {
     "data": {
      "text/plain": [
       "array([[ 3.61194787e+01, -8.67625246e+01, -8.77312102e-02,\n",
       "         7.51309090e-01,  2.37027947e-01,  7.47472353e-01,\n",
       "         5.73710017e-01,  0.00000000e+00, -1.59041764e-01],\n",
       "       [ 3.60581089e+01, -8.35589354e+01,  7.84751639e-01,\n",
       "        -1.32870274e+00,  3.72192939e-01, -1.31923302e+00,\n",
       "        -2.17777550e-01,  0.00000000e+00,  5.86549801e-02],\n",
       "       [ 3.61340090e+01, -8.67691076e+01, -1.31261402e+00,\n",
       "         7.02633629e-01, -1.72093385e+00,  6.98588480e-01,\n",
       "        -1.59472454e+00,  0.00000000e+00, -7.65156671e-02],\n",
       "       [ 3.53140529e+01, -8.96670678e+01,  4.13576038e-01,\n",
       "        -1.32870274e+00,  2.37900561e-01, -1.30441023e+00,\n",
       "        -2.12303108e-01,  0.00000000e+00,  7.69360435e-01],\n",
       "       [ 3.58750036e+01, -8.66705815e+01,  5.42155217e-01,\n",
       "        -1.32870274e+00,  3.14559910e-01, -1.32804732e+00,\n",
       "        -1.64802681e-01,  0.00000000e+00,  3.06727478e-01]])"
      ]
     },
     "execution_count": 3,
     "metadata": {},
     "output_type": "execute_result"
    }
   ],
   "source": [
    "def obtener_datos(estado: str, tipo_de_comida: str):\n",
    "    url = f\"http://127.0.0.1:8000/recomendacion/{estado},{tipo_de_comida}\"  # Asegúrate de que esta URL sea la correcta para tu API\n",
    "    #params = {\"estado\": estado, \"tipo_de_comida\": tipo_de_comida}\n",
    "    \n",
    "    response = requests.get(url)\n",
    "    \n",
    "    if response.status_code == 200:\n",
    "        datos = response.json()\n",
    "        # Convertir los datos a un arreglo de NumPy\n",
    "        arreglo = np.array(datos)\n",
    "        return arreglo\n",
    "    else:\n",
    "        response.raise_for_status()\n",
    "\n",
    "# Llamada de ejemplo\n",
    "estado = \"Tennessee\"\n",
    "tipo_de_comida = \"Italiana\"\n",
    "resultado = obtener_datos(estado, tipo_de_comida)\n",
    "\n",
    "print(type(resultado))  # Verifica que el tipo sea numpy.ndarray\n",
    "resultado"
   ]
  }
 ],
 "metadata": {
  "kernelspec": {
   "display_name": ".venv",
   "language": "python",
   "name": "python3"
  },
  "language_info": {
   "codemirror_mode": {
    "name": "ipython",
    "version": 3
   },
   "file_extension": ".py",
   "mimetype": "text/x-python",
   "name": "python",
   "nbconvert_exporter": "python",
   "pygments_lexer": "ipython3",
   "version": "3.11.1"
  }
 },
 "nbformat": 4,
 "nbformat_minor": 2
}
