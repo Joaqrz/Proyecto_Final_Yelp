{
 "cells": [
  {
   "cell_type": "code",
   "execution_count": 8,
   "metadata": {},
   "outputs": [
    {
     "name": "stdout",
     "output_type": "stream",
     "text": [
      "The sql extension is already loaded. To reload it, use:\n",
      "  %reload_ext sql\n"
     ]
    }
   ],
   "source": [
    "# Carga la extensión SQL\n",
    "%load_ext sql\n"
   ]
  },
  {
   "cell_type": "code",
   "execution_count": 9,
   "metadata": {},
   "outputs": [],
   "source": [
    "# Conectar a una base de datos SQLite local (o especificar tu base de datos)\n",
    "%sql sqlite:///my_database.db\n"
   ]
  },
  {
   "cell_type": "code",
   "execution_count": 10,
   "metadata": {},
   "outputs": [
    {
     "name": "stdout",
     "output_type": "stream",
     "text": [
      " * sqlite:///my_database.db\n",
      "(sqlite3.OperationalError) table `business` already exists\n",
      "[SQL: -- Crear la tabla 'business'\n",
      "CREATE TABLE `business` (\n",
      "  `business_id` varchar(255) PRIMARY KEY,\n",
      "  `name` varchar(255),\n",
      "  `address` varchar(255),\n",
      "  `city` varchar(255),\n",
      "  `state` varchar(255),\n",
      "  `postal_code` integer,\n",
      "  `latitude` float,\n",
      "  `longitude` float,\n",
      "  `stars` float,\n",
      "  `review_count` integer,\n",
      "  `is_open` integer,\n",
      "  `attributes` varchar(255),\n",
      "  `categories` varchar(255),\n",
      "  `hours` varchar(255)\n",
      ");]\n",
      "(Background on this error at: https://sqlalche.me/e/20/e3q8)\n"
     ]
    }
   ],
   "source": [
    "%%sql\n",
    "-- Crear la tabla 'business'\n",
    "CREATE TABLE `business` (\n",
    "  `business_id` varchar(255) PRIMARY KEY,\n",
    "  `name` varchar(255),\n",
    "  `address` varchar(255),\n",
    "  `city` varchar(255),\n",
    "  `state` varchar(255),\n",
    "  `postal_code` integer,\n",
    "  `latitude` float,\n",
    "  `longitude` float,\n",
    "  `stars` float,\n",
    "  `review_count` integer,\n",
    "  `is_open` integer,\n",
    "  `attributes` varchar(255),\n",
    "  `categories` varchar(255),\n",
    "  `hours` varchar(255)\n",
    ");\n",
    "\n",
    "CREATE TABLE `checkin` (\n",
    "  `business_id` varchar(255),\n",
    "  `date` varchar(255)\n",
    ");\n",
    "\n",
    "CREATE TABLE `review` (\n",
    "  `review_id` varchar(255),\n",
    "  `user_id` varchar(255),\n",
    "  `business_id` varchar(255),\n",
    "  `stars` float,\n",
    "  `useful` integer,\n",
    "  `funny` integer,\n",
    "  `cool` integer,\n",
    "  `text` varchar(255),\n",
    "  `date` varchar(255)\n",
    ");\n",
    "\n",
    "CREATE TABLE `tip` (\n",
    "  `user_id` varchar(255),\n",
    "  `business_id` varchar(255),\n",
    "  `text` varchar(255),\n",
    "  `date` varchar(255),\n",
    "  `compliment_count` varchar(255)\n",
    ");\n",
    "\n",
    "CREATE TABLE `users` (\n",
    "  `user_id` varchar(255) PRIMARY KEY,\n",
    "  `name` varchar(255),\n",
    "  `review_count` integer,\n",
    "  `yelping_since` varchar(255),\n",
    "  `useful` integer,\n",
    "  `funny` integer,\n",
    "  `cool` integer,\n",
    "  `elite` varchar(255),\n",
    "  `friends` varchar(255),\n",
    "  `fans` integer,\n",
    "  `average_stars` float,\n",
    "  `compliment_hot` integer,\n",
    "  `compliment_more` integer,\n",
    "  `compliment_profile` integer,\n",
    "  `compliment_cute` integer,\n",
    "  `compliment_list` integer,\n",
    "  `compliment_note` integer,\n",
    "  `compliment_plain` integer,\n",
    "  `compliment_cool` integer,\n",
    "  `compliment_funny` integer,\n",
    "  `compliment_writer` integer,\n",
    "  `compliment_photos` integer\n",
    ");\n",
    "\n",
    "ALTER TABLE `checkin` ADD FOREIGN KEY (`business_id`) REFERENCES `business` (`business_id`);\n",
    "\n",
    "ALTER TABLE `review` ADD FOREIGN KEY (`business_id`) REFERENCES `business` (`business_id`);\n",
    "\n",
    "ALTER TABLE `review` ADD FOREIGN KEY (`review_id`) REFERENCES `users` (`user_id`);\n",
    "\n",
    "ALTER TABLE `tip` ADD FOREIGN KEY (`user_id`) REFERENCES `users` (`user_id`);\n",
    "\n",
    "ALTER TABLE `tip` ADD FOREIGN KEY (`business_id`) REFERENCES `business` (`business_id`);\n",
    "\n",
    "\n",
    "-- Y así sucesivamente para las otras tablas...\n",
    "\n",
    "-- Establecer relaciones de clave foránea\n",
    "ALTER TABLE checkin ADD FOREIGN KEY (business_id) REFERENCES business (business_id);\n",
    "\n",
    "ALTER TABLE review ADD FOREIGN KEY (business_id) REFERENCES business (business_id);\n"
   ]
  },
  {
   "cell_type": "code",
   "execution_count": 11,
   "metadata": {},
   "outputs": [
    {
     "ename": "SyntaxError",
     "evalue": "invalid syntax (3030899002.py, line 3)",
     "output_type": "error",
     "traceback": [
      "\u001b[0;36m  Cell \u001b[0;32mIn[11], line 3\u001b[0;36m\u001b[0m\n\u001b[0;31m    SELECT name FROM sqlite_master WHERE type='business';\u001b[0m\n\u001b[0m           ^\u001b[0m\n\u001b[0;31mSyntaxError\u001b[0m\u001b[0;31m:\u001b[0m invalid syntax\n"
     ]
    }
   ],
   "source": [
    "# Mostrar las tablas en la base de datos TEST\n",
    "%%sql\n",
    "# SELECT name FROM sqlite_master WHERE type='business';\n"
   ]
  }
 ],
 "metadata": {
  "kernelspec": {
   "display_name": "Python 3",
   "language": "python",
   "name": "python3"
  },
  "language_info": {
   "codemirror_mode": {
    "name": "ipython",
    "version": 3
   },
   "file_extension": ".py",
   "mimetype": "text/x-python",
   "name": "python",
   "nbconvert_exporter": "python",
   "pygments_lexer": "ipython3",
   "version": "3.12.2"
  }
 },
 "nbformat": 4,
 "nbformat_minor": 2
}
