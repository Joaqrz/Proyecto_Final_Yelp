{
 "cells": [
  {
   "cell_type": "markdown",
   "metadata": {},
   "source": [
    "## EDA de Google Maps\n",
    "* Voy a traer los archivos desde el Drive. \n",
    "* Usaré una muestra de los datos. Usaré 3 estados los más diferentes posibles para tener una noción sobre qué datos manejamos.\n",
    "* Las librerías que voy a utilizar serán matplotlib, pandas y numpy."
   ]
  },
  {
   "cell_type": "code",
   "execution_count": 3,
   "metadata": {},
   "outputs": [],
   "source": [
    "import json\n",
    "import pandas as pd\n",
    "import numpy as np \n",
    "import matplotlib.pyplot as plt"
   ]
  },
  {
   "cell_type": "markdown",
   "metadata": {},
   "source": [
    "## Los estados que voy a tratar serán:\n",
    "* California (18 archivos)\n",
    "* Washington (13 archivos)\n",
    "* Alaska (4 archivos)\n",
    "# ---------------------------------------------------------- #\n",
    "* Florida (19 archivos)\n",
    "* Virginia (12 archivos)\n",
    "* Nueva York (18 archivos)"
   ]
  },
  {
   "cell_type": "code",
   "execution_count": 4,
   "metadata": {},
   "outputs": [],
   "source": [
    "# Defino una funcion para abrir y leer los dataframes \n",
    "def cargar_json_a_dataframe(ruta):\n",
    "    # Abre el archivo JSON y lee las líneas\n",
    "    with open(ruta, 'r', encoding='utf-8') as f:\n",
    "        data = f.readlines()\n",
    "    # Convierte cada línea en un diccionario usando json.loads\n",
    "    registros = [json.loads(line.strip()) for line in data]\n",
    "    # Crea el DataFrame a partir de la lista de diccionarios\n",
    "    df = pd.DataFrame(registros)\n",
    "\n",
    "    return df \n"
   ]
  },
  {
   "cell_type": "code",
   "execution_count": 5,
   "metadata": {},
   "outputs": [
    {
     "data": {
      "text/html": [
       "<div>\n",
       "<style scoped>\n",
       "    .dataframe tbody tr th:only-of-type {\n",
       "        vertical-align: middle;\n",
       "    }\n",
       "\n",
       "    .dataframe tbody tr th {\n",
       "        vertical-align: top;\n",
       "    }\n",
       "\n",
       "    .dataframe thead th {\n",
       "        text-align: right;\n",
       "    }\n",
       "</style>\n",
       "<table border=\"1\" class=\"dataframe\">\n",
       "  <thead>\n",
       "    <tr style=\"text-align: right;\">\n",
       "      <th></th>\n",
       "      <th>user_id</th>\n",
       "      <th>name</th>\n",
       "      <th>time</th>\n",
       "      <th>rating</th>\n",
       "      <th>text</th>\n",
       "      <th>pics</th>\n",
       "      <th>resp</th>\n",
       "      <th>gmap_id</th>\n",
       "    </tr>\n",
       "  </thead>\n",
       "  <tbody>\n",
       "    <tr>\n",
       "      <th>0</th>\n",
       "      <td>109129804842686204152</td>\n",
       "      <td>Nicki Gore</td>\n",
       "      <td>1566331951619</td>\n",
       "      <td>5</td>\n",
       "      <td>We always stay here when in Valdez for silver ...</td>\n",
       "      <td>None</td>\n",
       "      <td>None</td>\n",
       "      <td>0x56b646ed2220b77f:0xd8975e316de80952</td>\n",
       "    </tr>\n",
       "    <tr>\n",
       "      <th>1</th>\n",
       "      <td>113240926405758965692</td>\n",
       "      <td>Allen Ratliff</td>\n",
       "      <td>1504917982385</td>\n",
       "      <td>5</td>\n",
       "      <td>Great campground for the price. Nice hot unlim...</td>\n",
       "      <td>None</td>\n",
       "      <td>None</td>\n",
       "      <td>0x56b646ed2220b77f:0xd8975e316de80952</td>\n",
       "    </tr>\n",
       "    <tr>\n",
       "      <th>2</th>\n",
       "      <td>113044837891141253355</td>\n",
       "      <td>Jonathan Tringali</td>\n",
       "      <td>1474765901185</td>\n",
       "      <td>4</td>\n",
       "      <td>We tent camped here for 2 nights while explori...</td>\n",
       "      <td>None</td>\n",
       "      <td>None</td>\n",
       "      <td>0x56b646ed2220b77f:0xd8975e316de80952</td>\n",
       "    </tr>\n",
       "  </tbody>\n",
       "</table>\n",
       "</div>"
      ],
      "text/plain": [
       "                 user_id               name           time  rating  \\\n",
       "0  109129804842686204152         Nicki Gore  1566331951619       5   \n",
       "1  113240926405758965692      Allen Ratliff  1504917982385       5   \n",
       "2  113044837891141253355  Jonathan Tringali  1474765901185       4   \n",
       "\n",
       "                                                text  pics  resp  \\\n",
       "0  We always stay here when in Valdez for silver ...  None  None   \n",
       "1  Great campground for the price. Nice hot unlim...  None  None   \n",
       "2  We tent camped here for 2 nights while explori...  None  None   \n",
       "\n",
       "                                 gmap_id  \n",
       "0  0x56b646ed2220b77f:0xd8975e316de80952  \n",
       "1  0x56b646ed2220b77f:0xd8975e316de80952  \n",
       "2  0x56b646ed2220b77f:0xd8975e316de80952  "
      ]
     },
     "execution_count": 5,
     "metadata": {},
     "output_type": "execute_result"
    }
   ],
   "source": [
    "ruta = 'src\\Alaska_1.json'\n",
    "Alaska_1 = cargar_json_a_dataframe(ruta)\n",
    "Alaska_1.head(3)"
   ]
  },
  {
   "cell_type": "code",
   "execution_count": 6,
   "metadata": {},
   "outputs": [
    {
     "data": {
      "text/html": [
       "<div>\n",
       "<style scoped>\n",
       "    .dataframe tbody tr th:only-of-type {\n",
       "        vertical-align: middle;\n",
       "    }\n",
       "\n",
       "    .dataframe tbody tr th {\n",
       "        vertical-align: top;\n",
       "    }\n",
       "\n",
       "    .dataframe thead th {\n",
       "        text-align: right;\n",
       "    }\n",
       "</style>\n",
       "<table border=\"1\" class=\"dataframe\">\n",
       "  <thead>\n",
       "    <tr style=\"text-align: right;\">\n",
       "      <th></th>\n",
       "      <th>user_id</th>\n",
       "      <th>name</th>\n",
       "      <th>time</th>\n",
       "      <th>rating</th>\n",
       "      <th>text</th>\n",
       "      <th>pics</th>\n",
       "      <th>resp</th>\n",
       "      <th>gmap_id</th>\n",
       "    </tr>\n",
       "  </thead>\n",
       "  <tbody>\n",
       "    <tr>\n",
       "      <th>0</th>\n",
       "      <td>108991152262655788985</td>\n",
       "      <td>Song Ro</td>\n",
       "      <td>1609909927056</td>\n",
       "      <td>5</td>\n",
       "      <td>Love there korean rice cake.</td>\n",
       "      <td>None</td>\n",
       "      <td>None</td>\n",
       "      <td>0x80c2c778e3b73d33:0xbdc58662a4a97d49</td>\n",
       "    </tr>\n",
       "    <tr>\n",
       "      <th>1</th>\n",
       "      <td>111290322219796215751</td>\n",
       "      <td>Rafa Robles</td>\n",
       "      <td>1612849648663</td>\n",
       "      <td>5</td>\n",
       "      <td>Good very good</td>\n",
       "      <td>None</td>\n",
       "      <td>None</td>\n",
       "      <td>0x80c2c778e3b73d33:0xbdc58662a4a97d49</td>\n",
       "    </tr>\n",
       "    <tr>\n",
       "      <th>2</th>\n",
       "      <td>112640357449611959087</td>\n",
       "      <td>David Han</td>\n",
       "      <td>1583643882296</td>\n",
       "      <td>4</td>\n",
       "      <td>They make Korean traditional food very properly.</td>\n",
       "      <td>None</td>\n",
       "      <td>None</td>\n",
       "      <td>0x80c2c778e3b73d33:0xbdc58662a4a97d49</td>\n",
       "    </tr>\n",
       "  </tbody>\n",
       "</table>\n",
       "</div>"
      ],
      "text/plain": [
       "                 user_id         name           time  rating  \\\n",
       "0  108991152262655788985      Song Ro  1609909927056       5   \n",
       "1  111290322219796215751  Rafa Robles  1612849648663       5   \n",
       "2  112640357449611959087    David Han  1583643882296       4   \n",
       "\n",
       "                                               text  pics  resp  \\\n",
       "0                      Love there korean rice cake.  None  None   \n",
       "1                                    Good very good  None  None   \n",
       "2  They make Korean traditional food very properly.  None  None   \n",
       "\n",
       "                                 gmap_id  \n",
       "0  0x80c2c778e3b73d33:0xbdc58662a4a97d49  \n",
       "1  0x80c2c778e3b73d33:0xbdc58662a4a97d49  \n",
       "2  0x80c2c778e3b73d33:0xbdc58662a4a97d49  "
      ]
     },
     "execution_count": 6,
     "metadata": {},
     "output_type": "execute_result"
    }
   ],
   "source": [
    "ruta = 'src\\California_1.json'\n",
    "California_1 = cargar_json_a_dataframe(ruta)\n",
    "California_1.head(3)"
   ]
  },
  {
   "cell_type": "code",
   "execution_count": 7,
   "metadata": {},
   "outputs": [
    {
     "data": {
      "text/html": [
       "<div>\n",
       "<style scoped>\n",
       "    .dataframe tbody tr th:only-of-type {\n",
       "        vertical-align: middle;\n",
       "    }\n",
       "\n",
       "    .dataframe tbody tr th {\n",
       "        vertical-align: top;\n",
       "    }\n",
       "\n",
       "    .dataframe thead th {\n",
       "        text-align: right;\n",
       "    }\n",
       "</style>\n",
       "<table border=\"1\" class=\"dataframe\">\n",
       "  <thead>\n",
       "    <tr style=\"text-align: right;\">\n",
       "      <th></th>\n",
       "      <th>user_id</th>\n",
       "      <th>name</th>\n",
       "      <th>time</th>\n",
       "      <th>rating</th>\n",
       "      <th>text</th>\n",
       "      <th>pics</th>\n",
       "      <th>resp</th>\n",
       "      <th>gmap_id</th>\n",
       "    </tr>\n",
       "  </thead>\n",
       "  <tbody>\n",
       "    <tr>\n",
       "      <th>0</th>\n",
       "      <td>101471856155148729010</td>\n",
       "      <td>Julie A. Gerber</td>\n",
       "      <td>1628003250740</td>\n",
       "      <td>1</td>\n",
       "      <td>Update: Their “reply” to my review amounted to...</td>\n",
       "      <td>None</td>\n",
       "      <td>{'time': 1627042799532, 'text': 'Thank you for...</td>\n",
       "      <td>0x8893863ea87bd5dd:0x9383ebf973e74abb</td>\n",
       "    </tr>\n",
       "    <tr>\n",
       "      <th>1</th>\n",
       "      <td>115477234789038326051</td>\n",
       "      <td>Martin Sheffield</td>\n",
       "      <td>1595031217005</td>\n",
       "      <td>5</td>\n",
       "      <td>He's a knowledgeable doctor but the way he run...</td>\n",
       "      <td>None</td>\n",
       "      <td>{'time': 1582464056733, 'text': 'Thank you for...</td>\n",
       "      <td>0x8893863ea87bd5dd:0x9383ebf973e74abb</td>\n",
       "    </tr>\n",
       "    <tr>\n",
       "      <th>2</th>\n",
       "      <td>101805010244892834381</td>\n",
       "      <td>Brian Truett</td>\n",
       "      <td>1522924253567</td>\n",
       "      <td>5</td>\n",
       "      <td>Best doctor I've ever had, I never wait to be ...</td>\n",
       "      <td>None</td>\n",
       "      <td>None</td>\n",
       "      <td>0x8893863ea87bd5dd:0x9383ebf973e74abb</td>\n",
       "    </tr>\n",
       "  </tbody>\n",
       "</table>\n",
       "</div>"
      ],
      "text/plain": [
       "                 user_id              name           time  rating  \\\n",
       "0  101471856155148729010   Julie A. Gerber  1628003250740       1   \n",
       "1  115477234789038326051  Martin Sheffield  1595031217005       5   \n",
       "2  101805010244892834381      Brian Truett  1522924253567       5   \n",
       "\n",
       "                                                text  pics  \\\n",
       "0  Update: Their “reply” to my review amounted to...  None   \n",
       "1  He's a knowledgeable doctor but the way he run...  None   \n",
       "2  Best doctor I've ever had, I never wait to be ...  None   \n",
       "\n",
       "                                                resp  \\\n",
       "0  {'time': 1627042799532, 'text': 'Thank you for...   \n",
       "1  {'time': 1582464056733, 'text': 'Thank you for...   \n",
       "2                                               None   \n",
       "\n",
       "                                 gmap_id  \n",
       "0  0x8893863ea87bd5dd:0x9383ebf973e74abb  \n",
       "1  0x8893863ea87bd5dd:0x9383ebf973e74abb  \n",
       "2  0x8893863ea87bd5dd:0x9383ebf973e74abb  "
      ]
     },
     "execution_count": 7,
     "metadata": {},
     "output_type": "execute_result"
    }
   ],
   "source": [
    "ruta = 'src\\Florida_1.json'\n",
    "Florida_1 = cargar_json_a_dataframe(ruta)\n",
    "Florida_1.head(3)"
   ]
  },
  {
   "cell_type": "code",
   "execution_count": 31,
   "metadata": {},
   "outputs": [
    {
     "data": {
      "text/html": [
       "<div>\n",
       "<style scoped>\n",
       "    .dataframe tbody tr th:only-of-type {\n",
       "        vertical-align: middle;\n",
       "    }\n",
       "\n",
       "    .dataframe tbody tr th {\n",
       "        vertical-align: top;\n",
       "    }\n",
       "\n",
       "    .dataframe thead th {\n",
       "        text-align: right;\n",
       "    }\n",
       "</style>\n",
       "<table border=\"1\" class=\"dataframe\">\n",
       "  <thead>\n",
       "    <tr style=\"text-align: right;\">\n",
       "      <th></th>\n",
       "      <th>user_id</th>\n",
       "      <th>name</th>\n",
       "      <th>time</th>\n",
       "      <th>rating</th>\n",
       "      <th>text</th>\n",
       "      <th>pics</th>\n",
       "      <th>resp</th>\n",
       "      <th>gmap_id</th>\n",
       "    </tr>\n",
       "  </thead>\n",
       "  <tbody>\n",
       "    <tr>\n",
       "      <th>0</th>\n",
       "      <td>113722104692308235141</td>\n",
       "      <td>Alvin Martinez</td>\n",
       "      <td>1603494795361</td>\n",
       "      <td>5</td>\n",
       "      <td>I'm late to posting this but this store especi...</td>\n",
       "      <td>[{'url': ['https://lh5.googleusercontent.com/p...</td>\n",
       "      <td>None</td>\n",
       "      <td>0x89c25fc9494dce47:0x6d63c807b59a55</td>\n",
       "    </tr>\n",
       "    <tr>\n",
       "      <th>1</th>\n",
       "      <td>107293441492109320298</td>\n",
       "      <td>Johnnie Jackson</td>\n",
       "      <td>1620157037403</td>\n",
       "      <td>1</td>\n",
       "      <td>Very dissatisfied I did not get my phone the p...</td>\n",
       "      <td>None</td>\n",
       "      <td>{'time': 1620268360920, 'text': 'We pride ours...</td>\n",
       "      <td>0x89c25fc9494dce47:0x6d63c807b59a55</td>\n",
       "    </tr>\n",
       "    <tr>\n",
       "      <th>2</th>\n",
       "      <td>100378585801819400296</td>\n",
       "      <td>Manie Blazer</td>\n",
       "      <td>1597431662039</td>\n",
       "      <td>5</td>\n",
       "      <td>Excellent very well done with professional car...</td>\n",
       "      <td>None</td>\n",
       "      <td>None</td>\n",
       "      <td>0x89c25fc9494dce47:0x6d63c807b59a55</td>\n",
       "    </tr>\n",
       "  </tbody>\n",
       "</table>\n",
       "</div>"
      ],
      "text/plain": [
       "                 user_id             name           time  rating  \\\n",
       "0  113722104692308235141   Alvin Martinez  1603494795361       5   \n",
       "1  107293441492109320298  Johnnie Jackson  1620157037403       1   \n",
       "2  100378585801819400296     Manie Blazer  1597431662039       5   \n",
       "\n",
       "                                                text  \\\n",
       "0  I'm late to posting this but this store especi...   \n",
       "1  Very dissatisfied I did not get my phone the p...   \n",
       "2  Excellent very well done with professional car...   \n",
       "\n",
       "                                                pics  \\\n",
       "0  [{'url': ['https://lh5.googleusercontent.com/p...   \n",
       "1                                               None   \n",
       "2                                               None   \n",
       "\n",
       "                                                resp  \\\n",
       "0                                               None   \n",
       "1  {'time': 1620268360920, 'text': 'We pride ours...   \n",
       "2                                               None   \n",
       "\n",
       "                               gmap_id  \n",
       "0  0x89c25fc9494dce47:0x6d63c807b59a55  \n",
       "1  0x89c25fc9494dce47:0x6d63c807b59a55  \n",
       "2  0x89c25fc9494dce47:0x6d63c807b59a55  "
      ]
     },
     "execution_count": 31,
     "metadata": {},
     "output_type": "execute_result"
    }
   ],
   "source": [
    "ruta = 'src/New_York_1.json'\n",
    "New_York_1 = cargar_json_a_dataframe(ruta)\n",
    "New_York_1.head(3)"
   ]
  },
  {
   "cell_type": "code",
   "execution_count": 32,
   "metadata": {},
   "outputs": [
    {
     "data": {
      "text/html": [
       "<div>\n",
       "<style scoped>\n",
       "    .dataframe tbody tr th:only-of-type {\n",
       "        vertical-align: middle;\n",
       "    }\n",
       "\n",
       "    .dataframe tbody tr th {\n",
       "        vertical-align: top;\n",
       "    }\n",
       "\n",
       "    .dataframe thead th {\n",
       "        text-align: right;\n",
       "    }\n",
       "</style>\n",
       "<table border=\"1\" class=\"dataframe\">\n",
       "  <thead>\n",
       "    <tr style=\"text-align: right;\">\n",
       "      <th></th>\n",
       "      <th>user_id</th>\n",
       "      <th>name</th>\n",
       "      <th>time</th>\n",
       "      <th>rating</th>\n",
       "      <th>text</th>\n",
       "      <th>pics</th>\n",
       "      <th>resp</th>\n",
       "      <th>gmap_id</th>\n",
       "    </tr>\n",
       "  </thead>\n",
       "  <tbody>\n",
       "    <tr>\n",
       "      <th>0</th>\n",
       "      <td>111603605060980047815</td>\n",
       "      <td>Jessie Lee</td>\n",
       "      <td>1581455645898</td>\n",
       "      <td>5</td>\n",
       "      <td>I loved Rita!! She was awesome</td>\n",
       "      <td>None</td>\n",
       "      <td>None</td>\n",
       "      <td>0x89b1af6550d33595:0x8fb8874b8aa57e3f</td>\n",
       "    </tr>\n",
       "    <tr>\n",
       "      <th>1</th>\n",
       "      <td>106278681944354596566</td>\n",
       "      <td>Brittany Janis</td>\n",
       "      <td>1612044004790</td>\n",
       "      <td>2</td>\n",
       "      <td>Expensive to do taxes here</td>\n",
       "      <td>None</td>\n",
       "      <td>{'time': 1614371539737, 'text': 'Thank you for...</td>\n",
       "      <td>0x89b1af6550d33595:0x8fb8874b8aa57e3f</td>\n",
       "    </tr>\n",
       "    <tr>\n",
       "      <th>2</th>\n",
       "      <td>107562899595101737871</td>\n",
       "      <td>Brandy Monge</td>\n",
       "      <td>1580144842073</td>\n",
       "      <td>5</td>\n",
       "      <td>She was very helpful and made sure I understood</td>\n",
       "      <td>None</td>\n",
       "      <td>None</td>\n",
       "      <td>0x89b1af6550d33595:0x8fb8874b8aa57e3f</td>\n",
       "    </tr>\n",
       "  </tbody>\n",
       "</table>\n",
       "</div>"
      ],
      "text/plain": [
       "                 user_id            name           time  rating  \\\n",
       "0  111603605060980047815      Jessie Lee  1581455645898       5   \n",
       "1  106278681944354596566  Brittany Janis  1612044004790       2   \n",
       "2  107562899595101737871    Brandy Monge  1580144842073       5   \n",
       "\n",
       "                                              text  pics  \\\n",
       "0                   I loved Rita!! She was awesome  None   \n",
       "1                       Expensive to do taxes here  None   \n",
       "2  She was very helpful and made sure I understood  None   \n",
       "\n",
       "                                                resp  \\\n",
       "0                                               None   \n",
       "1  {'time': 1614371539737, 'text': 'Thank you for...   \n",
       "2                                               None   \n",
       "\n",
       "                                 gmap_id  \n",
       "0  0x89b1af6550d33595:0x8fb8874b8aa57e3f  \n",
       "1  0x89b1af6550d33595:0x8fb8874b8aa57e3f  \n",
       "2  0x89b1af6550d33595:0x8fb8874b8aa57e3f  "
      ]
     },
     "execution_count": 32,
     "metadata": {},
     "output_type": "execute_result"
    }
   ],
   "source": [
    "ruta = 'src/Virginia_1.json'\n",
    "Virginia_1 = cargar_json_a_dataframe(ruta)\n",
    "Virginia_1.head(3)"
   ]
  },
  {
   "cell_type": "code",
   "execution_count": 33,
   "metadata": {},
   "outputs": [
    {
     "data": {
      "text/html": [
       "<div>\n",
       "<style scoped>\n",
       "    .dataframe tbody tr th:only-of-type {\n",
       "        vertical-align: middle;\n",
       "    }\n",
       "\n",
       "    .dataframe tbody tr th {\n",
       "        vertical-align: top;\n",
       "    }\n",
       "\n",
       "    .dataframe thead th {\n",
       "        text-align: right;\n",
       "    }\n",
       "</style>\n",
       "<table border=\"1\" class=\"dataframe\">\n",
       "  <thead>\n",
       "    <tr style=\"text-align: right;\">\n",
       "      <th></th>\n",
       "      <th>user_id</th>\n",
       "      <th>name</th>\n",
       "      <th>time</th>\n",
       "      <th>rating</th>\n",
       "      <th>text</th>\n",
       "      <th>pics</th>\n",
       "      <th>resp</th>\n",
       "      <th>gmap_id</th>\n",
       "    </tr>\n",
       "  </thead>\n",
       "  <tbody>\n",
       "    <tr>\n",
       "      <th>0</th>\n",
       "      <td>103093043835388050629</td>\n",
       "      <td>Casper Steele</td>\n",
       "      <td>1626907411534</td>\n",
       "      <td>2</td>\n",
       "      <td>Drivers say security has bathroom key. Securit...</td>\n",
       "      <td>None</td>\n",
       "      <td>None</td>\n",
       "      <td>0x5495ae7d3bf7d097:0xbcbc06152a3ccebc</td>\n",
       "    </tr>\n",
       "    <tr>\n",
       "      <th>1</th>\n",
       "      <td>111014066796803341223</td>\n",
       "      <td>Judy Maes</td>\n",
       "      <td>1613028426989</td>\n",
       "      <td>5</td>\n",
       "      <td>It's a CTRAN transit center with schedules to ...</td>\n",
       "      <td>None</td>\n",
       "      <td>None</td>\n",
       "      <td>0x5495ae7d3bf7d097:0xbcbc06152a3ccebc</td>\n",
       "    </tr>\n",
       "    <tr>\n",
       "      <th>2</th>\n",
       "      <td>111724423355988809570</td>\n",
       "      <td>Daniel Hernandez</td>\n",
       "      <td>1536710665852</td>\n",
       "      <td>5</td>\n",
       "      <td>Neat little Transit Center with lots of schedu...</td>\n",
       "      <td>None</td>\n",
       "      <td>None</td>\n",
       "      <td>0x5495ae7d3bf7d097:0xbcbc06152a3ccebc</td>\n",
       "    </tr>\n",
       "  </tbody>\n",
       "</table>\n",
       "</div>"
      ],
      "text/plain": [
       "                 user_id              name           time  rating  \\\n",
       "0  103093043835388050629     Casper Steele  1626907411534       2   \n",
       "1  111014066796803341223         Judy Maes  1613028426989       5   \n",
       "2  111724423355988809570  Daniel Hernandez  1536710665852       5   \n",
       "\n",
       "                                                text  pics  resp  \\\n",
       "0  Drivers say security has bathroom key. Securit...  None  None   \n",
       "1  It's a CTRAN transit center with schedules to ...  None  None   \n",
       "2  Neat little Transit Center with lots of schedu...  None  None   \n",
       "\n",
       "                                 gmap_id  \n",
       "0  0x5495ae7d3bf7d097:0xbcbc06152a3ccebc  \n",
       "1  0x5495ae7d3bf7d097:0xbcbc06152a3ccebc  \n",
       "2  0x5495ae7d3bf7d097:0xbcbc06152a3ccebc  "
      ]
     },
     "execution_count": 33,
     "metadata": {},
     "output_type": "execute_result"
    }
   ],
   "source": [
    "ruta  = 'src/Washington_1.json'\n",
    "Washington_1 = cargar_json_a_dataframe(ruta)\n",
    "Washington_1.head(3)"
   ]
  },
  {
   "cell_type": "markdown",
   "metadata": {},
   "source": [
    "* Por lo que se puede ver, los datasets tienen 150 mil filas exactamente.\n",
    "* La primer impresión, es que estos datos ya tienen un tratamiento previo. \n",
    "* Hay una columna con datos anidados, \"resp\". Se asume que es la respuesta del empresario al cliente. Quizás sea posible crear un dataframe aparte con estas respuestas, para conocer el porcentaje de empresarios que responden?\n",
    "* Las columnas tienen nombres adecuados, la PK podría ser \"user_id\"\n",
    " "
   ]
  },
  {
   "cell_type": "code",
   "execution_count": 8,
   "metadata": {},
   "outputs": [],
   "source": [
    "# Creo una función que cuente los nulos del dataframe.\n",
    "def Contar_Nulos_Por_Columna(df):\n",
    "    nulos_por_columna = df.isnull().sum()\n",
    "    return nulos_por_columna.to_dict()"
   ]
  },
  {
   "cell_type": "code",
   "execution_count": 9,
   "metadata": {},
   "outputs": [
    {
     "data": {
      "text/plain": [
       "{'user_id': 0,\n",
       " 'name': 0,\n",
       " 'time': 0,\n",
       " 'rating': 0,\n",
       " 'text': 60384,\n",
       " 'pics': 143788,\n",
       " 'resp': 134055,\n",
       " 'gmap_id': 0}"
      ]
     },
     "execution_count": 9,
     "metadata": {},
     "output_type": "execute_result"
    }
   ],
   "source": [
    "Nulos_Alaska_1 = Contar_Nulos_Por_Columna(Alaska_1)\n",
    "Nulos_Alaska_1"
   ]
  },
  {
   "cell_type": "code",
   "execution_count": 10,
   "metadata": {},
   "outputs": [
    {
     "data": {
      "text/plain": [
       "{'user_id': 0,\n",
       " 'name': 0,\n",
       " 'time': 0,\n",
       " 'rating': 0,\n",
       " 'text': 60865,\n",
       " 'pics': 144368,\n",
       " 'resp': 133065,\n",
       " 'gmap_id': 0}"
      ]
     },
     "execution_count": 10,
     "metadata": {},
     "output_type": "execute_result"
    }
   ],
   "source": [
    "Nulos_California_1 = Contar_Nulos_Por_Columna(California_1)\n",
    "Nulos_California_1"
   ]
  },
  {
   "cell_type": "code",
   "execution_count": 11,
   "metadata": {},
   "outputs": [
    {
     "data": {
      "text/plain": [
       "{'user_id': 0,\n",
       " 'name': 0,\n",
       " 'time': 0,\n",
       " 'rating': 0,\n",
       " 'text': 49977,\n",
       " 'pics': 145423,\n",
       " 'resp': 118033,\n",
       " 'gmap_id': 0}"
      ]
     },
     "execution_count": 11,
     "metadata": {},
     "output_type": "execute_result"
    }
   ],
   "source": [
    "Nulos_Florida_1 = Contar_Nulos_Por_Columna(Florida_1)\n",
    "Nulos_Florida_1 "
   ]
  },
  {
   "cell_type": "code",
   "execution_count": 34,
   "metadata": {},
   "outputs": [
    {
     "data": {
      "text/plain": [
       "{'user_id': 0,\n",
       " 'name': 0,\n",
       " 'time': 0,\n",
       " 'rating': 0,\n",
       " 'text': 62676,\n",
       " 'pics': 145404,\n",
       " 'resp': 133162,\n",
       " 'gmap_id': 0}"
      ]
     },
     "execution_count": 34,
     "metadata": {},
     "output_type": "execute_result"
    }
   ],
   "source": [
    "Nulos_New_York_1 = Contar_Nulos_Por_Columna(New_York_1)\n",
    "Nulos_New_York_1"
   ]
  },
  {
   "cell_type": "code",
   "execution_count": 35,
   "metadata": {},
   "outputs": [
    {
     "data": {
      "text/plain": [
       "{'user_id': 0,\n",
       " 'name': 0,\n",
       " 'time': 0,\n",
       " 'rating': 0,\n",
       " 'text': 60213,\n",
       " 'pics': 145787,\n",
       " 'resp': 124008,\n",
       " 'gmap_id': 0}"
      ]
     },
     "execution_count": 35,
     "metadata": {},
     "output_type": "execute_result"
    }
   ],
   "source": [
    "Nulos_Virginia_1 = Contar_Nulos_Por_Columna(Virginia_1)\n",
    "Nulos_Virginia_1"
   ]
  },
  {
   "cell_type": "code",
   "execution_count": 36,
   "metadata": {},
   "outputs": [
    {
     "data": {
      "text/plain": [
       "{'user_id': 0,\n",
       " 'name': 0,\n",
       " 'time': 0,\n",
       " 'rating': 0,\n",
       " 'text': 56546,\n",
       " 'pics': 144898,\n",
       " 'resp': 126884,\n",
       " 'gmap_id': 0}"
      ]
     },
     "execution_count": 36,
     "metadata": {},
     "output_type": "execute_result"
    }
   ],
   "source": [
    "Nulos_Washington_1 = Contar_Nulos_Por_Columna(Washington_1)\n",
    "Nulos_Washington_1"
   ]
  },
  {
   "cell_type": "markdown",
   "metadata": {},
   "source": [
    "* Los datos parecen consistentes. Los nulos que existen son en columnas en las que no se pueden rellenar con medianas o promedios. \n",
    "* Habría que ver qué conclusiones podemos sacar de estos nulos. "
   ]
  },
  {
   "cell_type": "code",
   "execution_count": 16,
   "metadata": {},
   "outputs": [],
   "source": [
    "def tiene_datos_no_hashables(df, columna):\n",
    "    # Verifica si alguno de los valores en la columna es una lista o un diccionario\n",
    "    return any(isinstance(valor, (list, dict)) for valor in df[columna])"
   ]
  },
  {
   "cell_type": "code",
   "execution_count": 20,
   "metadata": {},
   "outputs": [],
   "source": [
    "def convierte_a_hashable(df, columna):\n",
    "    # Convierte los datos no hashables a cadenas de texto\n",
    "    df[columna] = df[columna].apply(lambda x: str(x) if isinstance(x, (list, dict)) else x)\n",
    "    return df"
   ]
  },
  {
   "cell_type": "code",
   "execution_count": 23,
   "metadata": {},
   "outputs": [],
   "source": [
    "# Creo una funcion para explorar un poco cada columna. Para ver cómo se presentan los datos \n",
    "def Unicos_Por_Columnas(df, columna):\n",
    "    # Verifica si hay datos no hashables en la columna\n",
    "    if tiene_datos_no_hashables(df, columna):\n",
    "        # Convierte los datos no hashables a hashables (cadenas de texto)\n",
    "        df = convierte_a_hashable(df, columna)\n",
    "    \n",
    "    # Obtén los valores únicos de la columna\n",
    "    valores_unicos = df[columna].unique()\n",
    "    \n",
    "    return valores_unicos"
   ]
  },
  {
   "cell_type": "code",
   "execution_count": 25,
   "metadata": {},
   "outputs": [
    {
     "data": {
      "text/plain": [
       "array([None,\n",
       "       \"[{'url': ['https://lh5.googleusercontent.com/p/AF1QipPkduxfIBKbOE_g_TiH4M3jddBewzyyoq4xx9OX=w150-h150-k-no-p']}, {'url': ['https://lh5.googleusercontent.com/p/AF1QipPRJqF410GEY71osSqIp_g8eZChLWZTkqhFnckH=w150-h150-k-no-p']}, {'url': ['https://lh5.googleusercontent.com/p/AF1QipPzBt3cLSAXiQn_pqsOjtzgZOlPMUwjhzfBMf8e=w150-h150-k-no-p']}, {'url': ['https://lh5.googleusercontent.com/p/AF1QipPP9USBVJYb4qc5-24m0FMVsZYM3wDtquca7l-5=w150-h150-k-no-p']}, {'url': ['https://lh5.googleusercontent.com/p/AF1QipNIOtDemIN_S4N688TreUWegsJhQmowx9BzbL7V=w150-h150-k-no-p']}, {'url': ['https://lh5.googleusercontent.com/p/AF1QipO3qqFNfi88pqCzWNKMgfCtzH1LX4j7EVQvsgsm=w150-h150-k-no-p']}]\",\n",
       "       \"[{'url': ['https://lh5.googleusercontent.com/p/AF1QipO-pVf0kwNA0wmcO-CSsPoytma8N_aFNzo6956v=w150-h150-k-no-p']}, {'url': ['https://lh5.googleusercontent.com/p/AF1QipMbzSb5NSbYiDxaOy2lTb20Ry6o7Kr3KRGe3_nU=w150-h150-k-no-p']}, {'url': ['https://lh5.googleusercontent.com/p/AF1QipPxkoycPqwXjnVMwVZZWVN1CRUWqLHh2AwBo04y=w150-h150-k-no-p']}, {'url': ['https://lh5.googleusercontent.com/p/AF1QipMu0b3AyG7782mH7o9ZPFfTLT03mxDYms2Fx8Kr=w150-h150-k-no-p']}, {'url': ['https://lh5.googleusercontent.com/p/AF1QipPglTCngEtH0uEolsQjQdEDWb8lKpSCukh6FhZI=w150-h150-k-no-p']}, {'url': ['https://lh5.googleusercontent.com/p/AF1QipOG_RxBjnMaCwCK2M3ARI_AsZhG-t5LBkWZ8Wc4=w150-h150-k-no-p']}, {'url': ['https://lh5.googleusercontent.com/p/AF1QipOTOi0j5V2KOODVtbVNg4z5qr_6YCodiV8AVv6l=w150-h150-k-no-p']}, {'url': ['https://lh5.googleusercontent.com/p/AF1QipPOCbQwtFVzNF_2V3NTTazuCUOxHP_B4nipnBMR=w150-h150-k-no-p']}, {'url': ['https://lh5.googleusercontent.com/p/AF1QipPe0MSqdwUsFwLxGHAhzGNGpKTJbUQOa-PcJepR=w150-h150-k-no-p']}, {'url': ['https://lh5.googleusercontent.com/p/AF1QipPzViOj6lcVYT4JP4YbXlLzQizMuujNobfStZrP=w150-h150-k-no-p']}, {'url': ['https://lh5.googleusercontent.com/p/AF1QipP7JKvhAryPRNQlVnnETFDqOy4N0dipJEdgOqWo=w150-h150-k-no-p']}, {'url': ['https://lh5.googleusercontent.com/p/AF1QipPaN_UeLXCnt2IZeWL0BPu3LWH2mplD8EAHCrls=w150-h150-k-no-p']}, {'url': ['https://lh5.googleusercontent.com/p/AF1QipPddvXuY3VxsO9xIA15s1NAN_Z_iL_fYRSe47R1=w150-h150-k-no-p']}, {'url': ['https://lh5.googleusercontent.com/p/AF1QipM_tGuB7TCUCr5A8OQvCy3cSiZfRARGILZDWSNZ=w150-h150-k-no-p']}, {'url': ['https://lh5.googleusercontent.com/p/AF1QipOM5Ohn2s2tGg6Na9apEzBqUa-0LNFyg0tVdYri=w150-h150-k-no-p']}, {'url': ['https://lh5.googleusercontent.com/p/AF1QipOF-w5oUBi8COl2HNNTsqUF2AzWbM641J902AEZ=w150-h150-k-no-p']}, {'url': ['https://lh5.googleusercontent.com/p/AF1QipNs6pgmikIQQHR2NnyQKsS75CN2SsizYCS6WrZJ=w150-h150-k-no-p']}, {'url': ['https://lh5.googleusercontent.com/p/AF1QipNJT7mErBmmZoKAaDHbgZG8R2vxuL4cfZ8pYByh=w150-h150-k-no-p']}, {'url': ['https://lh5.googleusercontent.com/p/AF1QipP_QD4YJJuOcJdlBnadLKA9Y1WB6bhWF5lBcTAM=w150-h150-k-no-p']}, {'url': ['https://lh5.googleusercontent.com/p/AF1QipONPaYG49-nKXk82CeM52C5NCy_oPsvSVB_mUlk=w150-h150-k-no-p']}, {'url': ['https://lh5.googleusercontent.com/p/AF1QipN6pziSSJ4QxeXJLtztHk_xNKH_-QpKBip1pQOG=w150-h150-k-no-p']}, {'url': ['https://lh5.googleusercontent.com/p/AF1QipPkpE3Bqs06lLaPGviEV7YhroMiEOuepMo39hI9=w150-h150-k-no-p']}, {'url': ['https://lh5.googleusercontent.com/p/AF1QipPGSNFWxdLpS2W9w9gvzugYyho5YRk5wXuhRVMc=w150-h150-k-no-p']}, {'url': ['https://lh5.googleusercontent.com/p/AF1QipPnwBuhu6hd5AX1LRFPClVG2fK6WbPbzPAYFFwK=w150-h150-k-no-p']}, {'url': ['https://lh5.googleusercontent.com/p/AF1QipP1xSdXos6tN6BOu31D6kHXDVgXFYH1uo2htltP=w150-h150-k-no-p']}, {'url': ['https://lh5.googleusercontent.com/p/AF1QipOUnUhWDGdBOgY86koTqmqlpr_dFY4o3CTp2-b_=w150-h150-k-no-p']}, {'url': ['https://lh5.googleusercontent.com/p/AF1QipP-0HUuAT0j_HwHtTVkVy1R7Schi1Eku_lWAQRs=w150-h150-k-no-p']}, {'url': ['https://lh5.googleusercontent.com/p/AF1QipMoN_i84ZW-9LQLzqa2pAhoHrWsLWNaeLY7pZD3=w150-h150-k-no-p']}, {'url': ['https://lh5.googleusercontent.com/p/AF1QipMFt_e98tnCkZE5HZnJcnIe0ld7HnuFv6Fkuo7C=w150-h150-k-no-p']}, {'url': ['https://lh5.googleusercontent.com/p/AF1QipMw78M_T_lWl4pCkUt1wr2FOhXrIshpm4k7o_mB=w150-h150-k-no-p']}, {'url': ['https://lh5.googleusercontent.com/p/AF1QipMYebDNLoekG5LLvyOjwTs_VT8eUrRV-yAz4GIi=w150-h150-k-no-p']}, {'url': ['https://lh5.googleusercontent.com/p/AF1QipPSqkPMdq1xxZv6dcgJVJboRmgBp6w6RraOMsLF=w150-h150-k-no-p']}, {'url': ['https://lh5.googleusercontent.com/p/AF1QipNZGWJ4BkJl9H3JAFyMkHD5zs82aoCzbMoG1jS5=w150-h150-k-no-p']}, {'url': ['https://lh5.googleusercontent.com/p/AF1QipNg_w21z7mCPhOcZpuozNElD5yc7jrrqbCDPoR7=w150-h150-k-no-p']}, {'url': ['https://lh5.googleusercontent.com/p/AF1QipOG25Cjq--xE_sIiYsxaRUrtKPz68l5caIjbm8-=w150-h150-k-no-p']}, {'url': ['https://lh5.googleusercontent.com/p/AF1QipPk1gk-nZ9HtPo3222CXAK0Q-JZUpi2AuZsAjMk=w150-h150-k-no-p']}, {'url': ['https://lh5.googleusercontent.com/p/AF1QipNuu7u92xdtXI3SVOdwLElSfapPdUIbBLelZKKp=w150-h150-k-no-p']}, {'url': ['https://lh5.googleusercontent.com/p/AF1QipNV5voa0j9NQNv67VY9SIxnKXkOFIAPUBAz_oXN=w150-h150-k-no-p']}, {'url': ['https://lh5.googleusercontent.com/p/AF1QipMAVmqLkqigoVQ54XM9dplQiftBdNo0aWc955kh=w150-h150-k-no-p']}, {'url': ['https://lh5.googleusercontent.com/p/AF1QipNHazZ0pslIOrSxRRmiZnhNVjqpLYDZjUUjZk3W=w150-h150-k-no-p']}, {'url': ['https://lh5.googleusercontent.com/p/AF1QipMINsyORQLtwqBGR30ULxya2l6eFkrBlHXmNU9f=w150-h150-k-no-p']}, {'url': ['https://lh5.googleusercontent.com/p/AF1QipORLqtXXA5GJ2M2LMrkfkwfVfE9JeJcJLEkxOON=w150-h150-k-no-p']}, {'url': ['https://lh5.googleusercontent.com/p/AF1QipP1YACFkxg3ZbslX4KZncnGAIryvPoUOtfD8enC=w150-h150-k-no-p']}, {'url': ['https://lh5.googleusercontent.com/p/AF1QipMcZbNXXoISOO1ZG9mOepTWidif2CWku8-92fXj=w150-h150-k-no-p']}, {'url': ['https://lh5.googleusercontent.com/p/AF1QipOxBjCrgK_l7gv6wB4Ktz-1oR8lmLkWfOMryU6s=w150-h150-k-no-p']}, {'url': ['https://lh5.googleusercontent.com/p/AF1QipOWX3Twc3jO_cbRQesneC8CBN29Ns7PGpvrZ_9h=w150-h150-k-no-p']}, {'url': ['https://lh5.googleusercontent.com/p/AF1QipM2dn_5ZLLf0WdsesUA-WxfvW0eHNKsfeN_VlHX=w150-h150-k-no-p']}, {'url': ['https://lh5.googleusercontent.com/p/AF1QipNgiKtCsQNGGbp07LqBPTtvXUv2s-zlwTdvvcDl=w150-h150-k-no-p']}, {'url': ['https://lh5.googleusercontent.com/p/AF1QipMOUTt2p-VJlm3hRTXxVnMz_Wg9CdYTkALId7uq=w150-h150-k-no-p']}]\",\n",
       "       ...,\n",
       "       \"[{'url': ['https://lh5.googleusercontent.com/p/AF1QipOfdKX4GwdDLOCVq11zVag2Ng6lzGWbCV-6n7VZ=w150-h150-k-no-p']}, {'url': ['https://lh5.googleusercontent.com/p/AF1QipN8IIc-61uuwdKEtGD0W5-VSOJqtopOpEUS-5Qy=w150-h150-k-no-p']}]\",\n",
       "       \"[{'url': ['https://lh5.googleusercontent.com/p/AF1QipNqwzeDuLBgqXnrUdOVw9yAMIqHyjrEoGfFA4t7=w150-h150-k-no-p']}]\",\n",
       "       \"[{'url': ['https://lh5.googleusercontent.com/p/AF1QipOH0RiIq8h_tV9k41pdnZmgMh11DE2YZPEbP-Pm=w150-h150-k-no-p']}]\"],\n",
       "      dtype=object)"
      ]
     },
     "execution_count": 25,
     "metadata": {},
     "output_type": "execute_result"
    }
   ],
   "source": [
    "unicos_pics_alaska_1 = Unicos_Por_Columnas(Alaska_1,'pics')\n",
    "unicos_pics_alaska_1\n"
   ]
  },
  {
   "cell_type": "code",
   "execution_count": 26,
   "metadata": {},
   "outputs": [
    {
     "data": {
      "text/plain": [
       "array([None,\n",
       "       \"[{'url': ['https://lh5.googleusercontent.com/p/AF1QipNBpj0NUQ3GblfewsZxQX_OrXs9QlW8R2yHB2eP=w150-h150-k-no-p']}]\",\n",
       "       \"[{'url': ['https://lh5.googleusercontent.com/p/AF1QipOQvLGEgw3N8Q6ZuF-6-bTuJsJyc5w_hRqhcDmK=w150-h150-k-no-p']}, {'url': ['https://lh5.googleusercontent.com/p/AF1QipNpJMOyc4I4x1ZtgV8OJ6zEdSyyRO34Y9Ug2GIT=w150-h150-k-no-p']}, {'url': ['https://lh5.googleusercontent.com/p/AF1QipNbBgiCUpVcEA8yn_ZqpfyTnK5OLxBRyIAdnLA2=w150-h150-k-no-p']}, {'url': ['https://lh5.googleusercontent.com/p/AF1QipNToM7NgDO_WrCWM0L0sX9kpYIQryoxdEpUP8kT=w150-h150-k-no-p']}]\",\n",
       "       ...,\n",
       "       \"[{'url': ['https://lh5.googleusercontent.com/p/AF1QipOn3LEJC7Vojl2iAadZeY8rmrHXX0g1MwUSAZBk=w150-h150-k-no-p']}, {'url': ['https://lh5.googleusercontent.com/p/AF1QipO2YGmgLobhhceF0Hlq8mg84IrhZR3vJ9LeGtm1=w150-h150-k-no-p']}]\",\n",
       "       \"[{'url': ['https://lh5.googleusercontent.com/p/AF1QipMulkk25lOu463z7qoVxH648baSZLgbDwX0kdbq=w150-h150-k-no-p']}, {'url': ['https://lh5.googleusercontent.com/p/AF1QipOH9VpHtIaSSesmmW_GuE46wzy7JHicQAO43tco=w150-h150-k-no-p']}, {'url': ['https://lh5.googleusercontent.com/p/AF1QipM0fn7WnLDr4O0BOXQTMf2F6fQRHybbdL2RvbCm=w150-h150-k-no-p']}]\",\n",
       "       \"[{'url': ['https://lh5.googleusercontent.com/p/AF1QipMTRENeRdGg2E9HIyTr6d-WF-gWgs0CylxbDWvU=w150-h150-k-no-p']}, {'url': ['https://lh5.googleusercontent.com/p/AF1QipMEmcVkIr6V06x7rXnVtVrrLZ70MPA_TPsg16or=w150-h150-k-no-p']}, {'url': ['https://lh5.googleusercontent.com/p/AF1QipM5pk8zCUfEdV0SUZ-zb5MctOw4W0FmtQJ_7ZbB=w150-h150-k-no-p']}, {'url': ['https://lh5.googleusercontent.com/p/AF1QipMop_hiyRnNie3HrTSkgbiBdWrk05efitJslrhH=w150-h150-k-no-p']}, {'url': ['https://lh5.googleusercontent.com/p/AF1QipNW7Kv55JDPSCCOkYnnVHoBEN1501oqtT8M4MWC=w150-h150-k-no-p']}, {'url': ['https://lh5.googleusercontent.com/p/AF1QipO6aNkpbNU9onpwPsU4kB1vxBn-D9K-UFloUPoT=w150-h150-k-no-p']}, {'url': ['https://lh5.googleusercontent.com/p/AF1QipMcxcbfoqmhQMoRNUL2qFsd5ij2EKnDA-OQApuZ=w150-h150-k-no-p']}, {'url': ['https://lh5.googleusercontent.com/p/AF1QipOKJ278LaVRCNmVkPoe7wQdsywxbj_OonZzdbOf=w150-h150-k-no-p']}, {'url': ['https://lh5.googleusercontent.com/p/AF1QipMf95Ka_NSMI7etR2mkFuNhOMTJ8-wnJyfmH58r=w150-h150-k-no-p']}, {'url': ['https://lh5.googleusercontent.com/p/AF1QipPCVZrLASNHUM7GTM1BX0jmigUfFvrvY8b35XGd=w150-h150-k-no-p']}, {'url': ['https://lh5.googleusercontent.com/p/AF1QipPMaHGs3CLDTWSrQzthuRM25LWGTRCNETuwYYp-=w150-h150-k-no-p']}, {'url': ['https://lh5.googleusercontent.com/p/AF1QipN1X_mCFnKlPw9OuaGcxd8Dk_AX2Lxk3L07ToZs=w150-h150-k-no-p']}]\"],\n",
       "      dtype=object)"
      ]
     },
     "execution_count": 26,
     "metadata": {},
     "output_type": "execute_result"
    }
   ],
   "source": [
    "unicos_pics_california_1 = Unicos_Por_Columnas(California_1,'pics')\n",
    "unicos_pics_california_1"
   ]
  },
  {
   "cell_type": "code",
   "execution_count": 27,
   "metadata": {},
   "outputs": [
    {
     "data": {
      "text/plain": [
       "array([None,\n",
       "       \"[{'url': ['https://lh5.googleusercontent.com/p/AF1QipOdWcB0SaIeqEJS8HBoOKPaEM8ixcsHn8pKzn5k=w150-h150-k-no-p']}, {'url': ['https://lh5.googleusercontent.com/p/AF1QipPzYc1eZ1wVYyC-r3PxPkRhHYjQ8THQiEhyRI_e=w150-h150-k-no-p']}, {'url': ['https://lh5.googleusercontent.com/p/AF1QipODj5yjCy-mZpGHQoJeAX88du1wZ8DbEjoqYT21=w150-h150-k-no-p']}, {'url': ['https://lh5.googleusercontent.com/p/AF1QipNMKIhJvTekVbd__hygcDlOZSNPefUYGomgojoH=w150-h150-k-no-p']}, {'url': ['https://lh5.googleusercontent.com/p/AF1QipN45PsVnOXgZPgeMiDTn3_FMBQFO0Zr1cXI4-DR=w150-h150-k-no-p']}, {'url': ['https://lh5.googleusercontent.com/p/AF1QipMOXKCee-X_N5Py7QD6ExEbt_ksPosSIc_q0vLM=w150-h150-k-no-p']}]\",\n",
       "       \"[{'url': ['https://lh5.googleusercontent.com/p/AF1QipM7gXFmHfPKW_ZX7gb4euzxIjhe_dR7IuaYK99-=w150-h150-k-no-p']}, {'url': ['https://lh5.googleusercontent.com/p/AF1QipNpNiBZsqg1ET7Ce1XhJGPesIcEshA-KWQ95cUR=w150-h150-k-no-p']}, {'url': ['https://lh5.googleusercontent.com/p/AF1QipNBBK3S8aR9sN_ndU9jLdtGU3PuzVA4zW7S-SJ6=w150-h150-k-no-p']}, {'url': ['https://lh5.googleusercontent.com/p/AF1QipP-UjBmRll2YQwe-nmtNdHlrSmwSdv0md5SAmLd=w150-h150-k-no-p']}]\",\n",
       "       ...,\n",
       "       \"[{'url': ['https://lh5.googleusercontent.com/p/AF1QipPCMYzL7iflw2id09-ww9eJYbtvE58x4GyymbPP=w150-h150-k-no-p']}, {'url': ['https://lh5.googleusercontent.com/p/AF1QipN7K5DxzlpEgXh7_kqizLu17fXlJgkQ6zJqVUGA=w150-h150-k-no-p']}, {'url': ['https://lh5.googleusercontent.com/p/AF1QipONCjJYVMNo7uL5KP-ywuk6EMlXKEfr4YdFUR9g=w150-h150-k-no-p']}, {'url': ['https://lh5.googleusercontent.com/p/AF1QipMIrZph4RnNNK2IzHUeaHfe5YKpsqkjs5pBfh5G=w150-h150-k-no-p']}]\",\n",
       "       \"[{'url': ['https://lh5.googleusercontent.com/p/AF1QipOPsRU5MQ3ag2vw_EfhJ0en-vc0WZEZhUqJecTT=w150-h150-k-no-p']}, {'url': ['https://lh5.googleusercontent.com/p/AF1QipP6Glu4TrQKYbE1-OoKZV_wCLhh4nUYYg7ABEI_=w150-h150-k-no-p']}]\",\n",
       "       \"[{'url': ['https://lh5.googleusercontent.com/p/AF1QipNJVdZudKOe_JAgzyHahSNb_D_cMKnucccgsxk=w150-h150-k-no-p']}]\"],\n",
       "      dtype=object)"
      ]
     },
     "execution_count": 27,
     "metadata": {},
     "output_type": "execute_result"
    }
   ],
   "source": [
    "unicos_pics_florida_1 = Unicos_Por_Columnas(Florida_1,'pics')\n",
    "unicos_pics_florida_1"
   ]
  },
  {
   "cell_type": "code",
   "execution_count": 37,
   "metadata": {},
   "outputs": [
    {
     "data": {
      "text/plain": [
       "array([\"[{'url': ['https://lh5.googleusercontent.com/p/AF1QipMOL-t5pYhZ1mX9DKux9oKTJDFy_6R-3jLfwuEA=w150-h150-k-no-p']}]\",\n",
       "       None,\n",
       "       \"[{'url': ['https://lh5.googleusercontent.com/p/AF1QipMt4k3lIv8Lv80tIX--YACF-cckghwnQvC-dB27=w150-h150-k-no-p']}]\",\n",
       "       ...,\n",
       "       \"[{'url': ['https://lh5.googleusercontent.com/p/AF1QipM9HBKj8p0b1DCdtBReJxwB0ptxj4MOAScQDHyW=w150-h150-k-no-p']}]\",\n",
       "       \"[{'url': ['https://lh5.googleusercontent.com/p/AF1QipPPhwz5ZO5T1ZQOA-Sgyi-BhHVfN9toLGSEln_z=w150-h150-k-no-p']}]\",\n",
       "       \"[{'url': ['https://lh5.googleusercontent.com/p/AF1QipPOs7gfYHtboC3K6BlojdHVbUpHUImTHz8FcLc=w150-h150-k-no-p']}]\"],\n",
       "      dtype=object)"
      ]
     },
     "execution_count": 37,
     "metadata": {},
     "output_type": "execute_result"
    }
   ],
   "source": [
    "unicos_pics_New_York_1 = Unicos_Por_Columnas(New_York_1,'pics')\n",
    "unicos_pics_New_York_1"
   ]
  },
  {
   "cell_type": "code",
   "execution_count": 38,
   "metadata": {},
   "outputs": [
    {
     "data": {
      "text/plain": [
       "array([None,\n",
       "       \"[{'url': ['https://lh5.googleusercontent.com/p/AF1QipP8SmypYMv_Zv0ABuCgMJxDQJviHg_50lZ1rA4_=w150-h150-k-no-p']}, {'url': ['https://lh5.googleusercontent.com/p/AF1QipOWKatvDStPfjkHI2Po7ahzcKQqCL0vuN7bv22F=w150-h150-k-no-p']}]\",\n",
       "       \"[{'url': ['https://lh5.googleusercontent.com/p/AF1QipPb6RLJPMZTBtrpXYvdwiGb5Z0KXFMJwMw6u_1u=w150-h150-k-no-p']}, {'url': ['https://lh5.googleusercontent.com/p/AF1QipOqK4TGFvZV3C3cgZCuDlLDpXWc0_vE7c7PyJ2e=w150-h150-k-no-p']}]\",\n",
       "       ...,\n",
       "       \"[{'url': ['https://lh5.googleusercontent.com/p/AF1QipOMZO1sq7Hu3kzSOTJj5jPetl1O0NRC0AjgWUrL=w150-h150-k-no-p']}, {'url': ['https://lh5.googleusercontent.com/p/AF1QipOjg8vu2leTXcvFj1GhqdQb2zRDVq0J2VxzyqEt=w150-h150-k-no-p']}]\",\n",
       "       \"[{'url': ['https://lh5.googleusercontent.com/p/AF1QipO_B0TerhDd-g5qCXkGWUei493kAB0qWM7U2kiE=w150-h150-k-no-p']}]\",\n",
       "       \"[{'url': ['https://lh5.googleusercontent.com/p/AF1QipOLxbjmm-po4sC4EPGb8oGbGlL8hddlogLI-TIb=w150-h150-k-no-p']}]\"],\n",
       "      dtype=object)"
      ]
     },
     "execution_count": 38,
     "metadata": {},
     "output_type": "execute_result"
    }
   ],
   "source": [
    "unicos_Virginia_1 = Unicos_Por_Columnas(Virginia_1,'pics')\n",
    "unicos_Virginia_1"
   ]
  },
  {
   "cell_type": "code",
   "execution_count": 39,
   "metadata": {},
   "outputs": [
    {
     "data": {
      "text/plain": [
       "array([None,\n",
       "       \"[{'url': ['https://lh5.googleusercontent.com/p/AF1QipMJ-rLucknOKq8N8QjlLK5rNtZztpyQHM4Vs0Xc=w150-h150-k-no-p']}]\",\n",
       "       \"[{'url': ['https://lh5.googleusercontent.com/p/AF1QipMHknmqA3ZEcNyasslUPgnx4dA0VStbmZhBLun4=w150-h150-k-no-p']}, {'url': ['https://lh5.googleusercontent.com/p/AF1QipOOPJZTgTon6Ymhf2dOS_chzsk31UnHCNLRAbcX=w150-h150-k-no-p']}]\",\n",
       "       ...,\n",
       "       \"[{'url': ['https://lh5.googleusercontent.com/p/AF1QipNBtPhvb_J_QX2HawsE3UxLOXCI4EI0-tcGXs1I=w150-h150-k-no-p']}, {'url': ['https://lh5.googleusercontent.com/p/AF1QipMfdUycYfN1qF8WMngXgnSIkpX3Qo2hHXGlX2fK=w150-h150-k-no-p']}, {'url': ['https://lh5.googleusercontent.com/p/AF1QipMOZoh73WjL7EpXLGDLFBmYrO0ZgvmqY9uKoQm2=w150-h150-k-no-p']}, {'url': ['https://lh5.googleusercontent.com/p/AF1QipO9WV8JsXmbVWV6Hd5AQayM9z2damjCYigxSdSC=w150-h150-k-no-p']}, {'url': ['https://lh5.googleusercontent.com/p/AF1QipODiF6qu33Ib2ht88gjEAMsKcfdmdi3zmPOp08n=w150-h150-k-no-p']}, {'url': ['https://lh5.googleusercontent.com/p/AF1QipOf89ruIqp9VzdEwgDVj9MzNrlcNQCE8jjNBDxv=w150-h150-k-no-p']}, {'url': ['https://lh5.googleusercontent.com/p/AF1QipPk6WXm3IMcHqOotAuysR3Oo2oNMydmFhmj3dDZ=w150-h150-k-no-p']}, {'url': ['https://lh5.googleusercontent.com/p/AF1QipMPM5tC5lthsqtMt6CmlKZNuZ6HRzsgxsmd0PW9=w150-h150-k-no-p']}, {'url': ['https://lh5.googleusercontent.com/p/AF1QipMaHxGhMeuNGSmicJgO3XBdEOq9SEpL0pu6byAn=w150-h150-k-no-p']}, {'url': ['https://lh5.googleusercontent.com/p/AF1QipOyjr4MrwFJ6a6dJ7XWB2tmZd0KnmB9AifsxWfA=w150-h150-k-no-p']}, {'url': ['https://lh5.googleusercontent.com/p/AF1QipONfukK-3tGWw_jscX7M7_fyM1Vv__97UGrHVxg=w150-h150-k-no-p']}, {'url': ['https://lh5.googleusercontent.com/p/AF1QipNoKlEHDGFFtI-zyD3yQbj-L43b23PJxbOcEkBM=w150-h150-k-no-p']}, {'url': ['https://lh5.googleusercontent.com/p/AF1QipMYBgE9y7qR7Y2x5HyTn5V53goe6rLuip-iN9Hg=w150-h150-k-no-p']}, {'url': ['https://lh5.googleusercontent.com/p/AF1QipM2QMShzFyRoKPvSVKqrcpAdS7FRXHC9aYO15_9=w150-h150-k-no-p']}, {'url': ['https://lh5.googleusercontent.com/p/AF1QipMiBJ0PsLFcKvg4oJfr5mZTyJpA11gYl8mixCZQ=w150-h150-k-no-p']}, {'url': ['https://lh5.googleusercontent.com/p/AF1QipMXrNTN0gbxiDqXPWcFTbPm3uvUTIhxq963IFjW=w150-h150-k-no-p']}, {'url': ['https://lh5.googleusercontent.com/p/AF1QipP9KoIcp_87VRDPdafAJXPJk1lkU04tNUh-CN8a=w150-h150-k-no-p']}, {'url': ['https://lh5.googleusercontent.com/p/AF1QipNv8U07-FoIiWbZ52vQu26pLs6mjOQZpHlNhGuU=w150-h150-k-no-p']}, {'url': ['https://lh5.googleusercontent.com/p/AF1QipMspT-SRQP_8q-x4jWnwVJkm0_G5ZdZjybKIrT_=w150-h150-k-no-p']}]\",\n",
       "       \"[{'url': ['https://lh5.googleusercontent.com/p/AF1QipOE_3DD3c9ZX44qR9nr2cAh-sLjCla3EPEvv-yW=w150-h150-k-no-p']}, {'url': ['https://lh5.googleusercontent.com/p/AF1QipMO2j0JmNmcTIXJo_eitVVv8srwJ5ogSK0HuOZV=w150-h150-k-no-p']}, {'url': ['https://lh5.googleusercontent.com/p/AF1QipMpBqqNUXWXVxn9rPeYBUdGi7iFq8q6JmUJ-T_5=w150-h150-k-no-p']}, {'url': ['https://lh5.googleusercontent.com/p/AF1QipO3jlvs8QMd_wqQucHwpBSD_cLDBRcT2IDfwHpK=w150-h150-k-no-p']}, {'url': ['https://lh5.googleusercontent.com/p/AF1QipNp-cddjkF6Ns5oZetlbIF80K04ulTA4EKF6zi-=w150-h150-k-no-p']}]\",\n",
       "       \"[{'url': ['https://lh5.googleusercontent.com/p/AF1QipMsFxtF0Qa3aYcqYQWMTszdf1lGp9t4gW4a1osz=w150-h150-k-no-p']}, {'url': ['https://lh5.googleusercontent.com/p/AF1QipPJbRasJqU_BD6CaNvZc_fIHmXMTloGbQf3ErhF=w150-h150-k-no-p']}]\"],\n",
       "      dtype=object)"
      ]
     },
     "execution_count": 39,
     "metadata": {},
     "output_type": "execute_result"
    }
   ],
   "source": [
    "unicos_Washington_1 = Unicos_Por_Columnas(Washington_1,'pics')\n",
    "unicos_Washington_1"
   ]
  },
  {
   "cell_type": "markdown",
   "metadata": {},
   "source": [
    "* La columna 'pics' en los datasets contiene links directos a fotos que los usuarios han subido junto con sus reviews. \n",
    "* Al ser diccionarios de listas, podemos intuir que los usuarios han subido varias fotos en una misma review.\n",
    "\n"
   ]
  },
  {
   "cell_type": "code",
   "execution_count": 40,
   "metadata": {},
   "outputs": [
    {
     "data": {
      "image/png": "[encoded data removed]",
      "text/plain": [
       "<Figure size 640x480 with 1 Axes>"
      ]
     },
     "metadata": {},
     "output_type": "display_data"
    }
   ],
   "source": [
    "column_name = 'text'\n",
    "\n",
    "def contar_reviews(df,columna):\n",
    "    #reseñas con texto\n",
    "    con_texto = df[columna].notnull().sum()\n",
    "    \n",
    "    #reseñas sin texto\n",
    "    sin_texto = df[columna].isnull().sum()\n",
    "    return con_texto, sin_texto\n",
    "\n",
    "#Cuenta las reseñas con y sin texto en cada dataset\n",
    "con_texto1, sin_texto1 = contar_reviews(Alaska_1,column_name)\n",
    "con_texto2, sin_texto2 = contar_reviews(California_1,column_name)\n",
    "con_texto3, sin_texto3 = contar_reviews(Florida_1,column_name)\n",
    "con_texto4, sin_texto4 = contar_reviews(New_York_1,column_name)\n",
    "con_texto5, sin_texto5 = contar_reviews(Virginia_1,column_name)\n",
    "con_texto6, sin_texto6 = contar_reviews(Washington_1,column_name)\n",
    "\n",
    "#Configura los datos para el gráfico de barras\n",
    "datasets = ['Alaska_1','California_1','Florida_1','New_York_1','Virginia_1','Washington_1']\n",
    "con_texto = [con_texto1, con_texto2, con_texto3, con_texto4, con_texto5, con_texto6]\n",
    "sin_texto = [sin_texto1, sin_texto2, sin_texto3, sin_texto4, sin_texto5, sin_texto6]\n",
    "\n",
    "#Crea el gráfico de barras\n",
    "fig, ax = plt.subplots()\n",
    "bar_width = 0.35\n",
    "\n",
    "#Barras para reseñas con texto\n",
    "ax.bar(datasets, con_texto, width = bar_width, label = 'Con Texto')\n",
    "\n",
    "#Barras para reseñas sin texto\n",
    "ax.bar(datasets, sin_texto, width = bar_width, bottom =con_texto, label = 'Sin Texto')\n",
    "\n",
    "#Etiquetas y título \n",
    "ax.set_ylabel('Cantidad de reseñas.')\n",
    "ax.set_label('Comparación de reseñas con y sin texto.')\n",
    "ax.legend()\n",
    "\n",
    "#Muestra el gráfico \n",
    "plt.show()"
   ]
  },
  {
   "cell_type": "code",
   "execution_count": 41,
   "metadata": {},
   "outputs": [
    {
     "data": {
      "image/png": "[encoded data removed]",
      "text/plain": [
       "<Figure size 640x480 with 1 Axes>"
      ]
     },
     "metadata": {},
     "output_type": "display_data"
    }
   ],
   "source": [
    "column_name = 'pics'\n",
    "\n",
    "def contar_reviews(df,columna):\n",
    "    #reseñas con texto\n",
    "    con_pics = df[columna].notnull().sum()\n",
    "    \n",
    "    #reseñas sin texto\n",
    "    sin_pics = df[columna].isnull().sum()\n",
    "    return con_pics, sin_pics\n",
    "\n",
    "#Cuenta las reseñas con y sin texto en cada dataset\n",
    "con_pics1, sin_pics1 = contar_reviews(Alaska_1,column_name)\n",
    "con_pics2, sin_pics2 = contar_reviews(California_1,column_name)\n",
    "con_pics3, sin_pics3 = contar_reviews(Florida_1,column_name)\n",
    "con_pics4, sin_pics4 = contar_reviews(New_York_1,column_name)\n",
    "con_pics5, sin_pics5 = contar_reviews(Virginia_1,column_name)\n",
    "con_pics6, sin_pics6 = contar_reviews(Washington_1,column_name)\n",
    "\n",
    "#Configura los datos para el gráfico de barras\n",
    "datasets = ['Alaska_1','California_1','Florida_1','New_York_1','Virginia_1','Washington_1']\n",
    "con_pics = [con_pics1, con_pics2, con_pics3, con_pics4, con_pics5, con_pics6]\n",
    "sin_pics = [sin_pics1, sin_pics2, sin_pics3, sin_pics4, sin_pics5, sin_pics6]\n",
    "\n",
    "#Crea el gráfico de barras\n",
    "fig, ax = plt.subplots()\n",
    "bar_width = 0.35\n",
    "\n",
    "#Barras para reseñas con texto\n",
    "ax.bar(datasets, con_pics, width = bar_width, label = 'Con Pics')\n",
    "\n",
    "#Barras para reseñas sin texto\n",
    "ax.bar(datasets, sin_pics, width = bar_width, bottom =con_pics, label = 'Sin Pics')\n",
    "\n",
    "#Etiquetas y título \n",
    "ax.set_ylabel('Cantidad de reseñas.')\n",
    "ax.set_label('Comparación de reseñas con y sin pics.')\n",
    "ax.legend()\n",
    "\n",
    "#Muestra el gráfico \n",
    "plt.show()"
   ]
  },
  {
   "cell_type": "code",
   "execution_count": 42,
   "metadata": {},
   "outputs": [
    {
     "data": {
      "image/png": "[encoded data removed]",
      "text/plain": [
       "<Figure size 640x480 with 1 Axes>"
      ]
     },
     "metadata": {},
     "output_type": "display_data"
    }
   ],
   "source": [
    "column_name = 'resp'\n",
    "\n",
    "def contar_reviews(df,columna):\n",
    "    #reseñas con texto\n",
    "    con_resp = df[columna].notnull().sum()\n",
    "    \n",
    "    #reseñas sin texto\n",
    "    sin_resp = df[columna].isnull().sum()\n",
    "    return con_resp, sin_resp\n",
    "\n",
    "#Cuenta las reseñas con y sin texto en cada dataset\n",
    "con_resp1, sin_resp1 = contar_reviews(Alaska_1,column_name)\n",
    "con_resp2, sin_resp2 = contar_reviews(California_1,column_name)\n",
    "con_resp3, sin_resp3 = contar_reviews(Florida_1,column_name)\n",
    "con_resp4, sin_resp4 = contar_reviews(New_York_1,column_name)\n",
    "con_resp5, sin_resp5 = contar_reviews(Virginia_1,column_name)\n",
    "con_resp6, sin_resp6 = contar_reviews(Washington_1,column_name)\n",
    "\n",
    "#Configura los datos para el gráfico de barras\n",
    "datasets = ['Alaska_1','California_1','Florida_1','New_York_1','Virginia_1','Washington_1']\n",
    "con_resp = [con_resp1, con_resp2, con_resp3, con_resp4, con_resp5, con_resp6]\n",
    "sin_resp = [sin_resp1, sin_resp2, sin_resp3, sin_resp4, sin_resp5, sin_resp6]\n",
    "\n",
    "#Crea el gráfico de barras\n",
    "fig, ax = plt.subplots()\n",
    "bar_width = 0.35\n",
    "\n",
    "#Barras para reseñas con texto\n",
    "ax.bar(datasets, con_resp, width = bar_width, label = 'Con Resp')\n",
    "\n",
    "#Barras para reseñas sin texto\n",
    "ax.bar(datasets, sin_resp, width = bar_width, bottom =con_resp, label = 'Sin Resp')\n",
    "\n",
    "#Etiquetas y título \n",
    "ax.set_ylabel('Cantidad de reseñas.')\n",
    "ax.set_label('Comparación de reseñas con y sin resp.')\n",
    "ax.legend()\n",
    "\n",
    "#Muestra el gráfico \n",
    "plt.show()"
   ]
  }
 ],
 "metadata": {
  "kernelspec": {
   "display_name": "Proyecto_Final_Yelp",
   "language": "python",
   "name": "python3"
  },
  "language_info": {
   "codemirror_mode": {
    "name": "ipython",
    "version": 3
   },
   "file_extension": ".py",
   "mimetype": "text/x-python",
   "name": "python",
   "nbconvert_exporter": "python",
   "pygments_lexer": "ipython3",
   "version": "3.11.0"
  }
 },
 "nbformat": 4,
 "nbformat_minor": 2
}
