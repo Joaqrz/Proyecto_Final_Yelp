{
 "cells": [
  {
   "cell_type": "markdown",
   "metadata": {},
   "source": [
    "## EDA de Google Maps\n",
    "* Voy a traer los archivos desde el Drive. \n",
    "* Usaré una muestra de los datos. Usaré 6 estados para tener una noción sobre qué datos manejamos.\n",
    "* Las librerías que voy a utilizar serán matplotlib, pandas y numpy."
   ]
  },
  {
   "cell_type": "markdown",
   "metadata": {},
   "source": [
    "\n",
    "\n",
    "# **Análisis Exploratorio de Datos (EDA) para el Proyecto Yelp-Google**\n",
    "\n",
    "El Análisis Exploratorio de Datos (EDA) es el proceso de explorar y comprender los datos antes de realizar análisis más avanzados. En este Jupyter notebook, realizaremos un EDA para los conjuntos de datos relacionados con Yelp, con el objetivo de identificar problemas potenciales y comprender mejor la estructura de los datos. A continuación se describen los pasos que seguiremos:\n",
    "\n",
    "---\n",
    "\n",
    "### **1. Exploración Inicial**\n",
    "- **1.1. Carga del Archivo**: Cargaremos cada archivo en un DataFrame de pandas.\n",
    "- **1.2. Dimensiones del DataFrame**: Determinaremos cuántas filas y columnas tiene cada DataFrame.\n",
    "- **1.3. Tipos de Datos**: Revisaremos los tipos de datos para cada columna.\n",
    "- **1.4. Muestra Rápida**: Observaremos las primeras y últimas filas para tener una idea general del contenido del DataFrame.\n",
    "\n",
    "\n",
    "\n",
    "### **2. Análisis de Datos Cualitativos**\n",
    "- **2.1. Valores Nulos**: Identificaremos columnas con valores faltantes y cuántos valores nulos hay.\n",
    "- **2.2. Estadísticas Básicas**: Utilizaremos `describe()` para obtener estadísticas como media, mediana, desviación estándar, etc.\n",
    "- **2.3. Valores Únicos**: Contaremos cuántos valores únicos hay en cada columna para entender su diversidad.\n",
    "\n",
    "\n",
    "\n",
    "### **3. Análisis de Datos Cuantitativos**\n",
    "- **3.1. Distribuciones**: Crearemos histogramas para visualizar la distribución de las columnas numéricas.\n",
    "- **3.2. Correlaciones**: Analizaremos las correlaciones entre columnas numéricas para encontrar relaciones significativas.\n",
    "- **3.3. Detección de Outliers**: Usaremos gráficos como boxplots para detectar valores atípicos.\n",
    "\n",
    "\n",
    "\n",
    "### **4. Análisis de Datos Categóricos**\n",
    "- **4.1. Distribución de Categorías**: Verificaremos la frecuencia de las categorías para entender su diversidad.\n",
    "- **4.2. Relaciones entre Categorías**: Usaremos gráficos de barras para ver cómo se relacionan las categorías con otras variables.\n",
    "\n",
    "\n",
    "\n",
    "### **5. Preguntas Clave**\n",
    "- **5.1. Columnas Importantes**: Identificaremos las columnas más relevantes para el análisis futuro.\n",
    "- **5.2. Patrones y Tendencias**: Buscaremos patrones o tendencias útiles para el análisis posterior.\n",
    "- **5.3. Correlaciones**: Exploraremos correlaciones entre columnas para identificar relaciones significativas.\n",
    "\n",
    "---\n",
    "\n",
    "Al final de este EDA, esperamos tener una comprensión clara de nuestros datos, permitiéndonos planificar y ejecutar análisis más avanzados. Este proceso establecerá una base sólida para el resto del proyecto y asegurará que estamos trabajando con datos limpios y consistentes.\n",
    "\n",
    "---"
   ]
  },
  {
   "cell_type": "code",
   "execution_count": 32,
   "metadata": {},
   "outputs": [],
   "source": [
    "import json\n",
    "import pandas as pd\n",
    "import numpy as np \n",
    "import matplotlib.pyplot as plt\n",
    "import os"
   ]
  },
  {
   "cell_type": "code",
   "execution_count": 33,
   "metadata": {},
   "outputs": [],
   "source": [
    "def cargar_json_a_dataframe(ruta):\n",
    "    \"\"\"\n",
    "    Carga un archivo JSON línea por línea y lo convierte en un DataFrame de pandas.\n",
    "    \n",
    "    Args:\n",
    "    ruta (str): La ruta al archivo JSON.\n",
    "    \n",
    "    Returns:\n",
    "    pd.DataFrame: El DataFrame que contiene los datos del archivo JSON.\n",
    "    \"\"\"\n",
    "    registros = []\n",
    "    \n",
    "    try:\n",
    "        # Abre el archivo JSON y lee las líneas\n",
    "        with open(ruta, 'r', encoding='utf-8') as f:\n",
    "            for line in f:\n",
    "                # Convierte cada línea en un diccionario usando json.loads\n",
    "                registro = json.loads(line.strip())\n",
    "                registros.append(registro)\n",
    "                \n",
    "        # Crea el DataFrame a partir de la lista de diccionarios\n",
    "        df = pd.DataFrame(registros)\n",
    "        return df\n",
    "    \n",
    "    except FileNotFoundError:\n",
    "        print(f\"El archivo {ruta} no se encontró.\")\n",
    "        return None\n",
    "    except json.JSONDecodeError:\n",
    "        print(f\"Error al decodificar JSON en {ruta}.\")\n",
    "        return None\n"
   ]
  },
  {
   "cell_type": "code",
   "execution_count": 34,
   "metadata": {},
   "outputs": [],
   "source": [
    "def cargar_y_concatenar_datasets(lista_rutas):\n",
    "    \"\"\"\n",
    "    Carga varios datasets desde una lista de rutas y los concatena en un solo DataFrame.\n",
    "    \n",
    "    Args:\n",
    "    lista_rutas (list): Lista de rutas de los archivos JSON a cargar.\n",
    "    \n",
    "    Returns:\n",
    "    pd.DataFrame: Un DataFrame que contiene los datos concatenados de todos los datasets.\n",
    "    \"\"\"\n",
    "    dataframes = []\n",
    "    \n",
    "    # Recorre la lista de rutas\n",
    "    for ruta in lista_rutas:\n",
    "        # Carga el DataFrame desde la ruta utilizando la función cargar_json_a_dataframe\n",
    "        df = cargar_json_a_dataframe(ruta)\n",
    "        \n",
    "        # Añade el DataFrame cargado a la lista\n",
    "        dataframes.append(df)\n",
    "    \n",
    "    # Concatenar todos los DataFrames en un solo DataFrame grande\n",
    "    df_concatenado = pd.concat(dataframes, ignore_index=True)\n",
    "    \n",
    "    return df_concatenado"
   ]
  },
  {
   "cell_type": "code",
   "execution_count": 35,
   "metadata": {},
   "outputs": [],
   "source": [
    "def cargar_y_concatenar_datasets_carpeta(carpeta):\n",
    "    \"\"\"\n",
    "    Carga y concatena todos los datasets en formato JSON de una carpeta en un solo DataFrame.\n",
    "    \n",
    "    Args:\n",
    "    carpeta (str): La ruta de la carpeta que contiene los datasets en formato JSON.\n",
    "    \n",
    "    Returns:\n",
    "    pd.DataFrame: Un DataFrame que contiene los datos concatenados de todos los datasets.\n",
    "    \"\"\"\n",
    "    dataframes = []\n",
    "    \n",
    "    # Recorre todos los archivos en la carpeta especificada\n",
    "    for archivo in os.listdir(carpeta):\n",
    "        # Construye la ruta completa del archivo\n",
    "        ruta = os.path.join(carpeta, archivo)\n",
    "        \n",
    "        # Verifica si el archivo es un archivo JSON (puedes ajustar esta condición según el formato)\n",
    "        if archivo.endswith('.json'):\n",
    "            # Carga el DataFrame desde la ruta utilizando cargar_json_a_dataframe\n",
    "            df = cargar_json_a_dataframe(ruta)\n",
    "            \n",
    "            # Añade el DataFrame cargado a la lista\n",
    "            dataframes.append(df)\n",
    "    \n",
    "    # Concatenar todos los DataFrames en un solo DataFrame grande\n",
    "    df_concatenado = pd.concat(dataframes, ignore_index=True)\n",
    "    \n",
    "    return df_concatenado\n"
   ]
  },
  {
   "cell_type": "markdown",
   "metadata": {},
   "source": [
    "# Carga de datos\n"
   ]
  },
  {
   "cell_type": "markdown",
   "metadata": {},
   "source": [
    "## Alabama"
   ]
  },
  {
   "cell_type": "code",
   "execution_count": null,
   "metadata": {},
   "outputs": [],
   "source": [
    "Rutas_Alabama = ['Estados/review-Alabama/1.json','Estados/review-Alabama/2.json','Estados/review-Alabama/3.json','Estados/review-Alabama/4.json','Estados/review-Alabama/5.json','Estados/review-Alabama/6.json','Estados/review-Alabama/7.json','Estados/review-Alabama/8.json','Estados/review-Alabama/9.json','Estados/review-Alabama/10.json','Estados/review-Alabama/11.json','Estados/review-Alabama/12.json']\n",
    "Df_Alabama = cargar_y_concatenar_datasets(Rutas_Alabama)\n",
    "Df_Alabama.info()\n"
   ]
  },
  {
   "cell_type": "code",
   "execution_count": null,
   "metadata": {},
   "outputs": [],
   "source": [
    "Df_Alabama.to_parquet('Estados_Concatenados/Alabama.parquet')"
   ]
  },
  {
   "cell_type": "markdown",
   "metadata": {},
   "source": [
    "## Alaska"
   ]
  },
  {
   "cell_type": "code",
   "execution_count": null,
   "metadata": {},
   "outputs": [],
   "source": [
    "Rutas_Alaska = ['Estados/review-Alaska/1.json','Estados/review-Alaska/2.json','Estados/review-Alaska/3.json','Estados/review-Alaska/4.json']\n",
    "Df_Alaska = cargar_y_concatenar_datasets(Rutas_Alaska)\n",
    "Df_Alaska.info()\n",
    "Df_Alaska.to_parquet('Estados_Concatenados/Alaska.parquet')"
   ]
  },
  {
   "cell_type": "markdown",
   "metadata": {},
   "source": [
    "## Arizona"
   ]
  },
  {
   "cell_type": "code",
   "execution_count": null,
   "metadata": {},
   "outputs": [],
   "source": [
    "Rutas_Arizona = ['Estados/review-Arizona/1.json','Estados/review-Arizona/2.json','Estados/review-Arizona/3.json','Estados/review-Arizona/4.json','Estados/review-Arizona/5.json','Estados/review-Arizona/6.json','Estados/review-Arizona/7.json','Estados/review-Arizona/8.json','Estados/review-Arizona/9.json','Estados/review-Arizona/10.json','Estados/review-Arizona/11.json','Estados/review-Arizona/12.json','Estados/review-Arizona/13.json','Estados/review-Arizona/14.json']\n",
    "Df_Arizona = cargar_y_concatenar_datasets(Rutas_Arizona)\n",
    "Df_Arizona.info()\n",
    "Df_Arizona.to_parquet('Estados_Concatenados/Arizona.parquet')"
   ]
  },
  {
   "cell_type": "markdown",
   "metadata": {},
   "source": [
    "## Arkansas"
   ]
  },
  {
   "cell_type": "code",
   "execution_count": null,
   "metadata": {},
   "outputs": [],
   "source": [
    "Rutas_Arkansas = ['Estados/review-Arkansas/1.json','Estados/review-Arkansas/2.json','Estados/review-Arkansas/3.json','Estados/review-Arkansas/4.json','Estados/review-Arkansas/5.json','Estados/review-Arkansas/6.json','Estados/review-Arkansas/7.json','Estados/review-Arkansas/8.json','Estados/review-Arkansas/9.json','Estados/review-Arkansas/10.json','Estados/review-Arkansas/11.json','Estados/review-Arkansas/12.json','Estados/review-Arkansas/13.json','Estados/review-Arkansas/14.json','Estados/review-Arkansas/15.json','Estados/review-Arkansas/16.json']\n",
    "Df_Arkansas = cargar_y_concatenar_datasets(Rutas_Arkansas)\n",
    "Df_Arizona.info()\n",
    "Df_Arizona.to_parquet('Estados_Concatenados/Arkansas.parquet')"
   ]
  },
  {
   "cell_type": "markdown",
   "metadata": {},
   "source": [
    "## California"
   ]
  },
  {
   "cell_type": "code",
   "execution_count": null,
   "metadata": {},
   "outputs": [],
   "source": [
    "Df_California = cargar_y_concatenar_datasets_carpeta('Estados/review-California')\n",
    "Df_California.info()\n",
    "Df_California.to_parquet('Estados_Concatenados/California.parquet')"
   ]
  },
  {
   "cell_type": "markdown",
   "metadata": {},
   "source": [
    "## Colorado"
   ]
  },
  {
   "cell_type": "code",
   "execution_count": null,
   "metadata": {},
   "outputs": [],
   "source": [
    "Df_Colorado = cargar_y_concatenar_datasets_carpeta('Estados/review-Colorado')\n",
    "Df_Colorado.info()\n",
    "Df_Colorado.to_parquet('Estados_Concatenados/Colorado.parquet')"
   ]
  },
  {
   "cell_type": "markdown",
   "metadata": {},
   "source": [
    "## Connecticut"
   ]
  },
  {
   "cell_type": "code",
   "execution_count": null,
   "metadata": {},
   "outputs": [],
   "source": [
    "Df_Connecticut = cargar_y_concatenar_datasets_carpeta('Estados/review-Connecticut')\n",
    "Df_Connecticut.info()\n",
    "Df_Connecticut.to_parquet('Estados_Concatenados/Connecticut.parquet')"
   ]
  },
  {
   "cell_type": "markdown",
   "metadata": {},
   "source": [
    "## Delaware\n"
   ]
  },
  {
   "cell_type": "code",
   "execution_count": null,
   "metadata": {},
   "outputs": [],
   "source": [
    "Df_Connecticut = cargar_y_concatenar_datasets_carpeta('Estados/review-Delaware')\n",
    "Df_Connecticut.info()\n",
    "Df_Connecticut.to_parquet('Estados_Concatenados/Delaware.parquet')"
   ]
  },
  {
   "cell_type": "markdown",
   "metadata": {},
   "source": [
    "## Distrito de Columbia"
   ]
  },
  {
   "cell_type": "code",
   "execution_count": null,
   "metadata": {},
   "outputs": [],
   "source": [
    "Df_District_Of_Columbia = cargar_y_concatenar_datasets_carpeta('Estados/review-District_of_Columbia')\n",
    "Df_District_Of_Columbia.info()\n",
    "Df_District_Of_Columbia.to_parquet('Estados_Concatenados/Distrito_De_Columbia.parquet')"
   ]
  },
  {
   "cell_type": "markdown",
   "metadata": {},
   "source": [
    "## Florida"
   ]
  },
  {
   "cell_type": "code",
   "execution_count": null,
   "metadata": {},
   "outputs": [],
   "source": [
    "Df_Florida = cargar_y_concatenar_datasets_carpeta('Estados/review-Florida')\n",
    "Df_Florida.info()\n",
    "Df_Florida.to_parquet('Estados_Concatenados/Florida.parquet')"
   ]
  },
  {
   "cell_type": "markdown",
   "metadata": {},
   "source": [
    "## Georgia"
   ]
  },
  {
   "cell_type": "code",
   "execution_count": null,
   "metadata": {},
   "outputs": [],
   "source": [
    "Df_Georgia = cargar_y_concatenar_datasets_carpeta('Estados/review-Georgia')\n",
    "Df_Georgia.info()\n",
    "Df_Georgia.to_parquet('Estados_Concatenados/Georgia.parquet')"
   ]
  },
  {
   "cell_type": "markdown",
   "metadata": {},
   "source": [
    "## Hawaii"
   ]
  },
  {
   "cell_type": "code",
   "execution_count": null,
   "metadata": {},
   "outputs": [],
   "source": [
    "Df_Hawaii = cargar_y_concatenar_datasets_carpeta('Estados/review-Hawaii')\n",
    "Df_Hawaii.info()\n",
    "Df_Hawaii.to_parquet('Estados_Concatenados/Hawaii.parquet')"
   ]
  },
  {
   "cell_type": "markdown",
   "metadata": {},
   "source": [
    "## Idaho"
   ]
  },
  {
   "cell_type": "code",
   "execution_count": null,
   "metadata": {},
   "outputs": [],
   "source": [
    "Df_Idaho = cargar_y_concatenar_datasets_carpeta('Estados/review-Idaho')\n",
    "Df_Idaho.info()\n",
    "Df_Idaho.to_parquet('Estados_Concatenados/Idaho.parquet')"
   ]
  },
  {
   "cell_type": "markdown",
   "metadata": {},
   "source": [
    "## Illinois"
   ]
  },
  {
   "cell_type": "code",
   "execution_count": null,
   "metadata": {},
   "outputs": [],
   "source": [
    "Df_Illinois = cargar_y_concatenar_datasets_carpeta('Estados/review-Illinois')\n",
    "Df_Illinois.info()\n",
    "Df_Illinois.to_parquet('Estados_Concatenados/Illinois.parquet')"
   ]
  },
  {
   "cell_type": "markdown",
   "metadata": {},
   "source": [
    "## Indiana"
   ]
  },
  {
   "cell_type": "code",
   "execution_count": null,
   "metadata": {},
   "outputs": [],
   "source": [
    "Df_Indiana = cargar_y_concatenar_datasets_carpeta('Estados/review-Indiana')\n",
    "Df_Indiana.info()\n",
    "Df_Indiana.to_parquet('Estados_Concatenados/Indiana.parquet')"
   ]
  },
  {
   "cell_type": "markdown",
   "metadata": {},
   "source": [
    "## Iowa"
   ]
  },
  {
   "cell_type": "code",
   "execution_count": null,
   "metadata": {},
   "outputs": [],
   "source": [
    "Df_Iowa = cargar_y_concatenar_datasets_carpeta('Estados/review-Iowa')\n",
    "Df_Iowa.info()\n",
    "Df_Iowa.to_parquet('Estados_Concatenados/Iowa.parquet')"
   ]
  },
  {
   "cell_type": "markdown",
   "metadata": {},
   "source": [
    "## Kansas\n"
   ]
  },
  {
   "cell_type": "code",
   "execution_count": null,
   "metadata": {},
   "outputs": [],
   "source": [
    "Df_Kansas = cargar_y_concatenar_datasets_carpeta('Estados/review-Kansas')\n",
    "Df_Kansas.info()\n",
    "Df_Kansas.to_parquet('Estados_Concatenados/Kansas.parquet')"
   ]
  },
  {
   "cell_type": "markdown",
   "metadata": {},
   "source": [
    "## Kentucky"
   ]
  },
  {
   "cell_type": "code",
   "execution_count": null,
   "metadata": {},
   "outputs": [],
   "source": [
    "Df_Kentucky = cargar_y_concatenar_datasets_carpeta('Estados/review-Kentucky')\n",
    "Df_Kentucky.info()\n",
    "Df_Kentucky.to_parquet('Estados_Concatenados/Kentucky.parquet')"
   ]
  },
  {
   "cell_type": "markdown",
   "metadata": {},
   "source": [
    "## Louisiana"
   ]
  },
  {
   "cell_type": "code",
   "execution_count": null,
   "metadata": {},
   "outputs": [],
   "source": [
    "Df_Louisiana = cargar_y_concatenar_datasets_carpeta('Estados/review-Louisiana')\n",
    "Df_Louisiana.info()\n",
    "Df_Louisiana.to_parquet('Estados_Concatenados/Louisiana.parquet')"
   ]
  },
  {
   "cell_type": "markdown",
   "metadata": {},
   "source": [
    "## Maine"
   ]
  },
  {
   "cell_type": "code",
   "execution_count": null,
   "metadata": {},
   "outputs": [],
   "source": [
    "Df_Maine = cargar_y_concatenar_datasets_carpeta('Estados/review-Maine')\n",
    "Df_Maine.info()\n",
    "Df_Maine.to_parquet('Estados_Concatenados/Maine.parquet')"
   ]
  },
  {
   "cell_type": "markdown",
   "metadata": {},
   "source": [
    "## Maryland"
   ]
  },
  {
   "cell_type": "code",
   "execution_count": null,
   "metadata": {},
   "outputs": [],
   "source": [
    "Df_Maryland = cargar_y_concatenar_datasets_carpeta('Estados/review-Maryland')\n",
    "Df_Maryland.info()\n",
    "Df_Maryland.to_parquet('Estados_Concatenados/Maryland.parquet')"
   ]
  },
  {
   "cell_type": "markdown",
   "metadata": {},
   "source": [
    "## Massachusetts"
   ]
  },
  {
   "cell_type": "code",
   "execution_count": null,
   "metadata": {},
   "outputs": [],
   "source": [
    "Df_Massachusetts = cargar_y_concatenar_datasets_carpeta('Estados/review-Massachusetts')\n",
    "Df_Massachusetts.info()\n",
    "Df_Massachusetts.to_parquet('Estados_Concatenados/Massachusetts.parquet')"
   ]
  },
  {
   "cell_type": "markdown",
   "metadata": {},
   "source": [
    "## Michigan"
   ]
  },
  {
   "cell_type": "code",
   "execution_count": null,
   "metadata": {},
   "outputs": [],
   "source": [
    "Df_Michigan = cargar_y_concatenar_datasets_carpeta('Estados/review-Michigan')\n",
    "Df_Michigan.info()\n",
    "Df_Michigan.to_parquet('Estados_Concatenados/Michigan.parquet')"
   ]
  },
  {
   "cell_type": "markdown",
   "metadata": {},
   "source": [
    "## Minnesota"
   ]
  },
  {
   "cell_type": "code",
   "execution_count": null,
   "metadata": {},
   "outputs": [],
   "source": [
    "Df_Minnesota = cargar_y_concatenar_datasets_carpeta('Estados/review-Minnesota')\n",
    "Df_Minnesota.info()\n",
    "Df_Minnesota.to_parquet('Estados_Concatenados/Minnsota.parquet')"
   ]
  },
  {
   "cell_type": "markdown",
   "metadata": {},
   "source": [
    "## Mississippi"
   ]
  },
  {
   "cell_type": "code",
   "execution_count": null,
   "metadata": {},
   "outputs": [],
   "source": [
    "Df_Mississippi = cargar_y_concatenar_datasets_carpeta('Estados/review-Mississippi')\n",
    "Df_Mississippi.info()\n",
    "Df_Mississippi.to_parquet()"
   ]
  },
  {
   "cell_type": "markdown",
   "metadata": {},
   "source": [
    "## Missouri"
   ]
  },
  {
   "cell_type": "code",
   "execution_count": null,
   "metadata": {},
   "outputs": [],
   "source": [
    "Df_Missouri = cargar_y_concatenar_datasets_carpeta('Estados/review-Missouri')\n",
    "Df_Missouri.info()\n",
    "Df_Missouri.to_parquet('Estados_Concatenados/Missouri.parquet')"
   ]
  },
  {
   "cell_type": "markdown",
   "metadata": {},
   "source": [
    "## Montana"
   ]
  },
  {
   "cell_type": "code",
   "execution_count": null,
   "metadata": {},
   "outputs": [],
   "source": [
    "Df_Montana = cargar_y_concatenar_datasets_carpeta(\"Estados/review-Montana\")\n",
    "Df_Montana.info()\n",
    "Df_Montana.to_parquet('Estados_Concatenados/Montana.parquet')"
   ]
  },
  {
   "cell_type": "markdown",
   "metadata": {},
   "source": [
    "## Nebraska"
   ]
  },
  {
   "cell_type": "code",
   "execution_count": null,
   "metadata": {},
   "outputs": [],
   "source": [
    "Df_Nebraska = cargar_y_concatenar_datasets_carpeta('Estados/review-Nebraska')\n",
    "Df_Nebraska.info()\n",
    "Df_Nebraska.to_parquet('Estados_Concatenados/Nebraska.parquet')"
   ]
  },
  {
   "cell_type": "markdown",
   "metadata": {},
   "source": [
    "## Nevada"
   ]
  },
  {
   "cell_type": "code",
   "execution_count": null,
   "metadata": {},
   "outputs": [],
   "source": [
    "Df_Nevada = cargar_y_concatenar_datasets_carpeta('Estados/review-Nevada')\n",
    "Df_Nevada.info()\n",
    "Df_Nevada.to_parquet('Estados_Concatenados/Nevada.parquet')"
   ]
  },
  {
   "cell_type": "markdown",
   "metadata": {},
   "source": [
    "## New Hampshire"
   ]
  },
  {
   "cell_type": "code",
   "execution_count": null,
   "metadata": {},
   "outputs": [],
   "source": [
    "Df_New_Hampshire = cargar_y_concatenar_datasets_carpeta('Estados/review-New_Hampshire')\n",
    "Df_New_Hampshire.to_parquet('Estados_Concatenados/New_Hampshire.parquet')"
   ]
  },
  {
   "cell_type": "markdown",
   "metadata": {},
   "source": [
    "## New Jersey"
   ]
  },
  {
   "cell_type": "code",
   "execution_count": null,
   "metadata": {},
   "outputs": [],
   "source": [
    "Df_New_Jersey = cargar_y_concatenar_datasets_carpeta(\"Estados/review-New_Jersey\")\n",
    "Df_New_Jersey.to_parquet('Estados_Concatenados/New_Jersey.parquet')"
   ]
  },
  {
   "cell_type": "markdown",
   "metadata": {},
   "source": [
    "## New Mexico"
   ]
  },
  {
   "cell_type": "code",
   "execution_count": null,
   "metadata": {},
   "outputs": [],
   "source": [
    "Df_New_Mexico = cargar_y_concatenar_datasets_carpeta(\"Estados/review-New_Mexico\")\n",
    "Df_New_Mexico.to_parquet('Estados_Concatenados/New_Mexico.parquet')"
   ]
  },
  {
   "cell_type": "markdown",
   "metadata": {},
   "source": [
    "## New York"
   ]
  },
  {
   "cell_type": "code",
   "execution_count": null,
   "metadata": {},
   "outputs": [],
   "source": [
    "Df_New_York = cargar_y_concatenar_datasets_carpeta('Estados/review-New_York')\n",
    "Df_New_York.to_parquet('Estados_Concatenados/New_York.parquet')"
   ]
  },
  {
   "cell_type": "markdown",
   "metadata": {},
   "source": [
    "## North Carolina"
   ]
  },
  {
   "cell_type": "code",
   "execution_count": null,
   "metadata": {},
   "outputs": [],
   "source": [
    "Df_North_Carolina = cargar_y_concatenar_datasets_carpeta('Estados/review-North_Carolina')\n",
    "Df_North_Carolina.to_parquet('Estados_Concatenados/North_Carolina.parquet')"
   ]
  },
  {
   "cell_type": "markdown",
   "metadata": {},
   "source": [
    "## North Dakota"
   ]
  },
  {
   "cell_type": "code",
   "execution_count": null,
   "metadata": {},
   "outputs": [],
   "source": [
    "Df_North_Dakota = cargar_y_concatenar_datasets_carpeta('Estados/review-North_Dakota')\n",
    "Df_North_Dakota.to_parquet('Estados_Concatenados/North_Dakota.parquet')"
   ]
  },
  {
   "cell_type": "markdown",
   "metadata": {},
   "source": [
    "## Ohio"
   ]
  },
  {
   "cell_type": "code",
   "execution_count": null,
   "metadata": {},
   "outputs": [],
   "source": [
    "Df_Ohio = cargar_y_concatenar_datasets_carpeta('Estados/review-Ohio')\n",
    "Df_Ohio.to_parquet('Estados_Concatenados/Ohio.parquet')"
   ]
  },
  {
   "cell_type": "markdown",
   "metadata": {},
   "source": [
    "## Oklahoma"
   ]
  },
  {
   "cell_type": "code",
   "execution_count": null,
   "metadata": {},
   "outputs": [],
   "source": [
    "Df_Oklahoma = cargar_y_concatenar_datasets_carpeta('Estados/review-Oklahoma')\n",
    "Df_Oklahoma.to_parquet('Estados_Concatenados/Oklahoma.parquet')"
   ]
  },
  {
   "cell_type": "markdown",
   "metadata": {},
   "source": [
    "## Oregon"
   ]
  },
  {
   "cell_type": "code",
   "execution_count": null,
   "metadata": {},
   "outputs": [],
   "source": [
    "Df_Oregon = cargar_y_concatenar_datasets_carpeta('Estados/review-Oregon')\n",
    "Df_Oregon.to_parquet('Estados_Concatenados/Oregon.parquet')"
   ]
  },
  {
   "cell_type": "markdown",
   "metadata": {},
   "source": [
    "## Pennsylvania"
   ]
  },
  {
   "cell_type": "code",
   "execution_count": null,
   "metadata": {},
   "outputs": [],
   "source": [
    "Df_Pennsylvania = cargar_y_concatenar_datasets_carpeta('Estados/review-Pennsylvania')\n",
    "Df_Pennsylvania.to_parquet('Estados_Concatenados/Pennsylvania.parquet')"
   ]
  },
  {
   "cell_type": "markdown",
   "metadata": {},
   "source": [
    "## Rhode Island"
   ]
  },
  {
   "cell_type": "code",
   "execution_count": null,
   "metadata": {},
   "outputs": [],
   "source": [
    "Df_Rhode_Island = cargar_y_concatenar_datasets_carpeta('Estados/review-Rhode_Island')\n",
    "Df_Rhode_Island.to_parquet('Estados_Concatenados/Rhode_Island.parquet')"
   ]
  },
  {
   "cell_type": "markdown",
   "metadata": {},
   "source": [
    "## South Carolina"
   ]
  },
  {
   "cell_type": "code",
   "execution_count": null,
   "metadata": {},
   "outputs": [],
   "source": [
    "Df_South_Carolina = cargar_y_concatenar_datasets_carpeta('Estados/review-South_Carolina')\n",
    "Df_South_Carolina.to_parquet('Estados_Concatenados/South_Carolina.parquet')"
   ]
  },
  {
   "cell_type": "markdown",
   "metadata": {},
   "source": [
    "## South Dakota"
   ]
  },
  {
   "cell_type": "code",
   "execution_count": null,
   "metadata": {},
   "outputs": [],
   "source": [
    "Df_South_Dakota = cargar_y_concatenar_datasets_carpeta('Estados/review-South_Dakota')\n",
    "Df_South_Dakota.to_parquet('Estados_Concatenados/South_Dakota.parquet')"
   ]
  },
  {
   "cell_type": "markdown",
   "metadata": {},
   "source": [
    "## Tennessee"
   ]
  },
  {
   "cell_type": "code",
   "execution_count": null,
   "metadata": {},
   "outputs": [],
   "source": [
    "Df_Tennessee = cargar_y_concatenar_datasets_carpeta('Estados/review-Tennessee')\n",
    "Df_Tennessee.to_parquet('Estados_Concatenados/Tennessee.parquet')"
   ]
  },
  {
   "cell_type": "markdown",
   "metadata": {},
   "source": [
    "## Texas"
   ]
  },
  {
   "cell_type": "code",
   "execution_count": null,
   "metadata": {},
   "outputs": [],
   "source": [
    "Df_Texas = cargar_y_concatenar_datasets_carpeta('Estados/review-Texas')\n",
    "Df_Texas.to_parquet('Estados_Concatenados/Texas.parquet')"
   ]
  },
  {
   "cell_type": "markdown",
   "metadata": {},
   "source": [
    "## Utah"
   ]
  },
  {
   "cell_type": "code",
   "execution_count": null,
   "metadata": {},
   "outputs": [],
   "source": [
    "Df_Utah = cargar_y_concatenar_datasets_carpeta('Estados/review-Utah')\n",
    "Df_Utah.to_parquet('Estados_Concatenados/Utah.parquet')"
   ]
  },
  {
   "cell_type": "markdown",
   "metadata": {},
   "source": [
    "## Vermont "
   ]
  },
  {
   "cell_type": "code",
   "execution_count": null,
   "metadata": {},
   "outputs": [],
   "source": [
    "Df_Vermont = cargar_y_concatenar_datasets_carpeta('Estados/review-Vermont')\n",
    "Df_Vermont.to_parquet('Estados_Concatenados/Vermont.parquet')"
   ]
  },
  {
   "cell_type": "markdown",
   "metadata": {},
   "source": [
    "## Virginia"
   ]
  },
  {
   "cell_type": "code",
   "execution_count": 31,
   "metadata": {},
   "outputs": [],
   "source": [
    "Df_Virginia = cargar_y_concatenar_datasets_carpeta('Estados/review-Virginia')\n",
    "Df_Virginia.to_parquet('Estados_Concatenados/Virginia.parquet')"
   ]
  },
  {
   "cell_type": "markdown",
   "metadata": {},
   "source": [
    "## Washington"
   ]
  },
  {
   "cell_type": "code",
   "execution_count": 36,
   "metadata": {},
   "outputs": [],
   "source": [
    "Df_Washington = cargar_y_concatenar_datasets_carpeta('Estados/review-Washington')\n",
    "Df_Washington.to_parquet('Estados_Concatenados/Washington.parquet')"
   ]
  },
  {
   "cell_type": "markdown",
   "metadata": {},
   "source": [
    "## West Virginia"
   ]
  },
  {
   "cell_type": "code",
   "execution_count": 37,
   "metadata": {},
   "outputs": [],
   "source": [
    "Df_West_Virginia = cargar_y_concatenar_datasets_carpeta('Estados/review-West_Virginia')\n",
    "Df_West_Virginia.to_parquet('Estados_Concatenados/West_Virginia.parquet')"
   ]
  },
  {
   "cell_type": "markdown",
   "metadata": {},
   "source": [
    "## Wisconsin"
   ]
  },
  {
   "cell_type": "code",
   "execution_count": 38,
   "metadata": {},
   "outputs": [],
   "source": [
    "Df_Wisconsin = cargar_y_concatenar_datasets_carpeta('Estados/review-Wisconsin')\n",
    "Df_Wisconsin.to_parquet('Estados_Concatenados/Wisconsin.parquet')"
   ]
  },
  {
   "cell_type": "markdown",
   "metadata": {},
   "source": [
    "## Wyoming"
   ]
  },
  {
   "cell_type": "code",
   "execution_count": 39,
   "metadata": {},
   "outputs": [],
   "source": [
    "Df_Wyoming = cargar_y_concatenar_datasets_carpeta('Estados/review-Wyoming')\n",
    "Df_Wyoming.to_parquet('Estados_Concatenados/Wyoming.parquet')"
   ]
  }
 ],
 "metadata": {
  "kernelspec": {
   "display_name": "Proyecto_Final_Yelp",
   "language": "python",
   "name": "python3"
  },
  "language_info": {
   "codemirror_mode": {
    "name": "ipython",
    "version": 3
   },
   "file_extension": ".py",
   "mimetype": "text/x-python",
   "name": "python",
   "nbconvert_exporter": "python",
   "pygments_lexer": "ipython3",
   "version": "3.11.0"
  }
 },
 "nbformat": 4,
 "nbformat_minor": 2
}
